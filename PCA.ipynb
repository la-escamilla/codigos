{
 "cells": [
  {
   "cell_type": "code",
   "execution_count": 1,
   "metadata": {},
   "outputs": [],
   "source": [
    "import numpy as np\n",
    "import matplotlib.pyplot as plt"
   ]
  },
  {
   "cell_type": "code",
   "execution_count": 19,
   "metadata": {},
   "outputs": [
    {
     "name": "stdout",
     "output_type": "stream",
     "text": [
      "[[0.61655556 0.61544444]\n",
      " [0.61544444 0.71655556]]\n",
      "eigenvalores [0.0490834  1.28402771]\n",
      "eigenvectores [[-0.73517866 -0.6778734 ]\n",
      " [ 0.6778734  -0.73517866]]\n"
     ]
    },
    {
     "data": {
      "image/png": "[encoded data removed]",
      "text/plain": [
       "<Figure size 360x360 with 1 Axes>"
      ]
     },
     "metadata": {
      "needs_background": "light"
     },
     "output_type": "display_data"
    }
   ],
   "source": [
    "x = [2.5,0.5,2.2,1.9,3.1,2.3,2,1,1.5,1.1]\n",
    "y = [2.4,0.7,2.9,2.2,3.0,2.7,1.6,1.1,1.6,0.9]\n",
    "data = np.vstack([x,y])\n",
    "cov = np.cov(x,y)\n",
    "eigen = np.linalg.eig(cov)\n",
    "mat = np.matrix(eigen[1])\n",
    "plt.figure(figsize=(5,5))\n",
    "plt.scatter(x,y)\n",
    "print cov\n",
    "print 'eigenvalores', eigen[0]\n",
    "print 'eigenvectores', eigen[1]#[0,0]"
   ]
  },
  {
   "cell_type": "code",
   "execution_count": 20,
   "metadata": {},
   "outputs": [
    {
     "name": "stdout",
     "output_type": "stream",
     "text": [
      "[[-0.73517866 -0.6778734 ]\n",
      " [ 0.6778734  -0.73517866]] [[2.5 0.5 2.2 1.9 3.1 2.3 2.  1.  1.5 1.1]\n",
      " [2.4 0.7 2.9 2.2 3.  2.7 1.6 1.1 1.6 0.9]]\n"
     ]
    }
   ],
   "source": [
    "print mat, data"
   ]
  },
  {
   "cell_type": "code",
   "execution_count": 21,
   "metadata": {},
   "outputs": [
    {
     "ename": "NameError",
     "evalue": "name 'new_data' is not defined",
     "output_type": "error",
     "traceback": [
      "\u001b[1;31m---------------------------------------------------------------------------\u001b[0m",
      "\u001b[1;31mNameError\u001b[0m                                 Traceback (most recent call last)",
      "\u001b[1;32m<ipython-input-21-ef2668a010bc>\u001b[0m in \u001b[0;36m<module>\u001b[1;34m()\u001b[0m\n\u001b[1;32m----> 1\u001b[1;33m \u001b[1;32mprint\u001b[0m \u001b[0mnew_data\u001b[0m\u001b[1;33m[\u001b[0m\u001b[1;36m1\u001b[0m\u001b[1;33m]\u001b[0m\u001b[1;33m\u001b[0m\u001b[0m\n\u001b[0m\u001b[0;32m      2\u001b[0m \u001b[1;32mprint\u001b[0m \u001b[0mnew_data\u001b[0m\u001b[1;33m[\u001b[0m\u001b[1;36m1\u001b[0m\u001b[1;33m]\u001b[0m\u001b[1;33m[\u001b[0m\u001b[1;33m:\u001b[0m\u001b[1;33m:\u001b[0m\u001b[1;33m-\u001b[0m\u001b[1;36m1\u001b[0m\u001b[1;33m]\u001b[0m\u001b[1;33m\u001b[0m\u001b[0m\n",
      "\u001b[1;31mNameError\u001b[0m: name 'new_data' is not defined"
     ]
    }
   ],
   "source": [
    "print new_data[1]\n",
    "print new_data[1][::-1]\n"
   ]
  },
  {
   "cell_type": "code",
   "execution_count": 22,
   "metadata": {},
   "outputs": [
    {
     "data": {
      "text/plain": [
       "<matplotlib.collections.PathCollection at 0xaeaa048>"
      ]
     },
     "execution_count": 22,
     "metadata": {},
     "output_type": "execute_result"
    },
    {
     "data": {
      "image/png": "[encoded data removed]",
      "text/plain": [
       "<Figure size 504x144 with 1 Axes>"
      ]
     },
     "metadata": {
      "needs_background": "light"
     },
     "output_type": "display_data"
    }
   ],
   "source": [
    "new_data = np.asarray(np.matmul(np.transpose(mat), data))\n",
    "plt.figure(figsize=(7,2))\n",
    "plt.scatter(new_data[1],new_data[0])"
   ]
  },
  {
   "cell_type": "code",
   "execution_count": 23,
   "metadata": {},
   "outputs": [
    {
     "data": {
      "text/plain": [
       "<matplotlib.collections.PathCollection at 0xa505c88>"
      ]
     },
     "execution_count": 23,
     "metadata": {},
     "output_type": "execute_result"
    },
    {
     "data": {
      "image/png": "[encoded data removed]",
      "text/plain": [
       "<Figure size 360x360 with 1 Axes>"
      ]
     },
     "metadata": {
      "needs_background": "light"
     },
     "output_type": "display_data"
    }
   ],
   "source": [
    "data_reduced = np.asarray(np.matmul(np.transpose(np.matrix([mat[0,1],mat[1,1]])),(np.matrix(new_data[1]))))\n",
    "plt.figure(figsize=(5,5))\n",
    "plt.scatter(data_reduced[0],data_reduced[1])"
   ]
  },
  {
   "cell_type": "code",
   "execution_count": 24,
   "metadata": {},
   "outputs": [
    {
     "data": {
      "text/plain": [
       "<matplotlib.collections.PathCollection at 0xab8c470>"
      ]
     },
     "execution_count": 24,
     "metadata": {},
     "output_type": "execute_result"
    },
    {
     "data": {
      "image/png": "[encoded data removed]",
      "text/plain": [
       "<Figure size 360x360 with 1 Axes>"
      ]
     },
     "metadata": {
      "needs_background": "light"
     },
     "output_type": "display_data"
    }
   ],
   "source": [
    "plt.figure(figsize=(5,5))\n",
    "plt.scatter(x,y)\n",
    "plt.scatter(data_reduced[0],data_reduced[1])"
   ]
  },
  {
   "cell_type": "markdown",
   "metadata": {},
   "source": [
    "# Funcion bines EoS DE"
   ]
  },
  {
   "cell_type": "code",
   "execution_count": 2,
   "metadata": {},
   "outputs": [],
   "source": [
    "import numpy as np\n",
    "import matplotlib.pyplot as plt"
   ]
  },
  {
   "cell_type": "code",
   "execution_count": 3,
   "metadata": {},
   "outputs": [
    {
     "name": "stdout",
     "output_type": "stream",
     "text": [
      "8\n",
      "9\n",
      "100\n"
     ]
    }
   ],
   "source": [
    "#w_i = [-1,-1.2,-1.1,-0.9,-1.1,-0.9,-0.7,-1.5]\n",
    "\n",
    "w_i = [1,  1,  1,  1,  1,  1,  2,  2]\n",
    "z_i = [0,0.1,0.2,0.4,0.6,0.8,1.0,1.3,2.5]\n",
    "\n",
    "#w_i = [1,3,2,1]\n",
    "#z_i = [0,2.4,2.9,2.5,3]\n",
    "\n",
    "z=np.linspace(0.0,4,100)\n",
    "print len(w_i)\n",
    "print len(z_i)\n",
    "print len(z)"
   ]
  },
  {
   "cell_type": "code",
   "execution_count": 4,
   "metadata": {},
   "outputs": [
    {
     "name": "stdout",
     "output_type": "stream",
     "text": [
      "[1, 1, 1, 1, 1, 1, 2, 2]\n"
     ]
    },
    {
     "data": {
      "text/plain": [
       "[<matplotlib.lines.Line2D at 0x8e06358>]"
      ]
     },
     "execution_count": 4,
     "metadata": {},
     "output_type": "execute_result"
    },
    {
     "data": {
      "image/png": "[encoded data removed]",
      "text/plain": [
       "<Figure size 432x288 with 1 Axes>"
      ]
     },
     "metadata": {
      "needs_background": "light"
     },
     "output_type": "display_data"
    }
   ],
   "source": [
    "#intento del peiper,smoothing funct https://www.j-raedler.de/2010/10/smooth-transition-between-functions-with-tanh/\n",
    "w_z=[]\n",
    "def bines(w_2,w_1,z_2,z_1,eta):\n",
    "    return (w_2-w_1)*(1+np.tanh((z_2-z_1)/eta))/2\n",
    "\n",
    "for ii in range(len(z)):\n",
    "    w=w_i[0]\n",
    "    for jj in range(len(w_i)-1):\n",
    "        w+=bines(w_i[jj+1],w_i[jj],z[ii],z_i[jj+1],0.001)\n",
    "    w_z.append(w)\n",
    "print w_i\n",
    "plt.plot(z,w_z)"
   ]
  },
  {
   "cell_type": "code",
   "execution_count": 5,
   "metadata": {},
   "outputs": [],
   "source": [
    "from scipy.integrate import quad\n",
    "import numpy as np\n",
    "import matplotlib.pyplot as plt\n",
    "from scipy.interpolate import interp1d\n",
    "\n",
    "\n",
    "#ecuacion de estado de la energia oscura en forma de bines\n",
    "\n",
    "def eos(z, xi):\n",
    "    w_i = [-1 ,-1.2 ,-1.1 ,-0.9 ,-1.1 ,-0.9,-0.7,-1.5]\n",
    "    #w_i = [1,1,1,1,1,1,2,2]\n",
    "    z_i = np.linspace(0.0,3.0,len(w_i)+1)\n",
    "    #z_i = [0  ,0.1  ,0.2  , 0.4 , 0.6 , 0.8, 1.0 ,1.3]\n",
    "    def bines(w_2,w_1,z_2,z_1,eta):\n",
    "        return (w_2-w_1)*(1+np.tanh((z_2-z_1)/eta))/2\n",
    "    w=w_i[0]\n",
    "    for jj in range(len(w_i)-1):\n",
    "        w+=bines(w_i[jj+1],w_i[jj],z,z_i[jj+1],xi)\n",
    "    return w\n",
    "\n",
    "y = [-1 ,-1.2 ,-1.1 ,-0.9 ,-1.1 ,-0.9,-0.7,-1.5]\n",
    "x = np.linspace(0.0,2.625,len(y))\n",
    "d = (x[1]-x[0])/2.\n",
    "x = np.linspace(0.0+d,2.625+d,len(y))\n",
    "f = interp1d(x, y, kind='linear')\n",
    "    "
   ]
  },
  {
   "cell_type": "code",
   "execution_count": 6,
   "metadata": {},
   "outputs": [
    {
     "data": {
      "text/plain": [
       "[-1, -1.2, -1.1, -0.9, -1.1, -0.9, -0.7, -1.5]"
      ]
     },
     "execution_count": 6,
     "metadata": {},
     "output_type": "execute_result"
    }
   ],
   "source": [
    "y"
   ]
  },
  {
   "cell_type": "code",
   "execution_count": 7,
   "metadata": {},
   "outputs": [
    {
     "name": "stdout",
     "output_type": "stream",
     "text": [
      "-1.25\n"
     ]
    }
   ],
   "source": [
    "#valor de la integral para la rho de la energia oscura\n",
    "z_intervalo=2.5\n",
    "#quad(lambda b: 3.0*(1.0+eos(b))/(1.0+b),0.0,z_intervalo)[0]\n",
    "r=quad(lambda b: eos(b,0.01)/2.0,0.0,z_intervalo)[0]\n",
    "print r"
   ]
  },
  {
   "cell_type": "code",
   "execution_count": 8,
   "metadata": {},
   "outputs": [
    {
     "data": {
      "text/plain": [
       "array([0.  , 0.75, 1.5 , 2.25, 3.  ])"
      ]
     },
     "execution_count": 8,
     "metadata": {},
     "output_type": "execute_result"
    }
   ],
   "source": [
    "eos(0.986,0.01)\n",
    "np.linspace(0.0,3.0,5)"
   ]
  },
  {
   "cell_type": "code",
   "execution_count": 13,
   "metadata": {},
   "outputs": [
    {
     "data": {
      "text/plain": [
       "<matplotlib.legend.Legend at 0xb5a0c50>"
      ]
     },
     "execution_count": 13,
     "metadata": {},
     "output_type": "execute_result"
    },
    {
     "data": {
      "image/png": "[encoded data removed]",
      "text/plain": [
       "<Figure size 432x288 with 1 Axes>"
      ]
     },
     "metadata": {
      "needs_background": "light"
     },
     "output_type": "display_data"
    }
   ],
   "source": [
    "z=np.linspace(0.0,3.2,100)\n",
    "plt.plot(z,eos(z,0.001))\n",
    "plt.plot(z,eos(z,0.1))\n",
    "plt.plot(x,f(x), linestyle='--')\n",
    "plt.ylabel(r'f(z)')\n",
    "plt.xlabel(r'z')\n",
    "plt.legend((r'$\\xi = 0.01$',r'$\\xi = 0.1$',r'Linear interp.'))\n",
    "#plt.savefig('different_xi.pdf')"
   ]
  },
  {
   "cell_type": "code",
   "execution_count": 10,
   "metadata": {},
   "outputs": [
    {
     "data": {
      "text/plain": [
       "-1.5"
      ]
     },
     "execution_count": 10,
     "metadata": {},
     "output_type": "execute_result"
    }
   ],
   "source": [
    "eos(2)"
   ]
  },
  {
   "cell_type": "code",
   "execution_count": 9,
   "metadata": {},
   "outputs": [],
   "source": [
    "#aqui ya esta la funcion lista en una sola definicion que devuelve el valor de la integral para SimpleMC\n",
    "def luisfunction(z_l):\n",
    "    def eos(z):\n",
    "        w_i = [-1,-1.2,-1.1,-0.9,-1.1,-0.9,-0.7,-1.5]\n",
    "        z_i = [0,0.1,0.2,0.4,0.6,0.8,1.0,1.3,2.5]\n",
    "        def bines(w_2,w_1,z_2,z_1,eta):\n",
    "            return (w_2-w_1)*(1+np.tanh((z_2-z_1)/eta))/2\n",
    "        w=w_i[0]\n",
    "        for jj in range(len(w_i)-1):\n",
    "            w+=bines(w_i[jj+1],w_i[jj],z,z_i[jj+1],0.001)\n",
    "        return w\n",
    "    return quad(lambda b: 3*(1+eos(b))/(1+b),0,z_l)[0]"
   ]
  },
  {
   "cell_type": "code",
   "execution_count": 10,
   "metadata": {},
   "outputs": [
    {
     "name": "stderr",
     "output_type": "stream",
     "text": [
      "C:\\Users\\52811\\AppData\\Local\\Continuum\\anaconda2\\lib\\site-packages\\ipykernel_launcher.py:12: IntegrationWarning: The maximum number of subdivisions (50) has been achieved.\n",
      "  If increasing the limit yields no improvement it is advised to analyze \n",
      "  the integrand in order to determine the difficulties.  If the position of a \n",
      "  local difficulty can be determined (singularity, discontinuity) one will \n",
      "  probably gain from splitting up the interval and calling the integrator \n",
      "  on the subranges.  Perhaps a special-purpose integrator should be used.\n",
      "  if sys.path[0] == '':\n"
     ]
    },
    {
     "data": {
      "text/plain": [
       "-0.7664116149656833"
      ]
     },
     "execution_count": 10,
     "metadata": {},
     "output_type": "execute_result"
    }
   ],
   "source": [
    "luisfunction(3.0)"
   ]
  },
  {
   "cell_type": "code",
   "execution_count": 103,
   "metadata": {},
   "outputs": [],
   "source": [
    "#aqui ya esta la funcion lista en una sola definicion que devuelve el valor de la integral para SimpleMC\n",
    "#pero aqui esta por partes, en lugar de estar definida en una sola funcion\n",
    "def bines(w_2,w_1,z_2,z_1,eta):\n",
    "    return (w_2-w_1)*(1+np.tanh((z_2-z_1)/eta))/2\n",
    "\n",
    "def eos(z):\n",
    "    w_i = [-10,10,-1,-1,-1,-1,-1,-20]\n",
    "    z_i = [0,0.1,0.2,0.4,0.6,0.8,1.0,1.3,2.5]        \n",
    "    w=w_i[0]\n",
    "    for jj in range(len(w_i)-1):\n",
    "        w+=bines(w_i[jj+1],w_i[jj],z,z_i[jj+1],0.001)\n",
    "    return w\n",
    "\n",
    "\n",
    "def luisfunction(z_l):\n",
    "    return quad(lambda b: 3*(1+eos(b))/(1+b),0,z_l)[0]\n",
    "\n",
    "def hz(a):\n",
    "    z=1.0/a -1\n",
    "    return (0.28/a**3+(0.7)*(np.exp(luisfunction(z))))"
   ]
  },
  {
   "cell_type": "code",
   "execution_count": 104,
   "metadata": {},
   "outputs": [
    {
     "data": {
      "text/plain": [
       "0.2980115536020208"
      ]
     },
     "execution_count": 104,
     "metadata": {},
     "output_type": "execute_result"
    }
   ],
   "source": [
    "luisfunction(0.79)"
   ]
  },
  {
   "cell_type": "code",
   "execution_count": 105,
   "metadata": {},
   "outputs": [
    {
     "data": {
      "text/plain": [
       "1.3471773525406225"
      ]
     },
     "execution_count": 105,
     "metadata": {},
     "output_type": "execute_result"
    }
   ],
   "source": [
    "np.exp(luisfunction(0.79))"
   ]
  },
  {
   "cell_type": "code",
   "execution_count": 108,
   "metadata": {},
   "outputs": [
    {
     "data": {
      "text/plain": [
       "[<matplotlib.lines.Line2D at 0xbf7cbe0>]"
      ]
     },
     "execution_count": 108,
     "metadata": {},
     "output_type": "execute_result"
    },
    {
     "data": {
      "image/png": "[encoded data removed]",
      "text/plain": [
       "<Figure size 432x288 with 1 Axes>"
      ]
     },
     "metadata": {
      "needs_background": "light"
     },
     "output_type": "display_data"
    }
   ],
   "source": [
    "#prueba graficando el parametro de jobol (hubble)\n",
    "\n",
    "hubble=[]\n",
    "aa =[]\n",
    "for ii in range(len(z)):\n",
    "    aa.append(1.0/(1.0+z[ii]))\n",
    "    hubble.append(67*(hz(aa[ii])**0.5))\n",
    "plt.plot(z,hubble)"
   ]
  },
  {
   "cell_type": "markdown",
   "metadata": {},
   "source": [
    "# Interpolacion"
   ]
  },
  {
   "cell_type": "code",
   "execution_count": 4,
   "metadata": {},
   "outputs": [],
   "source": [
    "from scipy.interpolate import interp1d\n",
    "from scipy.integrate import quad\n",
    "def luisfunction(z):\n",
    "        if (z>=0.0 and z<=3.0):\n",
    "            y = [ 2.0, 2.0, 2.0,  0.0]\n",
    "            x = [ 0.0, 1.0, 2.0,  3.0]\n",
    "            f = interp1d(x, y, kind='linear')\n",
    "            rhow = f(z)\n",
    "        else:\n",
    "            rhow = -1.0\n",
    "        resultado = quad(lambda b: rhow, 0.0, z )\n",
    "        return resultado[0]"
   ]
  },
  {
   "cell_type": "code",
   "execution_count": 5,
   "metadata": {},
   "outputs": [
    {
     "data": {
      "text/plain": [
       "0.0"
      ]
     },
     "execution_count": 5,
     "metadata": {},
     "output_type": "execute_result"
    }
   ],
   "source": [
    "luisfunction(3.0)"
   ]
  },
  {
   "cell_type": "code",
   "execution_count": 172,
   "metadata": {},
   "outputs": [],
   "source": [
    "y = [ 2.0, 2.0, 2.0,  1.0]\n",
    "x = [ 0.0, 1.0, 2.0,  3.0]\n",
    "f = interp1d(x, y, kind='linear')\n",
    "rhow = f(3)"
   ]
  },
  {
   "cell_type": "code",
   "execution_count": 173,
   "metadata": {},
   "outputs": [
    {
     "data": {
      "text/plain": [
       "3.0"
      ]
     },
     "execution_count": 173,
     "metadata": {},
     "output_type": "execute_result"
    }
   ],
   "source": [
    "quad(lambda b: rhow, 0.0, 3 )[0]"
   ]
  },
  {
   "cell_type": "code",
   "execution_count": 174,
   "metadata": {},
   "outputs": [
    {
     "data": {
      "text/plain": [
       "[<matplotlib.lines.Line2D at 0xcb42a58>]"
      ]
     },
     "execution_count": 174,
     "metadata": {},
     "output_type": "execute_result"
    },
    {
     "data": {
      "image/png": "[encoded data removed]",
      "text/plain": [
       "<Figure size 432x288 with 1 Axes>"
      ]
     },
     "metadata": {
      "needs_background": "light"
     },
     "output_type": "display_data"
    }
   ],
   "source": [
    "plt.plot(z,f(z))"
   ]
  },
  {
   "cell_type": "markdown",
   "metadata": {},
   "source": [
    "# Prueba iris-setosa"
   ]
  },
  {
   "cell_type": "code",
   "execution_count": 6,
   "metadata": {},
   "outputs": [
    {
     "data": {
      "text/html": [
       "<div>\n",
       "<style scoped>\n",
       "    .dataframe tbody tr th:only-of-type {\n",
       "        vertical-align: middle;\n",
       "    }\n",
       "\n",
       "    .dataframe tbody tr th {\n",
       "        vertical-align: top;\n",
       "    }\n",
       "\n",
       "    .dataframe thead th {\n",
       "        text-align: right;\n",
       "    }\n",
       "</style>\n",
       "<table border=\"1\" class=\"dataframe\">\n",
       "  <thead>\n",
       "    <tr style=\"text-align: right;\">\n",
       "      <th></th>\n",
       "      <th>sepal length</th>\n",
       "      <th>sepal width</th>\n",
       "      <th>petal length</th>\n",
       "      <th>petal width</th>\n",
       "      <th>target</th>\n",
       "    </tr>\n",
       "  </thead>\n",
       "  <tbody>\n",
       "    <tr>\n",
       "      <th>0</th>\n",
       "      <td>5.1</td>\n",
       "      <td>3.5</td>\n",
       "      <td>1.4</td>\n",
       "      <td>0.2</td>\n",
       "      <td>Iris-setosa</td>\n",
       "    </tr>\n",
       "    <tr>\n",
       "      <th>1</th>\n",
       "      <td>4.9</td>\n",
       "      <td>3.0</td>\n",
       "      <td>1.4</td>\n",
       "      <td>0.2</td>\n",
       "      <td>Iris-setosa</td>\n",
       "    </tr>\n",
       "    <tr>\n",
       "      <th>2</th>\n",
       "      <td>4.7</td>\n",
       "      <td>3.2</td>\n",
       "      <td>1.3</td>\n",
       "      <td>0.2</td>\n",
       "      <td>Iris-setosa</td>\n",
       "    </tr>\n",
       "    <tr>\n",
       "      <th>3</th>\n",
       "      <td>4.6</td>\n",
       "      <td>3.1</td>\n",
       "      <td>1.5</td>\n",
       "      <td>0.2</td>\n",
       "      <td>Iris-setosa</td>\n",
       "    </tr>\n",
       "    <tr>\n",
       "      <th>4</th>\n",
       "      <td>5.0</td>\n",
       "      <td>3.6</td>\n",
       "      <td>1.4</td>\n",
       "      <td>0.2</td>\n",
       "      <td>Iris-setosa</td>\n",
       "    </tr>\n",
       "  </tbody>\n",
       "</table>\n",
       "</div>"
      ],
      "text/plain": [
       "   sepal length  sepal width  petal length  petal width       target\n",
       "0           5.1          3.5           1.4          0.2  Iris-setosa\n",
       "1           4.9          3.0           1.4          0.2  Iris-setosa\n",
       "2           4.7          3.2           1.3          0.2  Iris-setosa\n",
       "3           4.6          3.1           1.5          0.2  Iris-setosa\n",
       "4           5.0          3.6           1.4          0.2  Iris-setosa"
      ]
     },
     "execution_count": 6,
     "metadata": {},
     "output_type": "execute_result"
    }
   ],
   "source": [
    "import pandas as pd\n",
    "\n",
    "# load dataset into Pandas DataFrame\n",
    "df = pd.read_csv('iris.data', names=['sepal length','sepal width','petal length','petal width','target'])\n",
    "df.head()"
   ]
  },
  {
   "cell_type": "code",
   "execution_count": 10,
   "metadata": {},
   "outputs": [],
   "source": [
    "from sklearn.preprocessing import StandardScaler\n",
    "features = ['sepal length', 'sepal width', 'petal length', 'petal width']\n",
    "# Separating out the features\n",
    "x = df.loc[:, features].values\n",
    "# Separating out the target\n",
    "y = df.loc[:,['target']].values\n",
    "# Standardizing the features\n",
    "x = StandardScaler().fit_transform(x)"
   ]
  },
  {
   "cell_type": "code",
   "execution_count": 12,
   "metadata": {},
   "outputs": [],
   "source": [
    "from sklearn.decomposition import PCA\n",
    "pca = PCA(n_components=2)\n",
    "principalComponents = pca.fit_transform(x)\n",
    "principalDf = pd.DataFrame(data = principalComponents\n",
    "             , columns = ['principal component 1', 'principal component 2'])"
   ]
  },
  {
   "cell_type": "code",
   "execution_count": 18,
   "metadata": {},
   "outputs": [
    {
     "data": {
      "text/html": [
       "<div>\n",
       "<style scoped>\n",
       "    .dataframe tbody tr th:only-of-type {\n",
       "        vertical-align: middle;\n",
       "    }\n",
       "\n",
       "    .dataframe tbody tr th {\n",
       "        vertical-align: top;\n",
       "    }\n",
       "\n",
       "    .dataframe thead th {\n",
       "        text-align: right;\n",
       "    }\n",
       "</style>\n",
       "<table border=\"1\" class=\"dataframe\">\n",
       "  <thead>\n",
       "    <tr style=\"text-align: right;\">\n",
       "      <th></th>\n",
       "      <th>principal component 1</th>\n",
       "      <th>principal component 2</th>\n",
       "      <th>target</th>\n",
       "    </tr>\n",
       "  </thead>\n",
       "  <tbody>\n",
       "    <tr>\n",
       "      <th>0</th>\n",
       "      <td>-2.264542</td>\n",
       "      <td>0.505704</td>\n",
       "      <td>Iris-setosa</td>\n",
       "    </tr>\n",
       "    <tr>\n",
       "      <th>1</th>\n",
       "      <td>-2.086426</td>\n",
       "      <td>-0.655405</td>\n",
       "      <td>Iris-setosa</td>\n",
       "    </tr>\n",
       "    <tr>\n",
       "      <th>2</th>\n",
       "      <td>-2.367950</td>\n",
       "      <td>-0.318477</td>\n",
       "      <td>Iris-setosa</td>\n",
       "    </tr>\n",
       "    <tr>\n",
       "      <th>3</th>\n",
       "      <td>-2.304197</td>\n",
       "      <td>-0.575368</td>\n",
       "      <td>Iris-setosa</td>\n",
       "    </tr>\n",
       "    <tr>\n",
       "      <th>4</th>\n",
       "      <td>-2.388777</td>\n",
       "      <td>0.674767</td>\n",
       "      <td>Iris-setosa</td>\n",
       "    </tr>\n",
       "  </tbody>\n",
       "</table>\n",
       "</div>"
      ],
      "text/plain": [
       "   principal component 1  principal component 2       target\n",
       "0              -2.264542               0.505704  Iris-setosa\n",
       "1              -2.086426              -0.655405  Iris-setosa\n",
       "2              -2.367950              -0.318477  Iris-setosa\n",
       "3              -2.304197              -0.575368  Iris-setosa\n",
       "4              -2.388777               0.674767  Iris-setosa"
      ]
     },
     "execution_count": 18,
     "metadata": {},
     "output_type": "execute_result"
    }
   ],
   "source": [
    "finalDf = pd.concat([principalDf, df[['target']]], axis = 1)\n",
    "finalDf.head()"
   ]
  },
  {
   "cell_type": "code",
   "execution_count": 17,
   "metadata": {},
   "outputs": [
    {
     "data": {
      "image/png": "[encoded data removed]",
      "text/plain": [
       "<Figure size 576x576 with 1 Axes>"
      ]
     },
     "metadata": {
      "needs_background": "light"
     },
     "output_type": "display_data"
    }
   ],
   "source": [
    "import matplotlib.pyplot as plt\n",
    "fig = plt.figure(figsize = (8,8))\n",
    "ax = fig.add_subplot(1,1,1) \n",
    "ax.set_xlabel('Principal Component 1', fontsize = 15)\n",
    "ax.set_ylabel('Principal Component 2', fontsize = 15)\n",
    "ax.set_title('2 component PCA', fontsize = 20)\n",
    "targets = ['Iris-setosa', 'Iris-versicolor', 'Iris-virginica']\n",
    "colors = ['r', 'g', 'b']\n",
    "for target, color in zip(targets,colors):\n",
    "    indicesToKeep = finalDf['target'] == target\n",
    "    ax.scatter(finalDf.loc[indicesToKeep, 'principal component 1']\n",
    "               , finalDf.loc[indicesToKeep, 'principal component 2']\n",
    "               , c = color\n",
    "               , s = 50)\n",
    "ax.legend(targets)\n",
    "ax.grid()"
   ]
  },
  {
   "cell_type": "markdown",
   "metadata": {},
   "source": [
    "# Prueba cadenas owaCDM"
   ]
  },
  {
   "cell_type": "code",
   "execution_count": 1,
   "metadata": {},
   "outputs": [
    {
     "data": {
      "text/html": [
       "<div>\n",
       "<style scoped>\n",
       "    .dataframe tbody tr th:only-of-type {\n",
       "        vertical-align: middle;\n",
       "    }\n",
       "\n",
       "    .dataframe tbody tr th {\n",
       "        vertical-align: top;\n",
       "    }\n",
       "\n",
       "    .dataframe thead th {\n",
       "        text-align: right;\n",
       "    }\n",
       "</style>\n",
       "<table border=\"1\" class=\"dataframe\">\n",
       "  <thead>\n",
       "    <tr style=\"text-align: right;\">\n",
       "      <th></th>\n",
       "      <th>0</th>\n",
       "      <th>1</th>\n",
       "      <th>2</th>\n",
       "      <th>3</th>\n",
       "      <th>4</th>\n",
       "      <th>5</th>\n",
       "      <th>6</th>\n",
       "      <th>7</th>\n",
       "      <th>8</th>\n",
       "      <th>9</th>\n",
       "      <th>...</th>\n",
       "      <th>11</th>\n",
       "      <th>12</th>\n",
       "      <th>13</th>\n",
       "      <th>14</th>\n",
       "      <th>15</th>\n",
       "      <th>16</th>\n",
       "      <th>17</th>\n",
       "      <th>18</th>\n",
       "      <th>19</th>\n",
       "      <th>20</th>\n",
       "    </tr>\n",
       "  </thead>\n",
       "  <tbody>\n",
       "    <tr>\n",
       "      <th>0</th>\n",
       "      <td>3.422770e-08</td>\n",
       "      <td>34.3805</td>\n",
       "      <td>0.273375</td>\n",
       "      <td>0.022570</td>\n",
       "      <td>0.671650</td>\n",
       "      <td>-1.210200</td>\n",
       "      <td>-0.783771</td>\n",
       "      <td>-0.931326</td>\n",
       "      <td>-1.20521</td>\n",
       "      <td>-1.08229</td>\n",
       "      <td>...</td>\n",
       "      <td>-1.38604</td>\n",
       "      <td>-0.091940</td>\n",
       "      <td>-1.38050</td>\n",
       "      <td>-0.872042</td>\n",
       "      <td>-1.90805</td>\n",
       "      <td>-0.000202</td>\n",
       "      <td>-1.024780</td>\n",
       "      <td>-17.4259</td>\n",
       "      <td>-10.9613</td>\n",
       "      <td>-0.715721</td>\n",
       "    </tr>\n",
       "    <tr>\n",
       "      <th>1</th>\n",
       "      <td>2.519780e-08</td>\n",
       "      <td>36.3793</td>\n",
       "      <td>0.270702</td>\n",
       "      <td>0.022534</td>\n",
       "      <td>0.650538</td>\n",
       "      <td>-1.202980</td>\n",
       "      <td>-0.768726</td>\n",
       "      <td>-0.855344</td>\n",
       "      <td>-1.22204</td>\n",
       "      <td>-1.06058</td>\n",
       "      <td>...</td>\n",
       "      <td>-1.43862</td>\n",
       "      <td>-0.750095</td>\n",
       "      <td>-1.20097</td>\n",
       "      <td>-0.554546</td>\n",
       "      <td>-2.66105</td>\n",
       "      <td>-0.021655</td>\n",
       "      <td>-0.557827</td>\n",
       "      <td>-17.7322</td>\n",
       "      <td>-12.2770</td>\n",
       "      <td>-0.624025</td>\n",
       "    </tr>\n",
       "    <tr>\n",
       "      <th>2</th>\n",
       "      <td>1.851770e-08</td>\n",
       "      <td>35.6091</td>\n",
       "      <td>0.289326</td>\n",
       "      <td>0.022395</td>\n",
       "      <td>0.660180</td>\n",
       "      <td>-1.087100</td>\n",
       "      <td>-0.730883</td>\n",
       "      <td>-0.962856</td>\n",
       "      <td>-1.03140</td>\n",
       "      <td>-1.14549</td>\n",
       "      <td>...</td>\n",
       "      <td>-1.26045</td>\n",
       "      <td>-0.019958</td>\n",
       "      <td>-2.79618</td>\n",
       "      <td>-1.348600</td>\n",
       "      <td>-1.48507</td>\n",
       "      <td>-0.014287</td>\n",
       "      <td>-0.769406</td>\n",
       "      <td>-17.7682</td>\n",
       "      <td>-11.0753</td>\n",
       "      <td>-0.332037</td>\n",
       "    </tr>\n",
       "    <tr>\n",
       "      <th>3</th>\n",
       "      <td>1.573080e-07</td>\n",
       "      <td>34.1027</td>\n",
       "      <td>0.281314</td>\n",
       "      <td>0.022603</td>\n",
       "      <td>0.649340</td>\n",
       "      <td>-1.008480</td>\n",
       "      <td>-0.819688</td>\n",
       "      <td>-0.994546</td>\n",
       "      <td>-1.14205</td>\n",
       "      <td>-1.05941</td>\n",
       "      <td>...</td>\n",
       "      <td>-1.23207</td>\n",
       "      <td>-0.120687</td>\n",
       "      <td>-1.24485</td>\n",
       "      <td>-0.590725</td>\n",
       "      <td>-2.22128</td>\n",
       "      <td>-0.015074</td>\n",
       "      <td>-0.742644</td>\n",
       "      <td>-16.8290</td>\n",
       "      <td>-11.5345</td>\n",
       "      <td>-0.803957</td>\n",
       "    </tr>\n",
       "    <tr>\n",
       "      <th>4</th>\n",
       "      <td>1.302370e-07</td>\n",
       "      <td>33.9050</td>\n",
       "      <td>0.287829</td>\n",
       "      <td>0.022483</td>\n",
       "      <td>0.649950</td>\n",
       "      <td>-0.965794</td>\n",
       "      <td>-0.819898</td>\n",
       "      <td>-0.974392</td>\n",
       "      <td>-1.07458</td>\n",
       "      <td>-1.03297</td>\n",
       "      <td>...</td>\n",
       "      <td>-1.22571</td>\n",
       "      <td>-0.088179</td>\n",
       "      <td>-1.42484</td>\n",
       "      <td>-0.844115</td>\n",
       "      <td>-1.94515</td>\n",
       "      <td>-0.020182</td>\n",
       "      <td>-0.719417</td>\n",
       "      <td>-17.2251</td>\n",
       "      <td>-11.1315</td>\n",
       "      <td>-0.506494</td>\n",
       "    </tr>\n",
       "  </tbody>\n",
       "</table>\n",
       "<p>5 rows × 21 columns</p>\n",
       "</div>"
      ],
      "text/plain": [
       "             0        1         2         3         4         5         6   \\\n",
       "0  3.422770e-08  34.3805  0.273375  0.022570  0.671650 -1.210200 -0.783771   \n",
       "1  2.519780e-08  36.3793  0.270702  0.022534  0.650538 -1.202980 -0.768726   \n",
       "2  1.851770e-08  35.6091  0.289326  0.022395  0.660180 -1.087100 -0.730883   \n",
       "3  1.573080e-07  34.1027  0.281314  0.022603  0.649340 -1.008480 -0.819688   \n",
       "4  1.302370e-07  33.9050  0.287829  0.022483  0.649950 -0.965794 -0.819898   \n",
       "\n",
       "         7        8        9   ...       11        12       13        14  \\\n",
       "0 -0.931326 -1.20521 -1.08229  ... -1.38604 -0.091940 -1.38050 -0.872042   \n",
       "1 -0.855344 -1.22204 -1.06058  ... -1.43862 -0.750095 -1.20097 -0.554546   \n",
       "2 -0.962856 -1.03140 -1.14549  ... -1.26045 -0.019958 -2.79618 -1.348600   \n",
       "3 -0.994546 -1.14205 -1.05941  ... -1.23207 -0.120687 -1.24485 -0.590725   \n",
       "4 -0.974392 -1.07458 -1.03297  ... -1.22571 -0.088179 -1.42484 -0.844115   \n",
       "\n",
       "        15        16        17       18       19        20  \n",
       "0 -1.90805 -0.000202 -1.024780 -17.4259 -10.9613 -0.715721  \n",
       "1 -2.66105 -0.021655 -0.557827 -17.7322 -12.2770 -0.624025  \n",
       "2 -1.48507 -0.014287 -0.769406 -17.7682 -11.0753 -0.332037  \n",
       "3 -2.22128 -0.015074 -0.742644 -16.8290 -11.5345 -0.803957  \n",
       "4 -1.94515 -0.020182 -0.719417 -17.2251 -11.1315 -0.506494  \n",
       "\n",
       "[5 rows x 21 columns]"
      ]
     },
     "execution_count": 1,
     "metadata": {},
     "output_type": "execute_result"
    }
   ],
   "source": [
    "import pandas as pd\n",
    "from sklearn.decomposition import PCA\n",
    "import numpy as np\n",
    "dir_name = u'C:\\\\Users\\\\52811\\\\cosas_python\\\\SimpleMC-master\\\\chains_pca\\\\'\n",
    "\n",
    "num_cadenas = 4\n",
    "\n",
    "df1=pd.DataFrame()\n",
    "\n",
    "for i in range(num_cadenas):\n",
    "    dg = pd.read_csv(dir_name+'owaCDM2_phy_BBAO+SN+HD_'+str(i+1)+'.txt', sep='\\s+', names=range(21))\n",
    "    df1 = pd.concat([df1,dg])\n",
    "    \n",
    "\n",
    "df1.head()"
   ]
  },
  {
   "cell_type": "code",
   "execution_count": 2,
   "metadata": {},
   "outputs": [
    {
     "data": {
      "text/plain": [
       "(220904L, 7L)"
      ]
     },
     "execution_count": 2,
     "metadata": {},
     "output_type": "execute_result"
    }
   ],
   "source": [
    "from sklearn.preprocessing import StandardScaler\n",
    "features = [5,6,7,8,9,10,11]\n",
    "# Separating out the features\n",
    "x = df1.loc[:, features].values\n",
    "x2 = pd.DataFrame(x)\n",
    "# Separating out the target\n",
    "#y = df1.loc[:,['target']].values\n",
    "# Standardizing the features\n",
    "X = StandardScaler().fit_transform(x)\n",
    "np.shape(X)"
   ]
  },
  {
   "cell_type": "code",
   "execution_count": 3,
   "metadata": {},
   "outputs": [
    {
     "data": {
      "text/html": [
       "<div>\n",
       "<style scoped>\n",
       "    .dataframe tbody tr th:only-of-type {\n",
       "        vertical-align: middle;\n",
       "    }\n",
       "\n",
       "    .dataframe tbody tr th {\n",
       "        vertical-align: top;\n",
       "    }\n",
       "\n",
       "    .dataframe thead th {\n",
       "        text-align: right;\n",
       "    }\n",
       "</style>\n",
       "<table border=\"1\" class=\"dataframe\">\n",
       "  <thead>\n",
       "    <tr style=\"text-align: right;\">\n",
       "      <th></th>\n",
       "      <th>0</th>\n",
       "      <th>1</th>\n",
       "      <th>2</th>\n",
       "    </tr>\n",
       "  </thead>\n",
       "  <tbody>\n",
       "    <tr>\n",
       "      <th>0</th>\n",
       "      <td>-0.245636</td>\n",
       "      <td>-0.071215</td>\n",
       "      <td>0.224291</td>\n",
       "    </tr>\n",
       "    <tr>\n",
       "      <th>1</th>\n",
       "      <td>-0.340329</td>\n",
       "      <td>-0.086466</td>\n",
       "      <td>0.300195</td>\n",
       "    </tr>\n",
       "    <tr>\n",
       "      <th>2</th>\n",
       "      <td>-0.421786</td>\n",
       "      <td>-0.182424</td>\n",
       "      <td>0.092439</td>\n",
       "    </tr>\n",
       "    <tr>\n",
       "      <th>3</th>\n",
       "      <td>-0.361729</td>\n",
       "      <td>-0.060688</td>\n",
       "      <td>0.092740</td>\n",
       "    </tr>\n",
       "    <tr>\n",
       "      <th>4</th>\n",
       "      <td>-0.410218</td>\n",
       "      <td>-0.092214</td>\n",
       "      <td>0.012462</td>\n",
       "    </tr>\n",
       "  </tbody>\n",
       "</table>\n",
       "</div>"
      ],
      "text/plain": [
       "          0         1         2\n",
       "0 -0.245636 -0.071215  0.224291\n",
       "1 -0.340329 -0.086466  0.300195\n",
       "2 -0.421786 -0.182424  0.092439\n",
       "3 -0.361729 -0.060688  0.092740\n",
       "4 -0.410218 -0.092214  0.012462"
      ]
     },
     "execution_count": 3,
     "metadata": {},
     "output_type": "execute_result"
    }
   ],
   "source": [
    "from sklearn.decomposition import PCA\n",
    "pca = PCA(n_components=3)\n",
    "principalComponents = pca.fit_transform(X)\n",
    "principalDf = pd.DataFrame(data = principalComponents)\n",
    "principalDf.head()"
   ]
  },
  {
   "cell_type": "code",
   "execution_count": 4,
   "metadata": {},
   "outputs": [
    {
     "data": {
      "text/html": [
       "<div>\n",
       "<style scoped>\n",
       "    .dataframe tbody tr th:only-of-type {\n",
       "        vertical-align: middle;\n",
       "    }\n",
       "\n",
       "    .dataframe tbody tr th {\n",
       "        vertical-align: top;\n",
       "    }\n",
       "\n",
       "    .dataframe thead th {\n",
       "        text-align: right;\n",
       "    }\n",
       "</style>\n",
       "<table border=\"1\" class=\"dataframe\">\n",
       "  <thead>\n",
       "    <tr style=\"text-align: right;\">\n",
       "      <th></th>\n",
       "      <th>0</th>\n",
       "      <th>1</th>\n",
       "      <th>2</th>\n",
       "      <th>3</th>\n",
       "    </tr>\n",
       "  </thead>\n",
       "  <tbody>\n",
       "    <tr>\n",
       "      <th>0</th>\n",
       "      <td>0.330313</td>\n",
       "      <td>0.503934</td>\n",
       "      <td>0.644882</td>\n",
       "      <td>0.024981</td>\n",
       "    </tr>\n",
       "    <tr>\n",
       "      <th>1</th>\n",
       "      <td>0.349028</td>\n",
       "      <td>0.609791</td>\n",
       "      <td>0.731433</td>\n",
       "      <td>-0.038577</td>\n",
       "    </tr>\n",
       "    <tr>\n",
       "      <th>2</th>\n",
       "      <td>0.333830</td>\n",
       "      <td>0.309802</td>\n",
       "      <td>0.375669</td>\n",
       "      <td>0.102877</td>\n",
       "    </tr>\n",
       "    <tr>\n",
       "      <th>3</th>\n",
       "      <td>0.231525</td>\n",
       "      <td>0.313160</td>\n",
       "      <td>0.487832</td>\n",
       "      <td>0.077653</td>\n",
       "    </tr>\n",
       "    <tr>\n",
       "      <th>4</th>\n",
       "      <td>0.251967</td>\n",
       "      <td>0.222325</td>\n",
       "      <td>0.434079</td>\n",
       "      <td>0.110793</td>\n",
       "    </tr>\n",
       "  </tbody>\n",
       "</table>\n",
       "</div>"
      ],
      "text/plain": [
       "          0         1         2         3\n",
       "0  0.330313  0.503934  0.644882  0.024981\n",
       "1  0.349028  0.609791  0.731433 -0.038577\n",
       "2  0.333830  0.309802  0.375669  0.102877\n",
       "3  0.231525  0.313160  0.487832  0.077653\n",
       "4  0.251967  0.222325  0.434079  0.110793"
      ]
     },
     "execution_count": 4,
     "metadata": {},
     "output_type": "execute_result"
    }
   ],
   "source": [
    "#sin renormalizar los datos\n",
    "from sklearn.decomposition import PCA\n",
    "\n",
    "features = [5,6,7,8,9,10,11]\n",
    "\n",
    "df2 = df1.loc[:, features].values\n",
    "pca = PCA(n_components=4)\n",
    "pca_prueba = pca.fit_transform(df2)\n",
    "componentes_principales = pd.DataFrame(data = pca_prueba)\n",
    "componentes_principales.head()"
   ]
  },
  {
   "cell_type": "code",
   "execution_count": 5,
   "metadata": {},
   "outputs": [
    {
     "data": {
      "text/html": [
       "<div>\n",
       "<style scoped>\n",
       "    .dataframe tbody tr th:only-of-type {\n",
       "        vertical-align: middle;\n",
       "    }\n",
       "\n",
       "    .dataframe tbody tr th {\n",
       "        vertical-align: top;\n",
       "    }\n",
       "\n",
       "    .dataframe thead th {\n",
       "        text-align: right;\n",
       "    }\n",
       "</style>\n",
       "<table border=\"1\" class=\"dataframe\">\n",
       "  <thead>\n",
       "    <tr style=\"text-align: right;\">\n",
       "      <th></th>\n",
       "      <th>0</th>\n",
       "      <th>1</th>\n",
       "      <th>2</th>\n",
       "      <th>3</th>\n",
       "      <th>4</th>\n",
       "      <th>5</th>\n",
       "      <th>6</th>\n",
       "    </tr>\n",
       "  </thead>\n",
       "  <tbody>\n",
       "    <tr>\n",
       "      <th>0</th>\n",
       "      <td>-1.146477</td>\n",
       "      <td>-0.897421</td>\n",
       "      <td>-1.316047</td>\n",
       "      <td>-1.464658</td>\n",
       "      <td>-1.327842</td>\n",
       "      <td>-0.545822</td>\n",
       "      <td>-1.399886</td>\n",
       "    </tr>\n",
       "    <tr>\n",
       "      <th>1</th>\n",
       "      <td>-1.132643</td>\n",
       "      <td>-0.887937</td>\n",
       "      <td>-1.285044</td>\n",
       "      <td>-1.510470</td>\n",
       "      <td>-1.334179</td>\n",
       "      <td>-0.416312</td>\n",
       "      <td>-1.454036</td>\n",
       "    </tr>\n",
       "    <tr>\n",
       "      <th>2</th>\n",
       "      <td>-1.165143</td>\n",
       "      <td>-0.911941</td>\n",
       "      <td>-1.333454</td>\n",
       "      <td>-1.343649</td>\n",
       "      <td>-1.415440</td>\n",
       "      <td>-0.824458</td>\n",
       "      <td>-1.275685</td>\n",
       "    </tr>\n",
       "    <tr>\n",
       "      <th>3</th>\n",
       "      <td>-1.153629</td>\n",
       "      <td>-0.903370</td>\n",
       "      <td>-1.338187</td>\n",
       "      <td>-1.438409</td>\n",
       "      <td>-1.314328</td>\n",
       "      <td>-0.766164</td>\n",
       "      <td>-1.246284</td>\n",
       "    </tr>\n",
       "    <tr>\n",
       "      <th>4</th>\n",
       "      <td>-1.159799</td>\n",
       "      <td>-0.907964</td>\n",
       "      <td>-1.350356</td>\n",
       "      <td>-1.409991</td>\n",
       "      <td>-1.318025</td>\n",
       "      <td>-0.873895</td>\n",
       "      <td>-1.241580</td>\n",
       "    </tr>\n",
       "  </tbody>\n",
       "</table>\n",
       "</div>"
      ],
      "text/plain": [
       "          0         1         2         3         4         5         6\n",
       "0 -1.146477 -0.897421 -1.316047 -1.464658 -1.327842 -0.545822 -1.399886\n",
       "1 -1.132643 -0.887937 -1.285044 -1.510470 -1.334179 -0.416312 -1.454036\n",
       "2 -1.165143 -0.911941 -1.333454 -1.343649 -1.415440 -0.824458 -1.275685\n",
       "3 -1.153629 -0.903370 -1.338187 -1.438409 -1.314328 -0.766164 -1.246284\n",
       "4 -1.159799 -0.907964 -1.350356 -1.409991 -1.318025 -0.873895 -1.241580"
      ]
     },
     "execution_count": 5,
     "metadata": {},
     "output_type": "execute_result"
    }
   ],
   "source": [
    "datos_redux = pca.inverse_transform(pca_prueba)\n",
    "dat_red = pd.DataFrame(data = datos_redux)\n",
    "dat_red.head()"
   ]
  },
  {
   "cell_type": "code",
   "execution_count": 6,
   "metadata": {},
   "outputs": [
    {
     "name": "stdout",
     "output_type": "stream",
     "text": [
      "Promedios antes de PCA\n",
      "-1.12628818906\n",
      "-0.891168133272\n",
      "-1.25205324247\n",
      "-1.41321716446\n",
      "-1.47136592666\n",
      "-1.1867929482\n",
      "-0.816001040653\n",
      "Promedios despues de PCA\n",
      "-1.12628818906\n",
      "-0.891168133272\n",
      "-1.25205324247\n",
      "-1.41321716446\n",
      "-1.47136592666\n",
      "-1.1867929482\n",
      "-0.816001040653\n"
     ]
    }
   ],
   "source": [
    "print('Promedios antes de PCA')\n",
    "for ii in range(7):\n",
    "    print np.mean(x2[ii])\n",
    "print('Promedios despues de PCA')\n",
    "for ii in range(7):\n",
    "    print np.mean(dat_red[ii])"
   ]
  },
  {
   "cell_type": "code",
   "execution_count": 7,
   "metadata": {},
   "outputs": [],
   "source": [
    "resta = x2-dat_red"
   ]
  },
  {
   "cell_type": "code",
   "execution_count": 8,
   "metadata": {},
   "outputs": [
    {
     "data": {
      "text/plain": [
       "1.6273393622638214e-16"
      ]
     },
     "execution_count": 8,
     "metadata": {},
     "output_type": "execute_result"
    }
   ],
   "source": [
    "np.mean(resta[0])"
   ]
  },
  {
   "cell_type": "markdown",
   "metadata": {},
   "source": [
    "# Prueba con matriz de covarianza como en el peiper https://iopscience.iop.org/article/10.3847/1538-4357/aab49a/pdf"
   ]
  },
  {
   "cell_type": "code",
   "execution_count": 1,
   "metadata": {},
   "outputs": [
    {
     "name": "stdout",
     "output_type": "stream",
     "text": [
      "Eigenvalores de matriz de fisher\n",
      "[246.04672283  18.51863005   2.59906183   1.52379752   0.99891434\n",
      "   0.72011191   0.8156775 ]\n",
      "Matriz Eigenvectores de Fisher\n",
      "[[-0.46766878  0.81503957  0.22850604  0.23371755  0.09712529 -0.02204245\n",
      "   0.01543757]\n",
      " [-0.81181653 -0.54904488  0.14103623  0.12604934  0.0581121  -0.01457624\n",
      "   0.01159778]\n",
      " [ 0.33054702 -0.17357961  0.75246849  0.54032754 -0.03178334 -0.01863378\n",
      "   0.03299571]\n",
      " [-0.10662633  0.06305064  0.41518681 -0.52496603 -0.71836836  0.08505581\n",
      "  -0.11575161]\n",
      " [ 0.03972618 -0.01094385  0.43112458 -0.58477463  0.6775486  -0.05656282\n",
      "  -0.09055848]\n",
      " [-0.00544637  0.00472256  0.04834697 -0.07852103  0.05481136  0.69691115\n",
      "   0.70905262]\n",
      " [ 0.00122775  0.00358905  0.03315151 -0.11754818 -0.08972177 -0.70910892\n",
      "   0.68860988]]\n"
     ]
    }
   ],
   "source": [
    "import numpy as np\n",
    "import pandas as pd\n",
    "import matplotlib.pyplot as plt\n",
    "\n",
    "matriz_cov = np.loadtxt('owaCDM2_cov.txt')\n",
    "matriz_cov = np.matrix(matriz_cov)\n",
    "error = np.sqrt(np.diag(matriz_cov))\n",
    "fisher = np.linalg.inv(matriz_cov)\n",
    "fish_eig = np.linalg.eig(fisher)\n",
    "\n",
    "d = np.diag(fish_eig[0])\n",
    "w = np.transpose(fish_eig[1])\n",
    "wt = fish_eig[1]\n",
    "pt = [-1.0048, -0.697779, -0.422577, -1.16662, -2.97, -2.38769, -0.849161]\n",
    "z = [ 0.0, 0.5, 1.0, 1.5, 2.0, 2.5, 3.0]\n",
    "pt = np.matrix(pt)\n",
    "p = np.transpose(pt)\n",
    "q = np.matmul(w,p)\n",
    "\n",
    "print('Eigenvalores de matriz de fisher')\n",
    "print(fish_eig[0])\n",
    "print('Matriz Eigenvectores de Fisher')\n",
    "print(fish_eig[1])"
   ]
  },
  {
   "cell_type": "code",
   "execution_count": 8,
   "metadata": {},
   "outputs": [
    {
     "data": {
      "text/plain": [
       "matrix([[-7.10542736e-14, -1.27897692e-13,  5.68434189e-14,\n",
       "         -7.10542736e-15,  6.21724894e-15, -4.44089210e-16,\n",
       "         -2.49800181e-16],\n",
       "        [-1.27897692e-13, -1.13686838e-13, -2.13162821e-14,\n",
       "         -3.55271368e-15,  4.44089210e-15, -6.66133815e-16,\n",
       "         -8.88178420e-16],\n",
       "        [ 4.26325641e-14, -2.13162821e-14,  0.00000000e+00,\n",
       "          0.00000000e+00, -1.77635684e-15,  1.66533454e-16,\n",
       "          4.71844785e-16],\n",
       "        [-5.32907052e-15,  0.00000000e+00,  0.00000000e+00,\n",
       "          3.55271368e-15,  1.88737914e-15, -8.32667268e-17,\n",
       "         -4.16333634e-17],\n",
       "        [ 5.32907052e-15,  2.66453526e-15, -1.77635684e-15,\n",
       "          1.77635684e-15,  2.66453526e-15,  8.32667268e-16,\n",
       "          4.16333634e-16],\n",
       "        [-1.11022302e-16,  0.00000000e+00, -1.11022302e-16,\n",
       "         -8.32667268e-17,  7.21644966e-16, -2.22044605e-16,\n",
       "         -3.46944695e-17],\n",
       "        [ 1.66533454e-16, -1.66533454e-16,  1.66533454e-16,\n",
       "          2.77555756e-17,  4.02455846e-16,  1.38777878e-17,\n",
       "         -2.22044605e-16]])"
      ]
     },
     "execution_count": 8,
     "metadata": {},
     "output_type": "execute_result"
    }
   ],
   "source": [
    "#solo para ver que se cumple la relacion de la matriz de fisher y sea cero la resta\n",
    "np.matmul(wt,np.matmul(d,w))-fisher"
   ]
  },
  {
   "cell_type": "code",
   "execution_count": 9,
   "metadata": {},
   "outputs": [
    {
     "name": "stdout",
     "output_type": "stream",
     "text": [
      "[[-0.46766878 -0.81181653  0.33054702 -0.10662633  0.03972618 -0.00544637\n",
      "   0.00122775]\n",
      " [ 0.81503957 -0.54904488 -0.17357961  0.06305064 -0.01094385  0.00472256\n",
      "   0.00358905]\n",
      " [ 0.22850604  0.14103623  0.75246849  0.41518681  0.43112458  0.04834697\n",
      "   0.03315151]\n",
      " [ 0.23371755  0.12604934  0.54032754 -0.52496603 -0.58477463 -0.07852103\n",
      "  -0.11754818]\n",
      " [ 0.09712529  0.0581121  -0.03178334 -0.71836836  0.6775486   0.05481136\n",
      "  -0.08972177]\n",
      " [-0.02204245 -0.01457624 -0.01863378  0.08505581 -0.05656282  0.69691115\n",
      "  -0.70910892]\n",
      " [ 0.01543757  0.01159778  0.03299571 -0.11575161 -0.09055848  0.70905262\n",
      "   0.68860988]]\n",
      "[[-0.42794868 -0.74286723  0.30247296 -0.09757033  0.03635215 -0.0049838\n",
      "   0.00112348]]\n"
     ]
    }
   ],
   "source": [
    "print w\n",
    "print w[0]*np.asscalar(q[0])"
   ]
  },
  {
   "cell_type": "code",
   "execution_count": 11,
   "metadata": {},
   "outputs": [
    {
     "name": "stdout",
     "output_type": "stream",
     "text": [
      "[[-1.0048   -0.697779 -0.422577 -1.16662  -2.97     -2.38769  -0.849161]]\n",
      "[[-1.35221804 -0.87370103 -1.54708805 -1.18446386 -1.0603328  -0.13045396\n",
      "  -0.08505798]]\n",
      "[0.32110426 0.20218183 0.64369769 0.88911654 0.8775012  1.13963939\n",
      " 1.13892988]\n",
      "[0.23843296 0.16312568 0.46895874 0.25804039 0.26744445 0.03001101\n",
      " 0.02058046]\n"
     ]
    }
   ],
   "source": [
    "n_pca = 3\n",
    "\n",
    "wz = w[0]*np.asscalar(q[0])\n",
    "for ii in range(n_pca-1):\n",
    "    wz += w[ii+1]*np.asscalar(q[ii+1])\n",
    "\n",
    "sigma_squared_q = 1/(np.diag(d))\n",
    "sigma_wz = (sigma_squared_q[0])*(np.array(w[0])[0]**2)\n",
    "for ii in range(n_pca-1):\n",
    "    sigma_wz += (sigma_squared_q[ii+1])*(np.array(w[ii+1])[0]**2)\n",
    "sigma_wz = sigma_wz**0.5\n",
    "    \n",
    "print pt\n",
    "print wz\n",
    "print np.sqrt(np.diag(matriz_cov))\n",
    "print sigma_wz"
   ]
  },
  {
   "cell_type": "code",
   "execution_count": 12,
   "metadata": {},
   "outputs": [
    {
     "data": {
      "text/plain": [
       "array([[246.04672283,   0.        ,   0.        ,   0.        ,\n",
       "          0.        ,   0.        ,   0.        ],\n",
       "       [  0.        ,  18.51863005,   0.        ,   0.        ,\n",
       "          0.        ,   0.        ,   0.        ],\n",
       "       [  0.        ,   0.        ,   2.59906183,   0.        ,\n",
       "          0.        ,   0.        ,   0.        ],\n",
       "       [  0.        ,   0.        ,   0.        ,   1.52379752,\n",
       "          0.        ,   0.        ,   0.        ],\n",
       "       [  0.        ,   0.        ,   0.        ,   0.        ,\n",
       "          0.99891434,   0.        ,   0.        ],\n",
       "       [  0.        ,   0.        ,   0.        ,   0.        ,\n",
       "          0.        ,   0.72011191,   0.        ],\n",
       "       [  0.        ,   0.        ,   0.        ,   0.        ,\n",
       "          0.        ,   0.        ,   0.8156775 ]])"
      ]
     },
     "execution_count": 12,
     "metadata": {},
     "output_type": "execute_result"
    }
   ],
   "source": [
    "d"
   ]
  },
  {
   "cell_type": "code",
   "execution_count": 13,
   "metadata": {},
   "outputs": [
    {
     "data": {
      "text/plain": [
       "<ErrorbarContainer object of 3 artists>"
      ]
     },
     "execution_count": 13,
     "metadata": {},
     "output_type": "execute_result"
    },
    {
     "data": {
      "image/png": "[encoded data removed]",
      "text/plain": [
       "<Figure size 432x288 with 1 Axes>"
      ]
     },
     "metadata": {
      "needs_background": "light"
     },
     "output_type": "display_data"
    }
   ],
   "source": [
    "plt.errorbar(z, np.array(pt)[0],yerr=error, fmt='-',capsize=3)\n",
    "plt.errorbar(z, np.array(wz)[0],yerr=sigma_wz, fmt='-',capsize=3)"
   ]
  },
  {
   "cell_type": "markdown",
   "metadata": {},
   "source": [
    "# Version reducida"
   ]
  },
  {
   "cell_type": "code",
   "execution_count": 6,
   "metadata": {},
   "outputs": [
    {
     "data": {
      "image/png": "[encoded data removed]",
      "text/plain": [
       "<Figure size 432x288 with 1 Axes>"
      ]
     },
     "metadata": {
      "needs_background": "light"
     },
     "output_type": "display_data"
    }
   ],
   "source": [
    "import numpy as np\n",
    "import matplotlib.pyplot as plt\n",
    "\n",
    "n_pca = 7\n",
    "\n",
    "matriz_cov = np.loadtxt('owaCDM2_cov.txt')\n",
    "matriz_cov = np.matrix(matriz_cov)\n",
    "error = np.sqrt(np.diag(matriz_cov))\n",
    "fisher = np.linalg.inv(matriz_cov)\n",
    "fish_eig = np.linalg.eig(fisher)\n",
    "\n",
    "d = np.diag(fish_eig[0])\n",
    "w = np.transpose(fish_eig[1])\n",
    "wt = fish_eig[1]\n",
    "pt = [-1.0048, -0.697779, -0.422577, -1.16662, -2.97, -2.38769, -0.849161]\n",
    "z = [ 0.0, 0.5, 1.0, 1.5, 2.0, 2.5, 3.0]\n",
    "pt = np.matrix(pt)\n",
    "p = np.transpose(pt)\n",
    "q = np.matmul(w,p)\n",
    "\n",
    "wz = w[0]*np.asscalar(q[0])\n",
    "for ii in range(n_pca-1):\n",
    "    wz += w[ii+1]*np.asscalar(q[ii+1])\n",
    "\n",
    "sigma_squared_q = 1/(np.diag(d))\n",
    "sigma_wz = (sigma_squared_q[0])*(np.array(w[0])[0]**2)\n",
    "for ii in range(n_pca-1):\n",
    "    sigma_wz += (sigma_squared_q[ii+1])*(np.array(w[ii+1])[0]**2)\n",
    "sigma_wz = sigma_wz**0.5\n",
    "    \n",
    "plt.errorbar(z, np.array(pt)[0],yerr=error, fmt='-',capsize=3)\n",
    "plt.errorbar(z, np.array(wz)[0],yerr=sigma_wz, fmt='-',capsize=3)\n",
    "\n",
    "plt.ylabel('w(z)')\n",
    "plt.xlabel('z')\n",
    "\n",
    "plt.legend(('Before PCA','After PCA (3 pc)'))\n",
    "\n",
    "plt.savefig('wz_pca.pdf')"
   ]
  },
  {
   "cell_type": "code",
   "execution_count": 4,
   "metadata": {},
   "outputs": [
    {
     "name": "stdout",
     "output_type": "stream",
     "text": [
      "[[-0.97529433 -0.67561229 -0.35951265 -1.3878548  -3.14308345 -1.03248533\n",
      "   0.46697167]]\n"
     ]
    }
   ],
   "source": [
    "print wz"
   ]
  },
  {
   "cell_type": "markdown",
   "metadata": {},
   "source": [
    "# Corr. Func. Zhao"
   ]
  },
  {
   "cell_type": "code",
   "execution_count": 9,
   "metadata": {},
   "outputs": [
    {
     "data": {
      "text/plain": [
       "0.009983399645064341"
      ]
     },
     "execution_count": 9,
     "metadata": {},
     "output_type": "execute_result"
    }
   ],
   "source": [
    "#primer prueba chafa de la integral\n",
    "from scipy import integrate\n",
    "\n",
    "eta_0 = 1\n",
    "a_c = 1\n",
    "dorito = 0.1\n",
    "a_i = 1\n",
    "a_j = 1\n",
    "\n",
    "f = lambda a2, a : eta_0/(1+(abs(a-a2)/a_c)**2)\n",
    "\n",
    "integrate.dblquad(f, a_i, a_i+dorito, lambda a2: a_j, lambda a2: a_j+dorito)[0]"
   ]
  },
  {
   "cell_type": "code",
   "execution_count": 1,
   "metadata": {},
   "outputs": [],
   "source": [
    "#aqui ya salen los datos y la matriz de covarianza\n",
    "from scipy import integrate\n",
    "import numpy as np\n",
    "import matplotlib.pyplot as plt\n",
    "\n",
    "#dice \"a\" pero es \"z\"\n",
    "n_datos = 20\n",
    "a_c = 0.3\n",
    "a_max = 3.0\n",
    "\n",
    "eta_0 = (0.04*0.04*a_max)/(np.pi*a_c)\n",
    "a_interv = np.linspace(0.01,a_max,n_datos)\n",
    "dorito = a_interv[1] - a_interv[0]\n",
    "C = np.zeros([len(a_interv),len(a_interv)])\n",
    "\n",
    "z_interv = 1/a_interv-1\n",
    "w_z = np.zeros(len(z_interv))\n",
    "w_z = w_z-1 \n",
    "datos = np.transpose(np.vstack([a_interv,w_z]))\n",
    "\n",
    "f = lambda a2, a : eta_0/(1+(abs(a-a2)/a_c)**2)\n",
    "for ii in range(len(a_interv)):\n",
    "    for jj in range(len(a_interv)):\n",
    "        C[ii,jj]+= (1/(dorito**2))*(integrate.dblquad(f, a_interv[ii], a_interv[ii]+dorito,\n",
    "                    lambda a2: a_interv[jj], lambda a2: a_interv[jj]+dorito)[0])"
   ]
  },
  {
   "cell_type": "code",
   "execution_count": 4,
   "metadata": {},
   "outputs": [],
   "source": [
    "np.savetxt('w_15bins_data.txt',datos)\n",
    "np.savetxt('w_15bins_cov.txt',C)"
   ]
  },
  {
   "cell_type": "code",
   "execution_count": 5,
   "metadata": {},
   "outputs": [
    {
     "name": "stdout",
     "output_type": "stream",
     "text": [
      "[[ 0.01       -1.        ]\n",
      " [ 0.22357143 -1.        ]\n",
      " [ 0.43714286 -1.        ]\n",
      " [ 0.65071429 -1.        ]\n",
      " [ 0.86428571 -1.        ]\n",
      " [ 1.07785714 -1.        ]\n",
      " [ 1.29142857 -1.        ]\n",
      " [ 1.505      -1.        ]\n",
      " [ 1.71857143 -1.        ]\n",
      " [ 1.93214286 -1.        ]\n",
      " [ 2.14571429 -1.        ]\n",
      " [ 2.35928571 -1.        ]\n",
      " [ 2.57285714 -1.        ]\n",
      " [ 2.78642857 -1.        ]\n",
      " [ 3.         -1.        ]]\n",
      "[[4.73187158e-03 3.41690805e-03 1.76114041e-03 9.48489618e-04\n",
      "  5.72747420e-04 3.78917472e-04 2.67929457e-04 1.99000415e-04\n",
      "  1.53439587e-04 1.21824510e-04 9.90200221e-05 8.20445364e-05\n",
      "  6.90745635e-05 5.89456694e-05 5.08867297e-05]\n",
      " [3.41690805e-03 4.73187158e-03 3.41690805e-03 1.76114041e-03\n",
      "  9.48489618e-04 5.72747420e-04 3.78917472e-04 2.67929457e-04\n",
      "  1.99000415e-04 1.53439587e-04 1.21824510e-04 9.90200221e-05\n",
      "  8.20445364e-05 6.90745635e-05 5.89456694e-05]\n",
      " [1.76114041e-03 3.41690805e-03 4.73187158e-03 3.41690805e-03\n",
      "  1.76114041e-03 9.48489618e-04 5.72747420e-04 3.78917472e-04\n",
      "  2.67929457e-04 1.99000415e-04 1.53439587e-04 1.21824510e-04\n",
      "  9.90200221e-05 8.20445364e-05 6.90745635e-05]\n",
      " [9.48489618e-04 1.76114041e-03 3.41690805e-03 4.73187158e-03\n",
      "  3.41690805e-03 1.76114041e-03 9.48489618e-04 5.72747420e-04\n",
      "  3.78917472e-04 2.67929457e-04 1.99000415e-04 1.53439587e-04\n",
      "  1.21824510e-04 9.90200221e-05 8.20445364e-05]\n",
      " [5.72747420e-04 9.48489618e-04 1.76114041e-03 3.41690805e-03\n",
      "  4.73187158e-03 3.41690805e-03 1.76114041e-03 9.48489618e-04\n",
      "  5.72747420e-04 3.78917472e-04 2.67929457e-04 1.99000415e-04\n",
      "  1.53439587e-04 1.21824510e-04 9.90200221e-05]\n",
      " [3.78917472e-04 5.72747420e-04 9.48489618e-04 1.76114041e-03\n",
      "  3.41690805e-03 4.73187158e-03 3.41690805e-03 1.76114041e-03\n",
      "  9.48489618e-04 5.72747420e-04 3.78917472e-04 2.67929457e-04\n",
      "  1.99000415e-04 1.53439587e-04 1.21824510e-04]\n",
      " [2.67929457e-04 3.78917472e-04 5.72747420e-04 9.48489618e-04\n",
      "  1.76114041e-03 3.41690805e-03 4.73187158e-03 3.41690805e-03\n",
      "  1.76114041e-03 9.48489618e-04 5.72747420e-04 3.78917472e-04\n",
      "  2.67929457e-04 1.99000415e-04 1.53439587e-04]\n",
      " [1.99000415e-04 2.67929457e-04 3.78917472e-04 5.72747420e-04\n",
      "  9.48489618e-04 1.76114041e-03 3.41690805e-03 4.73187158e-03\n",
      "  3.41690805e-03 1.76114041e-03 9.48489618e-04 5.72747420e-04\n",
      "  3.78917472e-04 2.67929457e-04 1.99000415e-04]\n",
      " [1.53439587e-04 1.99000415e-04 2.67929457e-04 3.78917472e-04\n",
      "  5.72747420e-04 9.48489618e-04 1.76114041e-03 3.41690805e-03\n",
      "  4.73187158e-03 3.41690805e-03 1.76114041e-03 9.48489618e-04\n",
      "  5.72747420e-04 3.78917472e-04 2.67929457e-04]\n",
      " [1.21824510e-04 1.53439587e-04 1.99000415e-04 2.67929457e-04\n",
      "  3.78917472e-04 5.72747420e-04 9.48489618e-04 1.76114041e-03\n",
      "  3.41690805e-03 4.73187158e-03 3.41690805e-03 1.76114041e-03\n",
      "  9.48489618e-04 5.72747420e-04 3.78917472e-04]\n",
      " [9.90200221e-05 1.21824510e-04 1.53439587e-04 1.99000415e-04\n",
      "  2.67929457e-04 3.78917472e-04 5.72747420e-04 9.48489618e-04\n",
      "  1.76114041e-03 3.41690805e-03 4.73187158e-03 3.41690805e-03\n",
      "  1.76114041e-03 9.48489618e-04 5.72747420e-04]\n",
      " [8.20445364e-05 9.90200221e-05 1.21824510e-04 1.53439587e-04\n",
      "  1.99000415e-04 2.67929457e-04 3.78917472e-04 5.72747420e-04\n",
      "  9.48489618e-04 1.76114041e-03 3.41690805e-03 4.73187158e-03\n",
      "  3.41690805e-03 1.76114041e-03 9.48489618e-04]\n",
      " [6.90745635e-05 8.20445364e-05 9.90200221e-05 1.21824510e-04\n",
      "  1.53439587e-04 1.99000415e-04 2.67929457e-04 3.78917472e-04\n",
      "  5.72747420e-04 9.48489618e-04 1.76114041e-03 3.41690805e-03\n",
      "  4.73187158e-03 3.41690805e-03 1.76114041e-03]\n",
      " [5.89456694e-05 6.90745635e-05 8.20445364e-05 9.90200221e-05\n",
      "  1.21824510e-04 1.53439587e-04 1.99000415e-04 2.67929457e-04\n",
      "  3.78917472e-04 5.72747420e-04 9.48489618e-04 1.76114041e-03\n",
      "  3.41690805e-03 4.73187158e-03 3.41690805e-03]\n",
      " [5.08867297e-05 5.89456694e-05 6.90745635e-05 8.20445364e-05\n",
      "  9.90200221e-05 1.21824510e-04 1.53439587e-04 1.99000415e-04\n",
      "  2.67929457e-04 3.78917472e-04 5.72747420e-04 9.48489618e-04\n",
      "  1.76114041e-03 3.41690805e-03 4.73187158e-03]]\n"
     ]
    }
   ],
   "source": [
    "print(datos)\n",
    "print(C)"
   ]
  },
  {
   "cell_type": "code",
   "execution_count": 2,
   "metadata": {},
   "outputs": [
    {
     "data": {
      "text/plain": [
       "<matplotlib.legend.Legend at 0x878c630>"
      ]
     },
     "execution_count": 2,
     "metadata": {},
     "output_type": "execute_result"
    },
    {
     "data": {
      "image/png": "[encoded data removed]",
      "text/plain": [
       "<Figure size 432x288 with 1 Axes>"
      ]
     },
     "metadata": {
      "needs_background": "light"
     },
     "output_type": "display_data"
    }
   ],
   "source": [
    "#intento de hacerle PCA a los priors, pero creo que esta mal, hay que hacerselo a los posteriors o algo asi\n",
    "\n",
    "import numpy as np\n",
    "import matplotlib.pyplot as plt\n",
    "\n",
    "n_pca = 3\n",
    "\n",
    "matriz_cov = np.loadtxt('w_7bins_cov.txt')\n",
    "matriz_cov = np.matrix(matriz_cov)\n",
    "error = np.sqrt(np.diag(matriz_cov))\n",
    "fisher = np.linalg.inv(matriz_cov)\n",
    "fish_eig = np.linalg.eig(fisher)\n",
    "\n",
    "d = np.diag(fish_eig[0])\n",
    "w = np.transpose(fish_eig[1])\n",
    "wt = fish_eig[1]\n",
    "pt = [-1, -1, -1, -1, -1, -1, -1]\n",
    "z = [ 0.01, 0.425, 0.84, 1.255, 1.67, 2.085, 2.5]\n",
    "pt = np.matrix(pt)\n",
    "p = np.transpose(pt)\n",
    "q = np.matmul(w,p)\n",
    "\n",
    "wz = w[0]*np.asscalar(q[0])\n",
    "for ii in range(n_pca-1):\n",
    "    wz += w[ii+1]*np.asscalar(q[ii+1])\n",
    "\n",
    "sigma_squared_q = 1/(np.diag(d))\n",
    "sigma_wz = (sigma_squared_q[0])*(np.array(w[0])[0]**2)\n",
    "for ii in range(n_pca-1):\n",
    "    sigma_wz += (sigma_squared_q[ii+1])*(np.array(w[ii+1])[0]**2)\n",
    "sigma_wz = sigma_wz**0.5\n",
    "    \n",
    "plt.errorbar(z, np.array(pt)[0],yerr=error, fmt='-',capsize=3)\n",
    "plt.errorbar(z, np.array(wz)[0],yerr=sigma_wz, fmt='-',capsize=3)\n",
    "\n",
    "plt.ylabel('w(z)')\n",
    "plt.xlabel('z')\n",
    "\n",
    "plt.legend(('Before PCA','After PCA (3 pc)'))"
   ]
  },
  {
   "cell_type": "code",
   "execution_count": 9,
   "metadata": {},
   "outputs": [
    {
     "data": {
      "text/plain": [
       "<matplotlib.legend.Legend at 0xa6ab588>"
      ]
     },
     "execution_count": 9,
     "metadata": {},
     "output_type": "execute_result"
    },
    {
     "data": {
      "image/png": "[encoded data removed]",
      "text/plain": [
       "<Figure size 432x288 with 1 Axes>"
      ]
     },
     "metadata": {
      "needs_background": "light"
     },
     "output_type": "display_data"
    }
   ],
   "source": [
    "#grafica de los de mejor ajuste, aqui me di cuenta de que estaban mal los de eos_7bins\n",
    "plt.plot(z,[-1.622, 0.894,-3.6,-1.94,0.137,-2.27,0.97])\n",
    "plt.plot(z,[0.524,-0.91,-1.44,-1.56,-0.388,-3.86,1.0975])\n",
    "plt.legend(('datos varios','solo bins'))"
   ]
  },
  {
   "cell_type": "code",
   "execution_count": 6,
   "metadata": {},
   "outputs": [
    {
     "data": {
      "text/plain": [
       "matrix([[145.11412013, -20.60741761,   0.4156029 ,  -0.71384971,\n",
       "          -0.31044728,  -0.21232895,  -0.16539384],\n",
       "        [-20.60741761, 148.04035712, -20.66667869,   0.51662169,\n",
       "          -0.67057721,  -0.27982111,  -0.21232895],\n",
       "        [  0.4156029 , -20.66667869, 148.04123672, -20.66917738,\n",
       "           0.51468809,  -0.67057721,  -0.31044728],\n",
       "        [ -0.71384971,   0.51662169, -20.66917738, 148.04408416,\n",
       "         -20.66917738,   0.51662169,  -0.71384971],\n",
       "        [ -0.31044728,  -0.67057721,   0.51468809, -20.66917738,\n",
       "         148.04123672, -20.66667869,   0.4156029 ],\n",
       "        [ -0.21232895,  -0.27982111,  -0.67057721,   0.51662169,\n",
       "         -20.66667869, 148.04035712, -20.60741761],\n",
       "        [ -0.16539384,  -0.21232895,  -0.31044728,  -0.71384971,\n",
       "           0.4156029 , -20.60741761, 145.11412013]])"
      ]
     },
     "execution_count": 6,
     "metadata": {},
     "output_type": "execute_result"
    }
   ],
   "source": [
    "fisher"
   ]
  },
  {
   "cell_type": "code",
   "execution_count": 7,
   "metadata": {},
   "outputs": [
    {
     "data": {
      "text/plain": [
       "<matplotlib.legend.Legend at 0x8d08f60>"
      ]
     },
     "execution_count": 7,
     "metadata": {},
     "output_type": "execute_result"
    },
    {
     "data": {
      "image/png": "[encoded data removed]",
      "text/plain": [
       "<Figure size 432x288 with 1 Axes>"
      ]
     },
     "metadata": {
      "needs_background": "light"
     },
     "output_type": "display_data"
    }
   ],
   "source": [
    "#grafica del owaCDM7bins\n",
    "z = [0.0,0.5,1.0,1.5,2.0,2.5,3.0]\n",
    "plt.plot(z,[0.31,0.98,1.022,1.077,0.9838,0.95383,-0.9])\n",
    "plt.plot(z,[1.614,1.00,0.99,1.0,1.0,0.98,2.1])\n",
    "plt.legend(('datos varios','solo bins'))"
   ]
  },
  {
   "cell_type": "code",
   "execution_count": 14,
   "metadata": {},
   "outputs": [
    {
     "data": {
      "image/png": "[encoded data removed]",
      "text/plain": [
       "<Figure size 432x288 with 1 Axes>"
      ]
     },
     "metadata": {
      "needs_background": "light"
     },
     "output_type": "display_data"
    }
   ],
   "source": [
    "z = [0.4, 1.2, 1.9, 2.6]\n",
    "zerr = [0.4, 0.4, 0.3, 0.4]\n",
    "rho = [1.17, 1.64, 1.07, -0.53]\n",
    "rhoerr = [0.63, 1.64, 1.83, 1.42]\n",
    "plt.errorbar(z,rho,xerr=zerr, yerr=rhoerr, fmt='.', capsize=5)\n",
    "\n",
    "z2 = [0.4, 1.2, 1.9, 2.6]\n",
    "zerr2 = [0.4, 0.4, 0.3, 0.4]\n",
    "rho2 = [1.295, 1.81, 0.13, 0.53]\n",
    "rhoerr2 = [0.565, 1.18, 1.9, 1.85]\n",
    "plt.errorbar(z2,rho2,xerr=zerr2, yerr=rhoerr2, fmt='.', capsize=5)\n",
    "\n",
    "plt.ylabel('f(z)')\n",
    "plt.xlabel('z')\n",
    "\n",
    "plt.legend(('BBAO','CBAO'))\n",
    "plt.savefig('rho_BBAOvsCBAO.pdf')"
   ]
  },
  {
   "cell_type": "code",
   "execution_count": null,
   "metadata": {},
   "outputs": [],
   "source": [
    "#codigo para simplemc con prior flotante (intento al menos)\n",
    "\n",
    "#original\n",
    "\n",
    "from BaseLikelihood import BaseLikelihood\n",
    "import scipy.linalg as la\n",
    "import scipy as sp\n",
    "\n",
    "class eosBinsZhaoLikelihood(BaseLikelihood):\n",
    "    def __init__(self,name,values_filename, cov_filename):\n",
    "        BaseLikelihood.__init__(self,name)\n",
    "        print(\"Loading \",values_filename)\n",
    "        da = sp.loadtxt(values_filename)\n",
    "        self.zs = da[:,0]\n",
    "        self.Hs = da[:,1]\n",
    "        print(\"Loading \",cov_filename)\n",
    "        cov = sp.loadtxt(cov_filename,skiprows=1)\n",
    "        assert(len(cov) == len(self.zs))\n",
    "        vals, vecs = la.eig(cov)\n",
    "        vals = sorted(sp.real(vals))\n",
    "        print(\"Eigenvalues of cov matrix:\", vals[0:3],'...',vals[-1])\n",
    "        print(\"Adding marginalising constant\")\n",
    "        cov += 3**2\n",
    "        self.icov = la.inv(cov)\n",
    "\n",
    "\n",
    "    def loglike(self):\n",
    "        tvec = sp.array([self.theory_.luisfunction(z)[0] for z in self.zs])\n",
    "        #print tvec, self.Hs\n",
    "        ## This is the factor that we need to correct\n",
    "        ## note that in principle this shouldn't matter too much, we will marginalise over this\n",
    "        tvec += 0\n",
    "        delta = tvec - self.Hs\n",
    "        return -sp.dot(delta, sp.dot(self.icov, delta))/2.0\n",
    "\n",
    "\n",
    "class w_7bins(eosBinsZhaoLikelihood):\n",
    "    # data from https://arxiv.org/abs/1802.01505\n",
    "    def __init__(self):\n",
    "        eosBinsZhaoLikelihood.__init__(self,\"bins\",\"data/w_7bins_data.txt\",\n",
    "                                             \"data/w_7bins_cov.txt\")\n",
    "class density_7bins(eosBinsZhaoLikelihood):\n",
    "    # data from https://arxiv.org/abs/1802.01505\n",
    "    def __init__(self):\n",
    "        eosBinsZhaoLikelihood.__init__(self,\"bins_rho\",\"data/rho_7bins_data.txt\",\n",
    "\n",
    "                                       \n",
    "#copia modificable (esta es la que voy a modificar para hacer bien el codigo, la de arriba solo es para referencia)\n",
    "\n",
    "from BaseLikelihood import BaseLikelihood\n",
    "import scipy.linalg as la\n",
    "from scipy import integrate\n",
    "import scipy as sp\n",
    "import numpy as np\n",
    "                                       \n",
    "class eosBinsZhaoLikelihood(BaseLikelihood):\n",
    "    def __init__(self,name,values_filename, cov_filename):\n",
    "        BaseLikelihood.__init__(self,name)\n",
    "        print(\"Loading \",values_filename)\n",
    "                                      \n",
    "        print(\"Loading \",cov_filename)\n",
    "        cov = sp.loadtxt(cov_filename,skiprows=1)\n",
    "                                       \n",
    "        zs = np.linspace(0.01,3.0,15)                               \n",
    "        assert(len(cov) == len(zs))\n",
    "        vals, vecs = la.eig(cov)\n",
    "        vals = sorted(sp.real(vals))\n",
    "        print(\"Eigenvalues of cov matrix:\", vals[0:3],'...',vals[-1])\n",
    "        print(\"Adding marginalising constant\")\n",
    "        cov += 3**2\n",
    "        self.icov = la.inv(cov)\n",
    "\n",
    "\n",
    "    def loglike(self):\n",
    "                                       \n",
    "        zs = np.linspace(0.01,3.0,15)\n",
    "        w_flotante = np.zeros(len(zs))\n",
    "        for ii in range(len(zs)):\n",
    "            z_c = 0.3\n",
    "            jj = ii\n",
    "            N = 0\n",
    "            while(abs(zs[jj]-zs[ii])<=z_c):\n",
    "                w_flotante[ii]+= self.theory_.luisfunction(zs[jj])[0]\n",
    "                N+=1\n",
    "                jj+=1\n",
    "            jj = ii\n",
    "            while(abs(zs[jj-1]-zs[ii])<=z_c):\n",
    "                w_flotante[ii]+= self.theory_.luisfunction(zs[jj-1])[0]\n",
    "                N+=1\n",
    "                jj-=1\n",
    "            w_flotante[ii] = w_flotante[ii]/N               \n",
    "        Hs = w_flotante\n",
    "\n",
    "        tvec = sp.array([self.theory_.luisfunction(z)[0] for z in zs])\n",
    "        tvec += 0\n",
    "        delta = tvec - Hs\n",
    "        return -sp.dot(delta, sp.dot(self.icov, delta))/2.0\n",
    "\n",
    "\n",
    "class w_7bins(eosBinsZhaoLikelihood):\n",
    "    def __init__(self):\n",
    "        eosBinsZhaoLikelihood.__init__(self,\"bins\",\"data/w_7bins_data.txt\",\n",
    "                                             \"data/w_7bins_cov.txt\")\n",
    "class density_7bins(eosBinsZhaoLikelihood):\n",
    "    def __init__(self):\n",
    "        eosBinsZhaoLikelihood.__init__(self,\"bins_rho\",\"data/rho_7bins_data.txt\",\n",
    "                                        \n",
    "                                       "
   ]
  },
  {
   "cell_type": "code",
   "execution_count": 13,
   "metadata": {},
   "outputs": [
    {
     "data": {
      "text/plain": [
       "array([0.01      , 0.22357143, 0.43714286, 0.65071429, 0.86428571,\n",
       "       1.07785714, 1.29142857, 1.505     , 1.71857143, 1.93214286,\n",
       "       2.14571429, 2.35928571, 2.57285714, 2.78642857, 3.        ])"
      ]
     },
     "execution_count": 13,
     "metadata": {},
     "output_type": "execute_result"
    }
   ],
   "source": [
    "#algoritmo para crear los priors promedios flotantes\n",
    "w_flotante = np.zeros(len(zs))\n",
    "for ii in range(len(zs)):\n",
    "    z_c = 1\n",
    "    jj = ii\n",
    "    N = 0\n",
    "    while(abs(zs[jj]-zs[ii])<=z_c):\n",
    "        w_flotante[ii]+=teoria.w\n",
    "        N+=1\n",
    "        jj+=1\n",
    "    jj = ii\n",
    "    while(abs(zs[ii]-zs[jj-1])<=z_c):\n",
    "        w_flotante[ii]+=teoria.w\n",
    "        N+=1\n",
    "    w_flotante[ii] = w_flotante[ii]/N\n",
    "        \n"
   ]
  },
  {
   "cell_type": "code",
   "execution_count": 16,
   "metadata": {},
   "outputs": [],
   "source": [
    "zs = np.linspace(0,5,10)\n",
    "zz = zs[-2]"
   ]
  },
  {
   "cell_type": "code",
   "execution_count": 2,
   "metadata": {},
   "outputs": [
    {
     "name": "stdout",
     "output_type": "stream",
     "text": [
      "[9.61372622e+00 6.24390810e+00 1.66154381e+00 4.58051074e-01\n",
      " 1.06510040e-01 3.22276436e-02 1.28963409e-02 5.36682109e-03\n",
      " 2.56414411e-03 1.30890793e-03 7.40937460e-04 4.25189409e-04\n",
      " 2.64974873e-04 1.79037046e-04 1.38426467e-04]\n",
      "[3.50926139 2.48159272 2.00004139 1.18375553 0.99176042 0.72851973\n",
      " 0.59456214 0.43916175 0.2731597  0.204632   0.11614691 0.00413088\n",
      " 0.01511161 0.01010834 0.04335642]\n",
      "[7.29899208e+00 1.14045217e+00 4.49206607e-01 1.54971386e-01\n",
      " 5.16064886e-02 2.08867800e-02 9.89786806e-03 4.34778101e-03\n",
      " 2.29934184e-03 1.29554446e-03 7.34658836e-04 4.22131930e-04\n",
      " 2.62005067e-04 1.84484723e-04 1.36875562e-04]\n",
      "[ 1.  2.  3.  4.  5.  6.  7.  8.  9. 10. 11. 12. 13. 14. 15.]\n"
     ]
    },
    {
     "data": {
      "image/png": "[encoded data removed]",
      "text/plain": [
       "<Figure size 432x288 with 1 Axes>"
      ]
     },
     "metadata": {
      "needs_background": "light"
     },
     "output_type": "display_data"
    }
   ],
   "source": [
    "#viendo los eigenvalores de los 15 escalones con prior flotante para ver como varian con y sin datos\n",
    "\n",
    "import numpy as np\n",
    "import matplotlib.pyplot as plt\n",
    "\n",
    "n_pca = 15\n",
    "\n",
    "matriz_cov = np.loadtxt('corrfunczhao_tanh_cov.txt')\n",
    "matriz_cov = np.matrix(matriz_cov)\n",
    "sigma_corr = np.linalg.eig(matriz_cov)[0]\n",
    "\n",
    "matriz_cov2 = np.loadtxt('corrfunczhao_solodatos_tanh_cov.txt')\n",
    "matriz_cov2 = np.matrix(matriz_cov2)\n",
    "sigma_corr2 = np.linalg.eig(matriz_cov2)[0]\n",
    "\n",
    "\n",
    "matriz_cov3 = np.loadtxt('corrfunczhao_datos+priorflot_tanh_cov.txt')\n",
    "matriz_cov3 = np.matrix(matriz_cov3)\n",
    "sigma_corr3 = np.linalg.eig(matriz_cov3)[0]\n",
    "\n",
    "\n",
    "\n",
    "z = np.linspace(1,n_pca,n_pca)\n",
    "\n",
    "print sigma_corr\n",
    "print sigma_corr2\n",
    "print sigma_corr3\n",
    "print z\n",
    "\n",
    "#plt.rc('text', usetex=False)\n",
    "\n",
    "plt.scatter(z,1/sigma_corr, c='y')\n",
    "plt.scatter(z,1/sigma_corr2, c='r')\n",
    "plt.scatter(z,1/sigma_corr3, marker='+', c='b')\n",
    "plt.yscale('log')\n",
    "\n",
    "plt.ylabel(r'1/$\\sigma$')\n",
    "plt.xlabel('pc number')\n",
    "plt.legend(('Prior','Data','Prior+Data'))\n",
    "plt.savefig('pc_modes_data+prior.pdf')"
   ]
  },
  {
   "cell_type": "code",
   "execution_count": 23,
   "metadata": {},
   "outputs": [
    {
     "data": {
      "image/png": "[encoded data removed]",
      "text/plain": [
       "<Figure size 432x288 with 1 Axes>"
      ]
     },
     "metadata": {
      "needs_background": "light"
     },
     "output_type": "display_data"
    }
   ],
   "source": [
    "#pca para los 15 bines con datos+zhao\n",
    "import numpy as np\n",
    "import matplotlib.pyplot as plt\n",
    "\n",
    "n_pca = 15\n",
    "\n",
    "matriz_cov = np.loadtxt('corrfunczhao_datos+priorflot_tanh_cov.txt')\n",
    "matriz_cov = np.matrix(matriz_cov)\n",
    "error = np.sqrt(np.diag(matriz_cov))\n",
    "fisher = np.linalg.inv(matriz_cov)\n",
    "fish_eig = np.linalg.eig(fisher)\n",
    "\n",
    "d = np.diag(fish_eig[0])\n",
    "w = np.transpose(fish_eig[1])\n",
    "wt = fish_eig[1]\n",
    "pt = [1.183, 1.212, 1.27, 1.37, 1.41, 1.45, 1.41, 1.26, 1.01, 0.7, 0.22, -0.3, -0.7, -0.93, -0.98]\n",
    "z = np.linspace(0.01,3.0,15)\n",
    "pt = np.matrix(pt)\n",
    "p = np.transpose(pt)\n",
    "q = np.matmul(w,p)\n",
    "\n",
    "wz = w[0]*np.asscalar(q[0])\n",
    "for ii in range(n_pca-1):\n",
    "    wz += w[ii+1]*np.asscalar(q[ii+1])\n",
    "\n",
    "sigma_squared_q = 1/(np.diag(d))\n",
    "sigma_wz = (sigma_squared_q[0])*(np.array(w[0])[0]**2)\n",
    "for ii in range(n_pca-1):\n",
    "    sigma_wz += (sigma_squared_q[ii+1])*(np.array(w[ii+1])[0]**2)\n",
    "sigma_wz = sigma_wz**0.5\n",
    "    \n",
    "plt.errorbar(z, 0.7*np.array(pt)[0],yerr=0.7*error, fmt='-',capsize=3)\n",
    "plt.errorbar(z, 0.7*np.array(wz)[0],yerr=0.7*sigma_wz, fmt='-',capsize=3)\n",
    "\n",
    "plt.ylabel(r'$\\rho/\\rho_c$')\n",
    "plt.xlabel('z')\n",
    "\n",
    "#plt.legend(('Before PCA','After PCA (3 pc)'))\n",
    "\n",
    "plt.savefig('rho_15bins_datos+zhao.pdf')"
   ]
  },
  {
   "cell_type": "code",
   "execution_count": 3,
   "metadata": {},
   "outputs": [],
   "source": [
    "#H(z)/n\n",
    "#np.matrix(C)"
   ]
  },
  {
   "cell_type": "code",
   "execution_count": 8,
   "metadata": {},
   "outputs": [
    {
     "name": "stdout",
     "output_type": "stream",
     "text": [
      "[3.05933529e+00 1.19962302e+00 7.69974733e-01 2.81409684e-01\n",
      " 9.05081108e-02 3.04422036e-02 1.21169920e-02 5.10663132e-03\n",
      " 2.49805010e-03 1.29839754e-03 7.45070422e-04 4.12830690e-04\n",
      " 2.57705135e-04 1.73314600e-04 1.33540300e-04]\n",
      "[1.25197901 1.21583344 1.16440809 1.1720514  0.8097057  0.00273206\n",
      " 0.01018413 0.02464822 0.10678755 0.20380496 0.23058349 0.30307216\n",
      " 0.29468967 0.28080439 0.25611734]\n",
      "[0.63313332 0.49356038 0.25511134 0.1590719  0.13935331 0.00336236\n",
      " 0.11504444 0.10927813 0.09567672 0.01671813 0.07220463 0.05483533\n",
      " 0.04850967 0.03920188 0.03869919]\n",
      "[ 1.  2.  3.  4.  5.  6.  7.  8.  9. 10. 11. 12. 13. 14. 15.]\n"
     ]
    },
    {
     "data": {
      "text/plain": [
       "<matplotlib.legend.Legend at 0xaea4898>"
      ]
     },
     "execution_count": 8,
     "metadata": {},
     "output_type": "execute_result"
    },
    {
     "data": {
      "image/png": "[encoded data removed]",
      "text/plain": [
       "<Figure size 432x288 with 1 Axes>"
      ]
     },
     "metadata": {
      "needs_background": "light"
     },
     "output_type": "display_data"
    }
   ],
   "source": [
    "#viendo los eigenvalores de los 15 escalones con prior flotante para ver como varian con y sin datos\n",
    "#aqui ya puse para borrar los primeros 3 elementos de la matriz, los correspondientes a h,Om,Obh2\n",
    "\n",
    "import numpy as np\n",
    "import matplotlib.pyplot as plt\n",
    "\n",
    "\n",
    "n_pca = 18\n",
    "n_erase = 3\n",
    "file_root = u'C:\\\\Users\\\\52811\\\\cosas_python\\\\SimpleMC-master\\\\chains_zhao\\\\'\n",
    "\n",
    "\n",
    "\n",
    "#matriz_cov = np.loadtxt(file_root+'rho_tanh20_phy_rho_corr+HD+SN+CBAO+Planck_nested_dynesty_multi_cov.txt')\n",
    "matriz_cov = np.loadtxt(file_root+'rho_nodal_phy_rho_corr_nested_dynesty_multi_cov.txt')\n",
    "matriz_cov = np.matrix(matriz_cov)\n",
    "matriz_cov = np.delete(np.delete(matriz_cov, range(n_erase),axis=1),range(n_erase),axis=0)\n",
    "sigma_corr = np.linalg.eig(matriz_cov)[0]\n",
    "\n",
    "#matriz_cov2 = np.loadtxt(file_root+'rho_tanh20_phy_rho_corr+HD+SN+CBAO+Planck_nested_dynesty_multi_cov.txt')\n",
    "matriz_cov2 = np.loadtxt(file_root+'rho_tanh15_phy_CBAO+HD+SN_nested_dynesty_multi_cov.txt')\n",
    "matriz_cov2 = np.matrix(matriz_cov2)\n",
    "matriz_cov2 = np.delete(np.delete(matriz_cov2, range(n_erase),axis=1),range(n_erase),axis=0)\n",
    "sigma_corr2 = np.linalg.eig(matriz_cov2)[0]\n",
    "\n",
    "#matriz_cov3 = np.loadtxt(file_root+'rho_tanh20_phy_rho_corr+HD+SN+CBAO+Planck_nested_dynesty_multi_cov.txt')\n",
    "matriz_cov3 = np.loadtxt(file_root+'rho_tanh15_eta0_distinct_phy_rho_corr+CBAO+HD+SN_nested_dynesty_multi_cov.txt')\n",
    "#matriz_cov3 = np.loadtxt(file_root+'rho_tanh15_phy_rho_corr+CBAO+HD+SN_nested_dynesty_multi_cov.txt')\n",
    "matriz_cov3 = np.matrix(matriz_cov3)\n",
    "matriz_cov3 = np.delete(np.delete(matriz_cov3, range(n_erase),axis=1),range(n_erase),axis=0)\n",
    "sigma_corr3 = np.linalg.eig(matriz_cov3)[0]\n",
    "\n",
    "\n",
    "n_pca -= n_erase\n",
    "z = np.linspace(1,n_pca,n_pca)\n",
    "\n",
    "print sigma_corr\n",
    "print sigma_corr2\n",
    "print sigma_corr3\n",
    "print z\n",
    "\n",
    "#plt.rc('text', usetex=False)\n",
    "\n",
    "plt.scatter(z,1/sigma_corr, c='y')\n",
    "plt.scatter(z,1/sigma_corr2, c='r')\n",
    "plt.scatter(z,1/sigma_corr3, marker='+', c='b')\n",
    "plt.yscale('log')\n",
    "\n",
    "plt.ylabel(r'1/$\\sigma$')\n",
    "plt.xlabel('pc number')\n",
    "plt.legend(('Prior','Data','Prior+Data'))\n",
    "#plt.savefig('pc_modes_data+prior.pdf')"
   ]
  },
  {
   "cell_type": "markdown",
   "metadata": {},
   "source": [
    "# PCA para la nodal"
   ]
  },
  {
   "cell_type": "code",
   "execution_count": 18,
   "metadata": {},
   "outputs": [
    {
     "data": {
      "image/png": "[encoded data removed]",
      "text/plain": [
       "<Figure size 432x288 with 1 Axes>"
      ]
     },
     "metadata": {
      "needs_background": "light"
     },
     "output_type": "display_data"
    }
   ],
   "source": [
    "import numpy as np\n",
    "import matplotlib.pyplot as plt\n",
    "\n",
    "n_pca = 3\n",
    "n_erase = 3\n",
    "\n",
    "\n",
    "file_root = u'C:\\\\Users\\\\52811\\\\cosas_python\\\\SimpleMC-master\\\\chains_zhao\\\\'\n",
    "#file_root += 'rho_nodal6_priorredux2_phy_CBAO+HD+SN_nested_dynesty_multi_cov.txt'\n",
    "#file_root += 'rho_tanh15_eta0_distinct_phy_rho_corr+CBAO+HD+SN_nested_dynesty_multi_cov.txt'\n",
    "#file_root += 'rho_tanh15_phy_rho_corr+CBAO+HD+SN_nested_dynesty_multi_cov.txt'\n",
    "file_root += 'rho_tanh15_phy_CBAO+HD+SN_nested_dynesty_multi_cov.txt'\n",
    "#file_root += 'rho_nodal6_phy_CBAO+HD+SN_nested_dynesty_multi_cov.txt'\n",
    "\n",
    "\n",
    "\n",
    "#las primeras 3 instrucciones son para borrar los de los otros 3 elementos de la matriz de los params que no nos importan\n",
    "matriz_cov = np.loadtxt(file_root)\n",
    "matriz_cov = np.matrix(matriz_cov)\n",
    "matriz_cov = np.delete(np.delete(matriz_cov, range(n_erase),axis=1),range(n_erase),axis=0)\n",
    "\n",
    "error = np.sqrt(np.diag(matriz_cov))\n",
    "fisher = np.linalg.inv(matriz_cov)\n",
    "fish_eig = np.linalg.eig(fisher)\n",
    "\n",
    "\n",
    "#n_pca -= n_erase\n",
    "d = np.diag(fish_eig[0])\n",
    "w = np.transpose(fish_eig[1])\n",
    "wt = fish_eig[1]\n",
    "#pt = [0.96, 0.98, 0.876, 1.05, 0.84, 0.95, 0.974, 0.87, 0.904, 0.907, -0.25, -0.3684, -0.24, -0.26, -0.25] #rho_nodal6_priorredux2\n",
    "#pt = [1.03, 1.041, 1.03, 0.768, -0.58, 0.0005] #rho_nodal6\n",
    "pt = [1.183, 1.212, 1.27, 1.37, 1.41, 1.45, 1.41, 1.26, 1.01, 0.7, 0.22, -0.3, -0.7, -0.93, -0.98] \n",
    "\n",
    "\n",
    "z = np.linspace(0.01,3.0,15)\n",
    "pt = np.matrix(pt)\n",
    "p = np.transpose(pt)\n",
    "q = np.matmul(w,p)\n",
    "\n",
    "wz = w[0]*np.asscalar(q[0])\n",
    "for ii in range(n_pca-1):\n",
    "    wz += w[ii+1]*np.asscalar(q[ii+1])\n",
    "\n",
    "sigma_squared_q = 1/(np.diag(d))\n",
    "sigma_wz = (sigma_squared_q[0])*(np.array(w[0])[0]**2)\n",
    "for ii in range(n_pca-1):\n",
    "    sigma_wz += (sigma_squared_q[ii+1])*(np.array(w[ii+1])[0]**2)\n",
    "sigma_wz = sigma_wz**0.5\n",
    "    \n",
    "plt.errorbar(z, 0.7*np.array(pt)[0],yerr=0.7*error, fmt='-',capsize=3)\n",
    "plt.errorbar(z, 0.7*np.array(wz)[0],yerr=0.7*sigma_wz, fmt='-',capsize=3)\n",
    "\n",
    "plt.ylabel(r'$\\rho/\\rho_c$')\n",
    "plt.xlabel('z')\n",
    "\n",
    "plt.legend(('Before PCA','After PCA ('+str(n_pca)+' pc)'))\n",
    "plt.savefig('pca_rho_15nodal.pdf')"
   ]
  },
  {
   "cell_type": "code",
   "execution_count": 11,
   "metadata": {},
   "outputs": [
    {
     "name": "stdout",
     "output_type": "stream",
     "text": [
      "0.675169427065707\n",
      "0.18112551152257053\n",
      "0.07483726531433106\n",
      "0.017273597144003228\n",
      "0.009050835214250324\n",
      "0.007999727574764763\n",
      "0.007202187612389104\n",
      "0.006569003774301796\n",
      "0.006259483349092279\n",
      "0.006086356160785868\n",
      "0.0022781179710335037\n",
      "0.0014733514666895363\n",
      "0.0015171528068928743\n",
      "0.0015841568955363718\n",
      "0.001573826127651781\n"
     ]
    }
   ],
   "source": [
    "#eigenvalores normalizados para la celda de arriba\n",
    "x=0\n",
    "for ii in range(len(d)):\n",
    "    x+=d[ii,ii]\n",
    "for ii in range(len(d)):\n",
    "    print(1/x*d[ii,ii])"
   ]
  },
  {
   "cell_type": "markdown",
   "metadata": {},
   "source": [
    "## PCA para pantheon completo"
   ]
  },
  {
   "cell_type": "code",
   "execution_count": 16,
   "metadata": {},
   "outputs": [
    {
     "data": {
      "image/png": "[encoded data removed]",
      "text/plain": [
       "<Figure size 432x288 with 1 Axes>"
      ]
     },
     "metadata": {
      "needs_background": "light"
     },
     "output_type": "display_data"
    }
   ],
   "source": [
    "import numpy as np\n",
    "import matplotlib.pyplot as plt\n",
    "\n",
    "n_pca = 20\n",
    "n_erase = 3\n",
    "type_graph = 'eos' # eos o rho\n",
    "\n",
    "file_root = u'C:\\\\Users\\\\52811\\\\cosas_python\\\\SimpleMC-master\\\\chains_zhao_new\\\\'\n",
    "#file_root += 'rho_tanh20_phy_rho_corr+Pantheon+CBAO+HD_nested_dynesty_multi_cov.txt'\n",
    "file_root += 'eos_tanh20_phy_Pantheon+CBAO+HD_nested_dynesty_multi_cov.txt'\n",
    "\n",
    "\n",
    "\n",
    "\n",
    "#las primeras 3 instrucciones son para borrar los de los otros 3 elementos de la matriz de los params que no nos importan\n",
    "matriz_cov = np.loadtxt(file_root)\n",
    "matriz_cov = np.matrix(matriz_cov)\n",
    "matriz_cov = np.delete(np.delete(matriz_cov, range(n_erase),axis=1),range(n_erase),axis=0)\n",
    "\n",
    "error = np.sqrt(np.diag(matriz_cov))\n",
    "fisher = np.linalg.inv(matriz_cov)\n",
    "fish_eig = np.linalg.eig(fisher)\n",
    "\n",
    "\n",
    "#n_pca -= n_erase\n",
    "d = np.diag(fish_eig[0])\n",
    "w = np.transpose(fish_eig[1])\n",
    "wt = fish_eig[1]\n",
    "\n",
    "#pt = [0.963,1.00,1.167,0.327,-0.199,-0.062] #rho_tanh6\n",
    "#pt=[0.906,1.021,0.649,0.9827,1.0031,0.7694,0.8574,0.9321,0.9531,0.8574,0.37493,0.22137,0.11638,-0.0045,-0.1894,-0.35155,-0.21086,-0.0903,0.01655,-0.01034] #rho_tanh20_rho_corr\n",
    "#pt=[-1.4583,-0.4294,-1.6647,-0.6989,-0.9571,-1.3108,-0.847,-0.6128,-0.5404,-0.8275,-1.5287,-1.3872,-1.2528,-1.2669,-1.3894,-1.5686,-1.4572,-1.3201,-1.2627,-1.2591] #eos_tanh20_eos_corr\n",
    "pt= [-1.5577,-0.3223,-1.7731,-0.6739,-0.8901,-1.5249,-0.7471,-0.6417,-0.5523,-0.7834,-1.6511,-1.2987,-1.2034,-1.2344,-1.3646,-1.6,-1.4456,-1.27,-1.2758,-1.2474] #eos_tanh20  \n",
    "\n",
    "\n",
    "\n",
    "z = np.linspace(0.01,3.0,len(pt))\n",
    "pt = np.matrix(pt)\n",
    "p = np.transpose(pt)\n",
    "q = np.matmul(w,p)\n",
    "sigma_squared_q = 1/(np.diag(d))\n",
    "\n",
    "sigma_squared_q, q, w = zip(*sorted(zip(sigma_squared_q,q,w)))\n",
    "\n",
    "\n",
    "wz = w[0]*np.asscalar(q[0])\n",
    "for ii in range(n_pca-1):\n",
    "    wz += w[ii+1]*np.asscalar(q[ii+1])\n",
    "\n",
    "#sigma_squared_q = 1/(np.diag(d))\n",
    "sigma_wz = (sigma_squared_q[0])*(np.array(w[0])[0]**2)\n",
    "for ii in range(n_pca-1):\n",
    "    sigma_wz += (sigma_squared_q[ii+1])*(np.array(w[ii+1])[0]**2)\n",
    "sigma_wz = sigma_wz**0.5\n",
    "\n",
    "plt.rc('font', size=10)\n",
    "if type_graph=='rho':\n",
    "    plt.errorbar(z, 0.7*np.array(pt)[0],yerr=0.7*error, fmt='-',capsize=3,color='b')\n",
    "    plt.errorbar(z, 0.7*np.array(wz)[0],yerr=0.7*sigma_wz, fmt='-',capsize=3,color='r')\n",
    "    plt.grid(axis = 'both')\n",
    "    plt.ylabel(r'$\\rho/\\rho_c$')\n",
    "elif type_graph=='eos':\n",
    "    plt.errorbar(z, np.array(pt)[0],yerr=error, fmt='-',capsize=3,color='b')\n",
    "    plt.errorbar(z, np.array(wz)[0],yerr=sigma_wz, fmt='-',capsize=3,color='r')\n",
    "    plt.grid(axis = 'both')\n",
    "    plt.ylabel(r'$w(z)$')\n",
    "\n",
    "plt.xlabel('z')\n",
    "\n",
    "z_lcdm = np.linspace(0,3,100)\n",
    "lcdm = np.empty(100)\n",
    "if type_graph=='eos':\n",
    "    lcdm.fill(-1)\n",
    "elif type_graph=='rho':\n",
    "    lcdm.fill(0.7)\n",
    "plt.plot(z_lcdm,lcdm, linestyle='--', color='k')\n",
    "\n",
    "\n",
    "plt.legend(('LCDM','Before PCA','After PCA ('+str(n_pca)+' pc)'))\n",
    "plt.savefig('pca_eos_20bin_pantheon.pdf')"
   ]
  },
  {
   "cell_type": "code",
   "execution_count": 6,
   "metadata": {},
   "outputs": [
    {
     "name": "stdout",
     "output_type": "stream",
     "text": [
      "[0.006950385819809579, 0.007220495945905645, 0.00731299137679188, 0.007461956815455841, 0.007710623314668626, 0.007740982144830645, 0.00783680480094096, 0.007964888338630708, 0.008041996278193995, 0.008636142153482273, 0.013524806656192063, 0.013992383670847012, 0.014983201285207807, 0.017434143678651513, 0.022196586723781418, 0.031809229308587254, 0.039299991135447826, 0.08877350724638394, 0.24706103356754947, 0.43404784973864147]\n"
     ]
    }
   ],
   "source": [
    "x=0\n",
    "lista=[]\n",
    "for ii in range(len(d)):\n",
    "    x+=d[ii,ii]\n",
    "for ii in range(len(d)):\n",
    "    lista+=[1/x*d[ii,ii]]\n",
    "    #print(1/x*d[ii,ii])\n",
    "print sorted(lista)"
   ]
  },
  {
   "cell_type": "code",
   "execution_count": 7,
   "metadata": {},
   "outputs": [],
   "source": [
    "list1 = sigma_squared_q\n",
    "list2 = q\n",
    "list3 = w\n",
    "list1, list2, list3 = zip(*sorted(zip(list1, list2, list3)))\n",
    "#list1\n",
    "#(1, 1, 2, 3, 4)\n",
    "#list2 \n",
    "#('one', 'one2', 'two', 'three', 'four')"
   ]
  },
  {
   "cell_type": "code",
   "execution_count": 8,
   "metadata": {},
   "outputs": [
    {
     "data": {
      "text/plain": [
       "array([0.00135975, 0.00238887, 0.00664834, 0.01501772, 0.01855425,\n",
       "       0.0265895 , 0.0338529 , 0.03939053, 0.04217982, 0.04363805,\n",
       "       0.06834027, 0.07338927, 0.07409975, 0.07531083, 0.07624307,\n",
       "       0.07654326, 0.07909403, 0.08070517, 0.08173902, 0.08491561])"
      ]
     },
     "execution_count": 8,
     "metadata": {},
     "output_type": "execute_result"
    }
   ],
   "source": [
    "(list1)/sum((list1))"
   ]
  },
  {
   "cell_type": "code",
   "execution_count": 9,
   "metadata": {},
   "outputs": [
    {
     "data": {
      "text/plain": [
       "0.04396891983898621"
      ]
     },
     "execution_count": 9,
     "metadata": {},
     "output_type": "execute_result"
    }
   ],
   "source": [
    "normalized = list1/sum(list1)\n",
    "sum(normalized[0:5])"
   ]
  },
  {
   "cell_type": "code",
   "execution_count": 10,
   "metadata": {},
   "outputs": [
    {
     "data": {
      "text/plain": [
       "(0.007986405590600591,\n",
       " 0.014030873762992956,\n",
       " 0.039048611249749336,\n",
       " 0.08820567317161943,\n",
       " 0.10897724494082717,\n",
       " 0.1561718572714995,\n",
       " 0.1988329474412692,\n",
       " 0.23135791262199373,\n",
       " 0.2477406462891117,\n",
       " 0.2563054882676487,\n",
       " 0.4013924402973258,\n",
       " 0.4310474730186428,\n",
       " 0.43522043578790404,\n",
       " 0.44233361194917514,\n",
       " 0.44780909048546713,\n",
       " 0.44957223719465644,\n",
       " 0.4645540385011045,\n",
       " 0.4740169918348181,\n",
       " 0.48008920712801,\n",
       " 0.49874672624084976)"
      ]
     },
     "execution_count": 10,
     "metadata": {},
     "output_type": "execute_result"
    }
   ],
   "source": [
    "sigma_squared_q"
   ]
  },
  {
   "cell_type": "code",
   "execution_count": null,
   "metadata": {},
   "outputs": [],
   "source": []
  }
 ],
 "metadata": {
  "kernelspec": {
   "display_name": "Python 2",
   "language": "python",
   "name": "python2"
  },
  "language_info": {
   "codemirror_mode": {
    "name": "ipython",
    "version": 2
   },
   "file_extension": ".py",
   "mimetype": "text/x-python",
   "name": "python",
   "nbconvert_exporter": "python",
   "pygments_lexer": "ipython2",
   "version": "2.7.16"
  }
 },
 "nbformat": 4,
 "nbformat_minor": 2
}
