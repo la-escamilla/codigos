{
 "cells": [
  {
   "cell_type": "code",
   "execution_count": 1,
   "metadata": {},
   "outputs": [],
   "source": [
    "import numpy as np\n",
    "import matplotlib.pyplot as plt"
   ]
  },
  {
   "cell_type": "code",
   "execution_count": 36,
   "metadata": {},
   "outputs": [
    {
     "name": "stdout",
     "output_type": "stream",
     "text": [
      "[[0.61655556 0.61544444]\n",
      " [0.61544444 0.71655556]]\n",
      "eigenvalores [0.0490834  1.28402771]\n",
      "eigenvectores [[-0.73517866 -0.6778734 ]\n",
      " [ 0.6778734  -0.73517866]]\n"
     ]
    },
    {
     "data": {
      "image/png": "[encoded data removed]",
      "text/plain": [
       "<Figure size 432x288 with 1 Axes>"
      ]
     },
     "metadata": {
      "needs_background": "light"
     },
     "output_type": "display_data"
    }
   ],
   "source": [
    "x = [2.5,0.5,2.2,1.9,3.1,2.3,2,1,1.5,1.1]\n",
    "y = [2.4,0.7,2.9,2.2,3.0,2.7,1.6,1.1,1.6,0.9]\n",
    "data = np.vstack([x,y])\n",
    "cov = np.cov(x,y)\n",
    "eigen = np.linalg.eig(cov)\n",
    "mat = np.matrix(eigen[1])\n",
    "plt.scatter(x,y)\n",
    "print cov\n",
    "print 'eigenvalores', eigen[0]\n",
    "print 'eigenvectores', eigen[1]#[0,0]"
   ]
  },
  {
   "cell_type": "code",
   "execution_count": 37,
   "metadata": {},
   "outputs": [
    {
     "name": "stdout",
     "output_type": "stream",
     "text": [
      "[[-0.73517866 -0.6778734 ]\n",
      " [ 0.6778734  -0.73517866]] [[2.5 0.5 2.2 1.9 3.1 2.3 2.  1.  1.5 1.1]\n",
      " [2.4 0.7 2.9 2.2 3.  2.7 1.6 1.1 1.6 0.9]]\n"
     ]
    }
   ],
   "source": [
    "print mat, data"
   ]
  },
  {
   "cell_type": "code",
   "execution_count": 116,
   "metadata": {},
   "outputs": [
    {
     "data": {
      "text/plain": [
       "<matplotlib.collections.PathCollection at 0x8715a20>"
      ]
     },
     "execution_count": 116,
     "metadata": {},
     "output_type": "execute_result"
    },
    {
     "data": {
      "image/png": "[encoded data removed]",
      "text/plain": [
       "<Figure size 432x288 with 1 Axes>"
      ]
     },
     "metadata": {
      "needs_background": "light"
     },
     "output_type": "display_data"
    }
   ],
   "source": [
    "new_data = np.asarray(np.matmul(np.transpose(mat), data))\n",
    "plt.scatter(new_data[[1]],new_data[[0]])"
   ]
  },
  {
   "cell_type": "code",
   "execution_count": 114,
   "metadata": {},
   "outputs": [
    {
     "data": {
      "text/plain": [
       "<matplotlib.collections.PathCollection at 0x958ed68>"
      ]
     },
     "execution_count": 114,
     "metadata": {},
     "output_type": "execute_result"
    },
    {
     "data": {
      "image/png": "[encoded data removed]",
      "text/plain": [
       "<Figure size 432x288 with 1 Axes>"
      ]
     },
     "metadata": {
      "needs_background": "light"
     },
     "output_type": "display_data"
    }
   ],
   "source": [
    "data_reduced = np.asarray(np.matmul(np.transpose(np.matrix([mat[0,1],mat[1,1]])),(np.matrix(new_data[1]))))\n",
    "plt.scatter(data_reduced[0],data_reduced[1])"
   ]
  },
  {
   "cell_type": "markdown",
   "metadata": {},
   "source": [
    "# Funcion bines EoS DE"
   ]
  },
  {
   "cell_type": "code",
   "execution_count": 109,
   "metadata": {},
   "outputs": [],
   "source": [
    "import numpy as np\n",
    "import matplotlib.pyplot as plt"
   ]
  },
  {
   "cell_type": "code",
   "execution_count": 110,
   "metadata": {},
   "outputs": [
    {
     "name": "stdout",
     "output_type": "stream",
     "text": [
      "8\n",
      "9\n",
      "100\n"
     ]
    }
   ],
   "source": [
    "#w_i = [-1,-1.2,-1.1,-0.9,-1.1,-0.9,-0.7,-1.5]\n",
    "w_i = [1,1,1,1,1,1,2,2]\n",
    "z_i = [0,0.1,0.2,0.4,0.6,0.8,1.0,1.3,2.5]\n",
    "z=np.linspace(0.0,2.5,100)\n",
    "print len(w_i)\n",
    "print len(z_i)\n",
    "print len(z)"
   ]
  },
  {
   "cell_type": "code",
   "execution_count": 111,
   "metadata": {},
   "outputs": [
    {
     "name": "stdout",
     "output_type": "stream",
     "text": [
      "[1, 1, 1, 1, 1, 1, 2, 2]\n"
     ]
    },
    {
     "data": {
      "text/plain": [
       "[<matplotlib.lines.Line2D at 0xc1199b0>]"
      ]
     },
     "execution_count": 111,
     "metadata": {},
     "output_type": "execute_result"
    },
    {
     "data": {
      "image/png": "[encoded data removed]",
      "text/plain": [
       "<Figure size 432x288 with 1 Axes>"
      ]
     },
     "metadata": {
      "needs_background": "light"
     },
     "output_type": "display_data"
    }
   ],
   "source": [
    "#intento del peiper,smoothing funct https://www.j-raedler.de/2010/10/smooth-transition-between-functions-with-tanh/\n",
    "w_z=[]\n",
    "def bines(w_2,w_1,z_2,z_1,eta):\n",
    "    return (w_2-w_1)*(1+np.tanh((z_2-z_1)/eta))/2\n",
    "\n",
    "for ii in range(len(z)):\n",
    "    w=w_i[0]\n",
    "    for jj in range(len(w_i)-1):\n",
    "        w+=bines(w_i[jj+1],w_i[jj],z[ii],z_i[jj+1],0.001)\n",
    "    w_z.append(w)\n",
    "print w_i\n",
    "plt.plot(z,w_z)"
   ]
  },
  {
   "cell_type": "code",
   "execution_count": 126,
   "metadata": {},
   "outputs": [],
   "source": [
    "from scipy.integrate import quad\n",
    "\n",
    "#ecuacion de estado de la energia oscura en forma de bines\n",
    "\n",
    "def eos(z):\n",
    "    w_i = [-1,-1.2,-1.1,-0.9,-1.1,-0.9,-0.7,-1.5]\n",
    "    #w_i = [1,1,1,1,1,1,2,2]\n",
    "    z_i = [0,0.1,0.2,0.4,0.6,0.8,1.0,1.3,2.5]\n",
    "    def bines(w_2,w_1,z_2,z_1,eta):\n",
    "        return (w_2-w_1)*(1+np.tanh((z_2-z_1)/eta))/2\n",
    "    w=w_i[0]\n",
    "    for jj in range(len(w_i)-1):\n",
    "        w+=bines(w_i[jj+1],w_i[jj],z,z_i[jj+1],0.001)\n",
    "    return w\n",
    "    "
   ]
  },
  {
   "cell_type": "code",
   "execution_count": 127,
   "metadata": {},
   "outputs": [
    {
     "name": "stdout",
     "output_type": "stream",
     "text": [
      "-1.515\n"
     ]
    }
   ],
   "source": [
    "#valor de la integral para la rho de la energia oscura\n",
    "z_intervalo=2.5\n",
    "#quad(lambda b: 3.0*(1.0+eos(b))/(1.0+b),0.0,z_intervalo)[0]\n",
    "r=quad(lambda b: eos(b)/2.0,0.0,z_intervalo)[0]\n",
    "print r"
   ]
  },
  {
   "cell_type": "code",
   "execution_count": 128,
   "metadata": {},
   "outputs": [
    {
     "data": {
      "text/plain": [
       "-0.9"
      ]
     },
     "execution_count": 128,
     "metadata": {},
     "output_type": "execute_result"
    }
   ],
   "source": [
    "eos(0.9)"
   ]
  },
  {
   "cell_type": "code",
   "execution_count": 129,
   "metadata": {},
   "outputs": [
    {
     "data": {
      "text/plain": [
       "[<matplotlib.lines.Line2D at 0xc525da0>]"
      ]
     },
     "execution_count": 129,
     "metadata": {},
     "output_type": "execute_result"
    },
    {
     "data": {
      "image/png": "[encoded data removed]",
      "text/plain": [
       "<Figure size 432x288 with 1 Axes>"
      ]
     },
     "metadata": {
      "needs_background": "light"
     },
     "output_type": "display_data"
    }
   ],
   "source": [
    "plt.plot(z,eos(z))"
   ]
  },
  {
   "cell_type": "code",
   "execution_count": 10,
   "metadata": {},
   "outputs": [
    {
     "data": {
      "text/plain": [
       "-1.5"
      ]
     },
     "execution_count": 10,
     "metadata": {},
     "output_type": "execute_result"
    }
   ],
   "source": [
    "eos(2)"
   ]
  },
  {
   "cell_type": "code",
   "execution_count": 9,
   "metadata": {},
   "outputs": [],
   "source": [
    "#aqui ya esta la funcion lista en una sola definicion que devuelve el valor de la integral para SimpleMC\n",
    "def luisfunction(z_l):\n",
    "    def eos(z):\n",
    "        w_i = [-1,-1.2,-1.1,-0.9,-1.1,-0.9,-0.7,-1.5]\n",
    "        z_i = [0,0.1,0.2,0.4,0.6,0.8,1.0,1.3,2.5]\n",
    "        def bines(w_2,w_1,z_2,z_1,eta):\n",
    "            return (w_2-w_1)*(1+np.tanh((z_2-z_1)/eta))/2\n",
    "        w=w_i[0]\n",
    "        for jj in range(len(w_i)-1):\n",
    "            w+=bines(w_i[jj+1],w_i[jj],z,z_i[jj+1],0.001)\n",
    "        return w\n",
    "    return quad(lambda b: 3*(1+eos(b))/(1+b),0,z_l)[0]"
   ]
  },
  {
   "cell_type": "code",
   "execution_count": 10,
   "metadata": {},
   "outputs": [
    {
     "name": "stderr",
     "output_type": "stream",
     "text": [
      "C:\\Users\\52811\\AppData\\Local\\Continuum\\anaconda2\\lib\\site-packages\\ipykernel_launcher.py:12: IntegrationWarning: The maximum number of subdivisions (50) has been achieved.\n",
      "  If increasing the limit yields no improvement it is advised to analyze \n",
      "  the integrand in order to determine the difficulties.  If the position of a \n",
      "  local difficulty can be determined (singularity, discontinuity) one will \n",
      "  probably gain from splitting up the interval and calling the integrator \n",
      "  on the subranges.  Perhaps a special-purpose integrator should be used.\n",
      "  if sys.path[0] == '':\n"
     ]
    },
    {
     "data": {
      "text/plain": [
       "-0.7664116149656833"
      ]
     },
     "execution_count": 10,
     "metadata": {},
     "output_type": "execute_result"
    }
   ],
   "source": [
    "luisfunction(3.0)"
   ]
  },
  {
   "cell_type": "code",
   "execution_count": 103,
   "metadata": {},
   "outputs": [],
   "source": [
    "#aqui ya esta la funcion lista en una sola definicion que devuelve el valor de la integral para SimpleMC\n",
    "#pero aqui esta por partes, en lugar de estar definida en una sola funcion\n",
    "def bines(w_2,w_1,z_2,z_1,eta):\n",
    "    return (w_2-w_1)*(1+np.tanh((z_2-z_1)/eta))/2\n",
    "\n",
    "def eos(z):\n",
    "    w_i = [-10,10,-1,-1,-1,-1,-1,-20]\n",
    "    z_i = [0,0.1,0.2,0.4,0.6,0.8,1.0,1.3,2.5]        \n",
    "    w=w_i[0]\n",
    "    for jj in range(len(w_i)-1):\n",
    "        w+=bines(w_i[jj+1],w_i[jj],z,z_i[jj+1],0.001)\n",
    "    return w\n",
    "\n",
    "\n",
    "def luisfunction(z_l):\n",
    "    return quad(lambda b: 3*(1+eos(b))/(1+b),0,z_l)[0]\n",
    "\n",
    "def hz(a):\n",
    "    z=1.0/a -1\n",
    "    return (0.28/a**3+(0.7)*(np.exp(luisfunction(z))))"
   ]
  },
  {
   "cell_type": "code",
   "execution_count": 104,
   "metadata": {},
   "outputs": [
    {
     "data": {
      "text/plain": [
       "0.2980115536020208"
      ]
     },
     "execution_count": 104,
     "metadata": {},
     "output_type": "execute_result"
    }
   ],
   "source": [
    "luisfunction(0.79)"
   ]
  },
  {
   "cell_type": "code",
   "execution_count": 105,
   "metadata": {},
   "outputs": [
    {
     "data": {
      "text/plain": [
       "1.3471773525406225"
      ]
     },
     "execution_count": 105,
     "metadata": {},
     "output_type": "execute_result"
    }
   ],
   "source": [
    "np.exp(luisfunction(0.79))"
   ]
  },
  {
   "cell_type": "code",
   "execution_count": 108,
   "metadata": {},
   "outputs": [
    {
     "data": {
      "text/plain": [
       "[<matplotlib.lines.Line2D at 0xbf7cbe0>]"
      ]
     },
     "execution_count": 108,
     "metadata": {},
     "output_type": "execute_result"
    },
    {
     "data": {
      "image/png": "[encoded data removed]",
      "text/plain": [
       "<Figure size 432x288 with 1 Axes>"
      ]
     },
     "metadata": {
      "needs_background": "light"
     },
     "output_type": "display_data"
    }
   ],
   "source": [
    "#prueba graficando el parametro de jobol (hubble)\n",
    "\n",
    "hubble=[]\n",
    "aa =[]\n",
    "for ii in range(len(z)):\n",
    "    aa.append(1.0/(1.0+z[ii]))\n",
    "    hubble.append(67*(hz(aa[ii])**0.5))\n",
    "plt.plot(z,hubble)"
   ]
  },
  {
   "cell_type": "markdown",
   "metadata": {},
   "source": [
    "# Interpolacion"
   ]
  },
  {
   "cell_type": "code",
   "execution_count": 4,
   "metadata": {},
   "outputs": [],
   "source": [
    "from scipy.interpolate import interp1d\n",
    "from scipy.integrate import quad\n",
    "def luisfunction(z):\n",
    "        if (z>=0.0 and z<=3.0):\n",
    "            y = [ 2.0, 2.0, 2.0,  0.0]\n",
    "            x = [ 0.0, 1.0, 2.0,  3.0]\n",
    "            f = interp1d(x, y, kind='linear')\n",
    "            rhow = f(z)\n",
    "        else:\n",
    "            rhow = -1.0\n",
    "        resultado = quad(lambda b: rhow, 0.0, z )\n",
    "        return resultado[0]"
   ]
  },
  {
   "cell_type": "code",
   "execution_count": 5,
   "metadata": {},
   "outputs": [
    {
     "data": {
      "text/plain": [
       "0.0"
      ]
     },
     "execution_count": 5,
     "metadata": {},
     "output_type": "execute_result"
    }
   ],
   "source": [
    "luisfunction(3.0)"
   ]
  },
  {
   "cell_type": "code",
   "execution_count": 172,
   "metadata": {},
   "outputs": [],
   "source": [
    "y = [ 2.0, 2.0, 2.0,  1.0]\n",
    "x = [ 0.0, 1.0, 2.0,  3.0]\n",
    "f = interp1d(x, y, kind='linear')\n",
    "rhow = f(3)"
   ]
  },
  {
   "cell_type": "code",
   "execution_count": 173,
   "metadata": {},
   "outputs": [
    {
     "data": {
      "text/plain": [
       "3.0"
      ]
     },
     "execution_count": 173,
     "metadata": {},
     "output_type": "execute_result"
    }
   ],
   "source": [
    "quad(lambda b: rhow, 0.0, 3 )[0]"
   ]
  },
  {
   "cell_type": "code",
   "execution_count": 174,
   "metadata": {},
   "outputs": [
    {
     "data": {
      "text/plain": [
       "[<matplotlib.lines.Line2D at 0xcb42a58>]"
      ]
     },
     "execution_count": 174,
     "metadata": {},
     "output_type": "execute_result"
    },
    {
     "data": {
      "image/png": "[encoded data removed]",
      "text/plain": [
       "<Figure size 432x288 with 1 Axes>"
      ]
     },
     "metadata": {
      "needs_background": "light"
     },
     "output_type": "display_data"
    }
   ],
   "source": [
    "plt.plot(z,f(z))"
   ]
  },
  {
   "cell_type": "markdown",
   "metadata": {},
   "source": [
    "# Prueba iris-setosa"
   ]
  },
  {
   "cell_type": "code",
   "execution_count": 6,
   "metadata": {},
   "outputs": [
    {
     "data": {
      "text/html": [
       "<div>\n",
       "<style scoped>\n",
       "    .dataframe tbody tr th:only-of-type {\n",
       "        vertical-align: middle;\n",
       "    }\n",
       "\n",
       "    .dataframe tbody tr th {\n",
       "        vertical-align: top;\n",
       "    }\n",
       "\n",
       "    .dataframe thead th {\n",
       "        text-align: right;\n",
       "    }\n",
       "</style>\n",
       "<table border=\"1\" class=\"dataframe\">\n",
       "  <thead>\n",
       "    <tr style=\"text-align: right;\">\n",
       "      <th></th>\n",
       "      <th>sepal length</th>\n",
       "      <th>sepal width</th>\n",
       "      <th>petal length</th>\n",
       "      <th>petal width</th>\n",
       "      <th>target</th>\n",
       "    </tr>\n",
       "  </thead>\n",
       "  <tbody>\n",
       "    <tr>\n",
       "      <th>0</th>\n",
       "      <td>5.1</td>\n",
       "      <td>3.5</td>\n",
       "      <td>1.4</td>\n",
       "      <td>0.2</td>\n",
       "      <td>Iris-setosa</td>\n",
       "    </tr>\n",
       "    <tr>\n",
       "      <th>1</th>\n",
       "      <td>4.9</td>\n",
       "      <td>3.0</td>\n",
       "      <td>1.4</td>\n",
       "      <td>0.2</td>\n",
       "      <td>Iris-setosa</td>\n",
       "    </tr>\n",
       "    <tr>\n",
       "      <th>2</th>\n",
       "      <td>4.7</td>\n",
       "      <td>3.2</td>\n",
       "      <td>1.3</td>\n",
       "      <td>0.2</td>\n",
       "      <td>Iris-setosa</td>\n",
       "    </tr>\n",
       "    <tr>\n",
       "      <th>3</th>\n",
       "      <td>4.6</td>\n",
       "      <td>3.1</td>\n",
       "      <td>1.5</td>\n",
       "      <td>0.2</td>\n",
       "      <td>Iris-setosa</td>\n",
       "    </tr>\n",
       "    <tr>\n",
       "      <th>4</th>\n",
       "      <td>5.0</td>\n",
       "      <td>3.6</td>\n",
       "      <td>1.4</td>\n",
       "      <td>0.2</td>\n",
       "      <td>Iris-setosa</td>\n",
       "    </tr>\n",
       "  </tbody>\n",
       "</table>\n",
       "</div>"
      ],
      "text/plain": [
       "   sepal length  sepal width  petal length  petal width       target\n",
       "0           5.1          3.5           1.4          0.2  Iris-setosa\n",
       "1           4.9          3.0           1.4          0.2  Iris-setosa\n",
       "2           4.7          3.2           1.3          0.2  Iris-setosa\n",
       "3           4.6          3.1           1.5          0.2  Iris-setosa\n",
       "4           5.0          3.6           1.4          0.2  Iris-setosa"
      ]
     },
     "execution_count": 6,
     "metadata": {},
     "output_type": "execute_result"
    }
   ],
   "source": [
    "import pandas as pd\n",
    "\n",
    "# load dataset into Pandas DataFrame\n",
    "df = pd.read_csv('iris.data', names=['sepal length','sepal width','petal length','petal width','target'])\n",
    "df.head()"
   ]
  },
  {
   "cell_type": "code",
   "execution_count": 10,
   "metadata": {},
   "outputs": [],
   "source": [
    "from sklearn.preprocessing import StandardScaler\n",
    "features = ['sepal length', 'sepal width', 'petal length', 'petal width']\n",
    "# Separating out the features\n",
    "x = df.loc[:, features].values\n",
    "# Separating out the target\n",
    "y = df.loc[:,['target']].values\n",
    "# Standardizing the features\n",
    "x = StandardScaler().fit_transform(x)"
   ]
  },
  {
   "cell_type": "code",
   "execution_count": 12,
   "metadata": {},
   "outputs": [],
   "source": [
    "from sklearn.decomposition import PCA\n",
    "pca = PCA(n_components=2)\n",
    "principalComponents = pca.fit_transform(x)\n",
    "principalDf = pd.DataFrame(data = principalComponents\n",
    "             , columns = ['principal component 1', 'principal component 2'])"
   ]
  },
  {
   "cell_type": "code",
   "execution_count": 18,
   "metadata": {},
   "outputs": [
    {
     "data": {
      "text/html": [
       "<div>\n",
       "<style scoped>\n",
       "    .dataframe tbody tr th:only-of-type {\n",
       "        vertical-align: middle;\n",
       "    }\n",
       "\n",
       "    .dataframe tbody tr th {\n",
       "        vertical-align: top;\n",
       "    }\n",
       "\n",
       "    .dataframe thead th {\n",
       "        text-align: right;\n",
       "    }\n",
       "</style>\n",
       "<table border=\"1\" class=\"dataframe\">\n",
       "  <thead>\n",
       "    <tr style=\"text-align: right;\">\n",
       "      <th></th>\n",
       "      <th>principal component 1</th>\n",
       "      <th>principal component 2</th>\n",
       "      <th>target</th>\n",
       "    </tr>\n",
       "  </thead>\n",
       "  <tbody>\n",
       "    <tr>\n",
       "      <th>0</th>\n",
       "      <td>-2.264542</td>\n",
       "      <td>0.505704</td>\n",
       "      <td>Iris-setosa</td>\n",
       "    </tr>\n",
       "    <tr>\n",
       "      <th>1</th>\n",
       "      <td>-2.086426</td>\n",
       "      <td>-0.655405</td>\n",
       "      <td>Iris-setosa</td>\n",
       "    </tr>\n",
       "    <tr>\n",
       "      <th>2</th>\n",
       "      <td>-2.367950</td>\n",
       "      <td>-0.318477</td>\n",
       "      <td>Iris-setosa</td>\n",
       "    </tr>\n",
       "    <tr>\n",
       "      <th>3</th>\n",
       "      <td>-2.304197</td>\n",
       "      <td>-0.575368</td>\n",
       "      <td>Iris-setosa</td>\n",
       "    </tr>\n",
       "    <tr>\n",
       "      <th>4</th>\n",
       "      <td>-2.388777</td>\n",
       "      <td>0.674767</td>\n",
       "      <td>Iris-setosa</td>\n",
       "    </tr>\n",
       "  </tbody>\n",
       "</table>\n",
       "</div>"
      ],
      "text/plain": [
       "   principal component 1  principal component 2       target\n",
       "0              -2.264542               0.505704  Iris-setosa\n",
       "1              -2.086426              -0.655405  Iris-setosa\n",
       "2              -2.367950              -0.318477  Iris-setosa\n",
       "3              -2.304197              -0.575368  Iris-setosa\n",
       "4              -2.388777               0.674767  Iris-setosa"
      ]
     },
     "execution_count": 18,
     "metadata": {},
     "output_type": "execute_result"
    }
   ],
   "source": [
    "finalDf = pd.concat([principalDf, df[['target']]], axis = 1)\n",
    "finalDf.head()"
   ]
  },
  {
   "cell_type": "code",
   "execution_count": 17,
   "metadata": {},
   "outputs": [
    {
     "data": {
      "image/png": "[encoded data removed]",
      "text/plain": [
       "<Figure size 576x576 with 1 Axes>"
      ]
     },
     "metadata": {
      "needs_background": "light"
     },
     "output_type": "display_data"
    }
   ],
   "source": [
    "import matplotlib.pyplot as plt\n",
    "fig = plt.figure(figsize = (8,8))\n",
    "ax = fig.add_subplot(1,1,1) \n",
    "ax.set_xlabel('Principal Component 1', fontsize = 15)\n",
    "ax.set_ylabel('Principal Component 2', fontsize = 15)\n",
    "ax.set_title('2 component PCA', fontsize = 20)\n",
    "targets = ['Iris-setosa', 'Iris-versicolor', 'Iris-virginica']\n",
    "colors = ['r', 'g', 'b']\n",
    "for target, color in zip(targets,colors):\n",
    "    indicesToKeep = finalDf['target'] == target\n",
    "    ax.scatter(finalDf.loc[indicesToKeep, 'principal component 1']\n",
    "               , finalDf.loc[indicesToKeep, 'principal component 2']\n",
    "               , c = color\n",
    "               , s = 50)\n",
    "ax.legend(targets)\n",
    "ax.grid()"
   ]
  },
  {
   "cell_type": "markdown",
   "metadata": {},
   "source": [
    "# Prueba cadenas owaCDM"
   ]
  },
  {
   "cell_type": "code",
   "execution_count": 1,
   "metadata": {},
   "outputs": [
    {
     "data": {
      "text/html": [
       "<div>\n",
       "<style scoped>\n",
       "    .dataframe tbody tr th:only-of-type {\n",
       "        vertical-align: middle;\n",
       "    }\n",
       "\n",
       "    .dataframe tbody tr th {\n",
       "        vertical-align: top;\n",
       "    }\n",
       "\n",
       "    .dataframe thead th {\n",
       "        text-align: right;\n",
       "    }\n",
       "</style>\n",
       "<table border=\"1\" class=\"dataframe\">\n",
       "  <thead>\n",
       "    <tr style=\"text-align: right;\">\n",
       "      <th></th>\n",
       "      <th>0</th>\n",
       "      <th>1</th>\n",
       "      <th>2</th>\n",
       "      <th>3</th>\n",
       "      <th>4</th>\n",
       "      <th>5</th>\n",
       "      <th>6</th>\n",
       "      <th>7</th>\n",
       "      <th>8</th>\n",
       "      <th>9</th>\n",
       "      <th>...</th>\n",
       "      <th>11</th>\n",
       "      <th>12</th>\n",
       "      <th>13</th>\n",
       "      <th>14</th>\n",
       "      <th>15</th>\n",
       "      <th>16</th>\n",
       "      <th>17</th>\n",
       "      <th>18</th>\n",
       "      <th>19</th>\n",
       "      <th>20</th>\n",
       "    </tr>\n",
       "  </thead>\n",
       "  <tbody>\n",
       "    <tr>\n",
       "      <th>0</th>\n",
       "      <td>3.422770e-08</td>\n",
       "      <td>34.3805</td>\n",
       "      <td>0.273375</td>\n",
       "      <td>0.022570</td>\n",
       "      <td>0.671650</td>\n",
       "      <td>-1.210200</td>\n",
       "      <td>-0.783771</td>\n",
       "      <td>-0.931326</td>\n",
       "      <td>-1.20521</td>\n",
       "      <td>-1.08229</td>\n",
       "      <td>...</td>\n",
       "      <td>-1.38604</td>\n",
       "      <td>-0.091940</td>\n",
       "      <td>-1.38050</td>\n",
       "      <td>-0.872042</td>\n",
       "      <td>-1.90805</td>\n",
       "      <td>-0.000202</td>\n",
       "      <td>-1.024780</td>\n",
       "      <td>-17.4259</td>\n",
       "      <td>-10.9613</td>\n",
       "      <td>-0.715721</td>\n",
       "    </tr>\n",
       "    <tr>\n",
       "      <th>1</th>\n",
       "      <td>2.519780e-08</td>\n",
       "      <td>36.3793</td>\n",
       "      <td>0.270702</td>\n",
       "      <td>0.022534</td>\n",
       "      <td>0.650538</td>\n",
       "      <td>-1.202980</td>\n",
       "      <td>-0.768726</td>\n",
       "      <td>-0.855344</td>\n",
       "      <td>-1.22204</td>\n",
       "      <td>-1.06058</td>\n",
       "      <td>...</td>\n",
       "      <td>-1.43862</td>\n",
       "      <td>-0.750095</td>\n",
       "      <td>-1.20097</td>\n",
       "      <td>-0.554546</td>\n",
       "      <td>-2.66105</td>\n",
       "      <td>-0.021655</td>\n",
       "      <td>-0.557827</td>\n",
       "      <td>-17.7322</td>\n",
       "      <td>-12.2770</td>\n",
       "      <td>-0.624025</td>\n",
       "    </tr>\n",
       "    <tr>\n",
       "      <th>2</th>\n",
       "      <td>1.851770e-08</td>\n",
       "      <td>35.6091</td>\n",
       "      <td>0.289326</td>\n",
       "      <td>0.022395</td>\n",
       "      <td>0.660180</td>\n",
       "      <td>-1.087100</td>\n",
       "      <td>-0.730883</td>\n",
       "      <td>-0.962856</td>\n",
       "      <td>-1.03140</td>\n",
       "      <td>-1.14549</td>\n",
       "      <td>...</td>\n",
       "      <td>-1.26045</td>\n",
       "      <td>-0.019958</td>\n",
       "      <td>-2.79618</td>\n",
       "      <td>-1.348600</td>\n",
       "      <td>-1.48507</td>\n",
       "      <td>-0.014287</td>\n",
       "      <td>-0.769406</td>\n",
       "      <td>-17.7682</td>\n",
       "      <td>-11.0753</td>\n",
       "      <td>-0.332037</td>\n",
       "    </tr>\n",
       "    <tr>\n",
       "      <th>3</th>\n",
       "      <td>1.573080e-07</td>\n",
       "      <td>34.1027</td>\n",
       "      <td>0.281314</td>\n",
       "      <td>0.022603</td>\n",
       "      <td>0.649340</td>\n",
       "      <td>-1.008480</td>\n",
       "      <td>-0.819688</td>\n",
       "      <td>-0.994546</td>\n",
       "      <td>-1.14205</td>\n",
       "      <td>-1.05941</td>\n",
       "      <td>...</td>\n",
       "      <td>-1.23207</td>\n",
       "      <td>-0.120687</td>\n",
       "      <td>-1.24485</td>\n",
       "      <td>-0.590725</td>\n",
       "      <td>-2.22128</td>\n",
       "      <td>-0.015074</td>\n",
       "      <td>-0.742644</td>\n",
       "      <td>-16.8290</td>\n",
       "      <td>-11.5345</td>\n",
       "      <td>-0.803957</td>\n",
       "    </tr>\n",
       "    <tr>\n",
       "      <th>4</th>\n",
       "      <td>1.302370e-07</td>\n",
       "      <td>33.9050</td>\n",
       "      <td>0.287829</td>\n",
       "      <td>0.022483</td>\n",
       "      <td>0.649950</td>\n",
       "      <td>-0.965794</td>\n",
       "      <td>-0.819898</td>\n",
       "      <td>-0.974392</td>\n",
       "      <td>-1.07458</td>\n",
       "      <td>-1.03297</td>\n",
       "      <td>...</td>\n",
       "      <td>-1.22571</td>\n",
       "      <td>-0.088179</td>\n",
       "      <td>-1.42484</td>\n",
       "      <td>-0.844115</td>\n",
       "      <td>-1.94515</td>\n",
       "      <td>-0.020182</td>\n",
       "      <td>-0.719417</td>\n",
       "      <td>-17.2251</td>\n",
       "      <td>-11.1315</td>\n",
       "      <td>-0.506494</td>\n",
       "    </tr>\n",
       "  </tbody>\n",
       "</table>\n",
       "<p>5 rows × 21 columns</p>\n",
       "</div>"
      ],
      "text/plain": [
       "             0        1         2         3         4         5         6   \\\n",
       "0  3.422770e-08  34.3805  0.273375  0.022570  0.671650 -1.210200 -0.783771   \n",
       "1  2.519780e-08  36.3793  0.270702  0.022534  0.650538 -1.202980 -0.768726   \n",
       "2  1.851770e-08  35.6091  0.289326  0.022395  0.660180 -1.087100 -0.730883   \n",
       "3  1.573080e-07  34.1027  0.281314  0.022603  0.649340 -1.008480 -0.819688   \n",
       "4  1.302370e-07  33.9050  0.287829  0.022483  0.649950 -0.965794 -0.819898   \n",
       "\n",
       "         7        8        9   ...       11        12       13        14  \\\n",
       "0 -0.931326 -1.20521 -1.08229  ... -1.38604 -0.091940 -1.38050 -0.872042   \n",
       "1 -0.855344 -1.22204 -1.06058  ... -1.43862 -0.750095 -1.20097 -0.554546   \n",
       "2 -0.962856 -1.03140 -1.14549  ... -1.26045 -0.019958 -2.79618 -1.348600   \n",
       "3 -0.994546 -1.14205 -1.05941  ... -1.23207 -0.120687 -1.24485 -0.590725   \n",
       "4 -0.974392 -1.07458 -1.03297  ... -1.22571 -0.088179 -1.42484 -0.844115   \n",
       "\n",
       "        15        16        17       18       19        20  \n",
       "0 -1.90805 -0.000202 -1.024780 -17.4259 -10.9613 -0.715721  \n",
       "1 -2.66105 -0.021655 -0.557827 -17.7322 -12.2770 -0.624025  \n",
       "2 -1.48507 -0.014287 -0.769406 -17.7682 -11.0753 -0.332037  \n",
       "3 -2.22128 -0.015074 -0.742644 -16.8290 -11.5345 -0.803957  \n",
       "4 -1.94515 -0.020182 -0.719417 -17.2251 -11.1315 -0.506494  \n",
       "\n",
       "[5 rows x 21 columns]"
      ]
     },
     "execution_count": 1,
     "metadata": {},
     "output_type": "execute_result"
    }
   ],
   "source": [
    "import pandas as pd\n",
    "from sklearn.decomposition import PCA\n",
    "import numpy as np\n",
    "dir_name = u'C:\\\\Users\\\\52811\\\\cosas_python\\\\SimpleMC-master\\\\chains_pca\\\\'\n",
    "\n",
    "num_cadenas = 4\n",
    "\n",
    "df1=pd.DataFrame()\n",
    "\n",
    "for i in range(num_cadenas):\n",
    "    dg = pd.read_csv(dir_name+'owaCDM2_phy_BBAO+SN+HD_'+str(i+1)+'.txt', sep='\\s+', names=range(21))\n",
    "    df1 = pd.concat([df1,dg])\n",
    "    \n",
    "\n",
    "df1.head()"
   ]
  },
  {
   "cell_type": "code",
   "execution_count": 2,
   "metadata": {},
   "outputs": [
    {
     "data": {
      "text/plain": [
       "(220904L, 7L)"
      ]
     },
     "execution_count": 2,
     "metadata": {},
     "output_type": "execute_result"
    }
   ],
   "source": [
    "from sklearn.preprocessing import StandardScaler\n",
    "features = [5,6,7,8,9,10,11]\n",
    "# Separating out the features\n",
    "x = df1.loc[:, features].values\n",
    "x2 = pd.DataFrame(x)\n",
    "# Separating out the target\n",
    "#y = df1.loc[:,['target']].values\n",
    "# Standardizing the features\n",
    "X = StandardScaler().fit_transform(x)\n",
    "np.shape(X)"
   ]
  },
  {
   "cell_type": "code",
   "execution_count": 3,
   "metadata": {},
   "outputs": [
    {
     "data": {
      "text/html": [
       "<div>\n",
       "<style scoped>\n",
       "    .dataframe tbody tr th:only-of-type {\n",
       "        vertical-align: middle;\n",
       "    }\n",
       "\n",
       "    .dataframe tbody tr th {\n",
       "        vertical-align: top;\n",
       "    }\n",
       "\n",
       "    .dataframe thead th {\n",
       "        text-align: right;\n",
       "    }\n",
       "</style>\n",
       "<table border=\"1\" class=\"dataframe\">\n",
       "  <thead>\n",
       "    <tr style=\"text-align: right;\">\n",
       "      <th></th>\n",
       "      <th>0</th>\n",
       "      <th>1</th>\n",
       "      <th>2</th>\n",
       "    </tr>\n",
       "  </thead>\n",
       "  <tbody>\n",
       "    <tr>\n",
       "      <th>0</th>\n",
       "      <td>-0.245636</td>\n",
       "      <td>-0.071215</td>\n",
       "      <td>0.224291</td>\n",
       "    </tr>\n",
       "    <tr>\n",
       "      <th>1</th>\n",
       "      <td>-0.340329</td>\n",
       "      <td>-0.086466</td>\n",
       "      <td>0.300195</td>\n",
       "    </tr>\n",
       "    <tr>\n",
       "      <th>2</th>\n",
       "      <td>-0.421786</td>\n",
       "      <td>-0.182424</td>\n",
       "      <td>0.092439</td>\n",
       "    </tr>\n",
       "    <tr>\n",
       "      <th>3</th>\n",
       "      <td>-0.361729</td>\n",
       "      <td>-0.060688</td>\n",
       "      <td>0.092740</td>\n",
       "    </tr>\n",
       "    <tr>\n",
       "      <th>4</th>\n",
       "      <td>-0.410218</td>\n",
       "      <td>-0.092214</td>\n",
       "      <td>0.012462</td>\n",
       "    </tr>\n",
       "  </tbody>\n",
       "</table>\n",
       "</div>"
      ],
      "text/plain": [
       "          0         1         2\n",
       "0 -0.245636 -0.071215  0.224291\n",
       "1 -0.340329 -0.086466  0.300195\n",
       "2 -0.421786 -0.182424  0.092439\n",
       "3 -0.361729 -0.060688  0.092740\n",
       "4 -0.410218 -0.092214  0.012462"
      ]
     },
     "execution_count": 3,
     "metadata": {},
     "output_type": "execute_result"
    }
   ],
   "source": [
    "from sklearn.decomposition import PCA\n",
    "pca = PCA(n_components=3)\n",
    "principalComponents = pca.fit_transform(X)\n",
    "principalDf = pd.DataFrame(data = principalComponents)\n",
    "principalDf.head()"
   ]
  },
  {
   "cell_type": "code",
   "execution_count": 4,
   "metadata": {},
   "outputs": [
    {
     "data": {
      "text/html": [
       "<div>\n",
       "<style scoped>\n",
       "    .dataframe tbody tr th:only-of-type {\n",
       "        vertical-align: middle;\n",
       "    }\n",
       "\n",
       "    .dataframe tbody tr th {\n",
       "        vertical-align: top;\n",
       "    }\n",
       "\n",
       "    .dataframe thead th {\n",
       "        text-align: right;\n",
       "    }\n",
       "</style>\n",
       "<table border=\"1\" class=\"dataframe\">\n",
       "  <thead>\n",
       "    <tr style=\"text-align: right;\">\n",
       "      <th></th>\n",
       "      <th>0</th>\n",
       "      <th>1</th>\n",
       "      <th>2</th>\n",
       "      <th>3</th>\n",
       "    </tr>\n",
       "  </thead>\n",
       "  <tbody>\n",
       "    <tr>\n",
       "      <th>0</th>\n",
       "      <td>0.330313</td>\n",
       "      <td>0.503934</td>\n",
       "      <td>0.644882</td>\n",
       "      <td>0.024981</td>\n",
       "    </tr>\n",
       "    <tr>\n",
       "      <th>1</th>\n",
       "      <td>0.349028</td>\n",
       "      <td>0.609791</td>\n",
       "      <td>0.731433</td>\n",
       "      <td>-0.038577</td>\n",
       "    </tr>\n",
       "    <tr>\n",
       "      <th>2</th>\n",
       "      <td>0.333830</td>\n",
       "      <td>0.309802</td>\n",
       "      <td>0.375669</td>\n",
       "      <td>0.102877</td>\n",
       "    </tr>\n",
       "    <tr>\n",
       "      <th>3</th>\n",
       "      <td>0.231525</td>\n",
       "      <td>0.313160</td>\n",
       "      <td>0.487832</td>\n",
       "      <td>0.077653</td>\n",
       "    </tr>\n",
       "    <tr>\n",
       "      <th>4</th>\n",
       "      <td>0.251967</td>\n",
       "      <td>0.222325</td>\n",
       "      <td>0.434079</td>\n",
       "      <td>0.110793</td>\n",
       "    </tr>\n",
       "  </tbody>\n",
       "</table>\n",
       "</div>"
      ],
      "text/plain": [
       "          0         1         2         3\n",
       "0  0.330313  0.503934  0.644882  0.024981\n",
       "1  0.349028  0.609791  0.731433 -0.038577\n",
       "2  0.333830  0.309802  0.375669  0.102877\n",
       "3  0.231525  0.313160  0.487832  0.077653\n",
       "4  0.251967  0.222325  0.434079  0.110793"
      ]
     },
     "execution_count": 4,
     "metadata": {},
     "output_type": "execute_result"
    }
   ],
   "source": [
    "#sin renormalizar los datos\n",
    "from sklearn.decomposition import PCA\n",
    "\n",
    "features = [5,6,7,8,9,10,11]\n",
    "\n",
    "df2 = df1.loc[:, features].values\n",
    "pca = PCA(n_components=4)\n",
    "pca_prueba = pca.fit_transform(df2)\n",
    "componentes_principales = pd.DataFrame(data = pca_prueba)\n",
    "componentes_principales.head()"
   ]
  },
  {
   "cell_type": "code",
   "execution_count": 5,
   "metadata": {},
   "outputs": [
    {
     "data": {
      "text/html": [
       "<div>\n",
       "<style scoped>\n",
       "    .dataframe tbody tr th:only-of-type {\n",
       "        vertical-align: middle;\n",
       "    }\n",
       "\n",
       "    .dataframe tbody tr th {\n",
       "        vertical-align: top;\n",
       "    }\n",
       "\n",
       "    .dataframe thead th {\n",
       "        text-align: right;\n",
       "    }\n",
       "</style>\n",
       "<table border=\"1\" class=\"dataframe\">\n",
       "  <thead>\n",
       "    <tr style=\"text-align: right;\">\n",
       "      <th></th>\n",
       "      <th>0</th>\n",
       "      <th>1</th>\n",
       "      <th>2</th>\n",
       "      <th>3</th>\n",
       "      <th>4</th>\n",
       "      <th>5</th>\n",
       "      <th>6</th>\n",
       "    </tr>\n",
       "  </thead>\n",
       "  <tbody>\n",
       "    <tr>\n",
       "      <th>0</th>\n",
       "      <td>-1.146477</td>\n",
       "      <td>-0.897421</td>\n",
       "      <td>-1.316047</td>\n",
       "      <td>-1.464658</td>\n",
       "      <td>-1.327842</td>\n",
       "      <td>-0.545822</td>\n",
       "      <td>-1.399886</td>\n",
       "    </tr>\n",
       "    <tr>\n",
       "      <th>1</th>\n",
       "      <td>-1.132643</td>\n",
       "      <td>-0.887937</td>\n",
       "      <td>-1.285044</td>\n",
       "      <td>-1.510470</td>\n",
       "      <td>-1.334179</td>\n",
       "      <td>-0.416312</td>\n",
       "      <td>-1.454036</td>\n",
       "    </tr>\n",
       "    <tr>\n",
       "      <th>2</th>\n",
       "      <td>-1.165143</td>\n",
       "      <td>-0.911941</td>\n",
       "      <td>-1.333454</td>\n",
       "      <td>-1.343649</td>\n",
       "      <td>-1.415440</td>\n",
       "      <td>-0.824458</td>\n",
       "      <td>-1.275685</td>\n",
       "    </tr>\n",
       "    <tr>\n",
       "      <th>3</th>\n",
       "      <td>-1.153629</td>\n",
       "      <td>-0.903370</td>\n",
       "      <td>-1.338187</td>\n",
       "      <td>-1.438409</td>\n",
       "      <td>-1.314328</td>\n",
       "      <td>-0.766164</td>\n",
       "      <td>-1.246284</td>\n",
       "    </tr>\n",
       "    <tr>\n",
       "      <th>4</th>\n",
       "      <td>-1.159799</td>\n",
       "      <td>-0.907964</td>\n",
       "      <td>-1.350356</td>\n",
       "      <td>-1.409991</td>\n",
       "      <td>-1.318025</td>\n",
       "      <td>-0.873895</td>\n",
       "      <td>-1.241580</td>\n",
       "    </tr>\n",
       "  </tbody>\n",
       "</table>\n",
       "</div>"
      ],
      "text/plain": [
       "          0         1         2         3         4         5         6\n",
       "0 -1.146477 -0.897421 -1.316047 -1.464658 -1.327842 -0.545822 -1.399886\n",
       "1 -1.132643 -0.887937 -1.285044 -1.510470 -1.334179 -0.416312 -1.454036\n",
       "2 -1.165143 -0.911941 -1.333454 -1.343649 -1.415440 -0.824458 -1.275685\n",
       "3 -1.153629 -0.903370 -1.338187 -1.438409 -1.314328 -0.766164 -1.246284\n",
       "4 -1.159799 -0.907964 -1.350356 -1.409991 -1.318025 -0.873895 -1.241580"
      ]
     },
     "execution_count": 5,
     "metadata": {},
     "output_type": "execute_result"
    }
   ],
   "source": [
    "datos_redux = pca.inverse_transform(pca_prueba)\n",
    "dat_red = pd.DataFrame(data = datos_redux)\n",
    "dat_red.head()"
   ]
  },
  {
   "cell_type": "code",
   "execution_count": 6,
   "metadata": {},
   "outputs": [
    {
     "name": "stdout",
     "output_type": "stream",
     "text": [
      "Promedios antes de PCA\n",
      "-1.12628818906\n",
      "-0.891168133272\n",
      "-1.25205324247\n",
      "-1.41321716446\n",
      "-1.47136592666\n",
      "-1.1867929482\n",
      "-0.816001040653\n",
      "Promedios despues de PCA\n",
      "-1.12628818906\n",
      "-0.891168133272\n",
      "-1.25205324247\n",
      "-1.41321716446\n",
      "-1.47136592666\n",
      "-1.1867929482\n",
      "-0.816001040653\n"
     ]
    }
   ],
   "source": [
    "print('Promedios antes de PCA')\n",
    "for ii in range(7):\n",
    "    print np.mean(x2[ii])\n",
    "print('Promedios despues de PCA')\n",
    "for ii in range(7):\n",
    "    print np.mean(dat_red[ii])"
   ]
  },
  {
   "cell_type": "code",
   "execution_count": 7,
   "metadata": {},
   "outputs": [],
   "source": [
    "resta = x2-dat_red"
   ]
  },
  {
   "cell_type": "code",
   "execution_count": 8,
   "metadata": {},
   "outputs": [
    {
     "data": {
      "text/plain": [
       "1.6273393622638214e-16"
      ]
     },
     "execution_count": 8,
     "metadata": {},
     "output_type": "execute_result"
    }
   ],
   "source": [
    "np.mean(resta[0])"
   ]
  },
  {
   "cell_type": "markdown",
   "metadata": {},
   "source": [
    "# Prueba con matriz de covarianza como en el peiper https://iopscience.iop.org/article/10.3847/1538-4357/aab49a/pdf"
   ]
  },
  {
   "cell_type": "code",
   "execution_count": 1,
   "metadata": {},
   "outputs": [
    {
     "name": "stdout",
     "output_type": "stream",
     "text": [
      "Eigenvalores de matriz de fisher\n",
      "[246.04672283  18.51863005   2.59906183   1.52379752   0.99891434\n",
      "   0.72011191   0.8156775 ]\n",
      "Matriz Eigenvectores de Fisher\n",
      "[[-0.46766878  0.81503957  0.22850604  0.23371755  0.09712529 -0.02204245\n",
      "   0.01543757]\n",
      " [-0.81181653 -0.54904488  0.14103623  0.12604934  0.0581121  -0.01457624\n",
      "   0.01159778]\n",
      " [ 0.33054702 -0.17357961  0.75246849  0.54032754 -0.03178334 -0.01863378\n",
      "   0.03299571]\n",
      " [-0.10662633  0.06305064  0.41518681 -0.52496603 -0.71836836  0.08505581\n",
      "  -0.11575161]\n",
      " [ 0.03972618 -0.01094385  0.43112458 -0.58477463  0.6775486  -0.05656282\n",
      "  -0.09055848]\n",
      " [-0.00544637  0.00472256  0.04834697 -0.07852103  0.05481136  0.69691115\n",
      "   0.70905262]\n",
      " [ 0.00122775  0.00358905  0.03315151 -0.11754818 -0.08972177 -0.70910892\n",
      "   0.68860988]]\n"
     ]
    }
   ],
   "source": [
    "import numpy as np\n",
    "import pandas as pd\n",
    "import matplotlib.pyplot as plt\n",
    "\n",
    "matriz_cov = np.loadtxt('owaCDM2_cov.txt')\n",
    "matriz_cov = np.matrix(matriz_cov)\n",
    "error = np.sqrt(np.diag(matriz_cov))\n",
    "fisher = np.linalg.inv(matriz_cov)\n",
    "fish_eig = np.linalg.eig(fisher)\n",
    "\n",
    "d = np.diag(fish_eig[0])\n",
    "w = np.transpose(fish_eig[1])\n",
    "wt = fish_eig[1]\n",
    "pt = [-1.0048, -0.697779, -0.422577, -1.16662, -2.97, -2.38769,-0.849161]\n",
    "z = [ 0.0, 0.5, 1.0, 1.5, 2.0, 2.5, 3.0]\n",
    "pt = np.matrix(pt)\n",
    "p = np.transpose(pt)\n",
    "q = np.matmul(w,p)\n",
    "\n",
    "print('Eigenvalores de matriz de fisher')\n",
    "print(fish_eig[0])\n",
    "print('Matriz Eigenvectores de Fisher')\n",
    "print(fish_eig[1])"
   ]
  },
  {
   "cell_type": "code",
   "execution_count": 8,
   "metadata": {},
   "outputs": [
    {
     "data": {
      "text/plain": [
       "matrix([[-7.10542736e-14, -1.27897692e-13,  5.68434189e-14,\n",
       "         -7.10542736e-15,  6.21724894e-15, -4.44089210e-16,\n",
       "         -2.49800181e-16],\n",
       "        [-1.27897692e-13, -1.13686838e-13, -2.13162821e-14,\n",
       "         -3.55271368e-15,  4.44089210e-15, -6.66133815e-16,\n",
       "         -8.88178420e-16],\n",
       "        [ 4.26325641e-14, -2.13162821e-14,  0.00000000e+00,\n",
       "          0.00000000e+00, -1.77635684e-15,  1.66533454e-16,\n",
       "          4.71844785e-16],\n",
       "        [-5.32907052e-15,  0.00000000e+00,  0.00000000e+00,\n",
       "          3.55271368e-15,  1.88737914e-15, -8.32667268e-17,\n",
       "         -4.16333634e-17],\n",
       "        [ 5.32907052e-15,  2.66453526e-15, -1.77635684e-15,\n",
       "          1.77635684e-15,  2.66453526e-15,  8.32667268e-16,\n",
       "          4.16333634e-16],\n",
       "        [-1.11022302e-16,  0.00000000e+00, -1.11022302e-16,\n",
       "         -8.32667268e-17,  7.21644966e-16, -2.22044605e-16,\n",
       "         -3.46944695e-17],\n",
       "        [ 1.66533454e-16, -1.66533454e-16,  1.66533454e-16,\n",
       "          2.77555756e-17,  4.02455846e-16,  1.38777878e-17,\n",
       "         -2.22044605e-16]])"
      ]
     },
     "execution_count": 8,
     "metadata": {},
     "output_type": "execute_result"
    }
   ],
   "source": [
    "#solo para ver que se cumple la relacion de la matriz de fisher y sea cero la resta\n",
    "np.matmul(wt,np.matmul(d,w))-fisher"
   ]
  },
  {
   "cell_type": "code",
   "execution_count": 9,
   "metadata": {},
   "outputs": [
    {
     "name": "stdout",
     "output_type": "stream",
     "text": [
      "[[-0.46766878 -0.81181653  0.33054702 -0.10662633  0.03972618 -0.00544637\n",
      "   0.00122775]\n",
      " [ 0.81503957 -0.54904488 -0.17357961  0.06305064 -0.01094385  0.00472256\n",
      "   0.00358905]\n",
      " [ 0.22850604  0.14103623  0.75246849  0.41518681  0.43112458  0.04834697\n",
      "   0.03315151]\n",
      " [ 0.23371755  0.12604934  0.54032754 -0.52496603 -0.58477463 -0.07852103\n",
      "  -0.11754818]\n",
      " [ 0.09712529  0.0581121  -0.03178334 -0.71836836  0.6775486   0.05481136\n",
      "  -0.08972177]\n",
      " [-0.02204245 -0.01457624 -0.01863378  0.08505581 -0.05656282  0.69691115\n",
      "  -0.70910892]\n",
      " [ 0.01543757  0.01159778  0.03299571 -0.11575161 -0.09055848  0.70905262\n",
      "   0.68860988]]\n",
      "[[-0.42794868 -0.74286723  0.30247296 -0.09757033  0.03635215 -0.0049838\n",
      "   0.00112348]]\n"
     ]
    }
   ],
   "source": [
    "print w\n",
    "print w[0]*np.asscalar(q[0])"
   ]
  },
  {
   "cell_type": "code",
   "execution_count": 11,
   "metadata": {},
   "outputs": [
    {
     "name": "stdout",
     "output_type": "stream",
     "text": [
      "[[-1.0048   -0.697779 -0.422577 -1.16662  -2.97     -2.38769  -0.849161]]\n",
      "[[-1.35221804 -0.87370103 -1.54708805 -1.18446386 -1.0603328  -0.13045396\n",
      "  -0.08505798]]\n",
      "[0.32110426 0.20218183 0.64369769 0.88911654 0.8775012  1.13963939\n",
      " 1.13892988]\n",
      "[0.23843296 0.16312568 0.46895874 0.25804039 0.26744445 0.03001101\n",
      " 0.02058046]\n"
     ]
    }
   ],
   "source": [
    "n_pca = 3\n",
    "\n",
    "wz = w[0]*np.asscalar(q[0])\n",
    "for ii in range(n_pca-1):\n",
    "    wz += w[ii+1]*np.asscalar(q[ii+1])\n",
    "\n",
    "sigma_squared_q = 1/(np.diag(d))\n",
    "sigma_wz = (sigma_squared_q[0])*(np.array(w[0])[0]**2)\n",
    "for ii in range(n_pca-1):\n",
    "    sigma_wz += (sigma_squared_q[ii+1])*(np.array(w[ii+1])[0]**2)\n",
    "sigma_wz = sigma_wz**0.5\n",
    "    \n",
    "print pt\n",
    "print wz\n",
    "print np.sqrt(np.diag(matriz_cov))\n",
    "print sigma_wz"
   ]
  },
  {
   "cell_type": "code",
   "execution_count": 12,
   "metadata": {},
   "outputs": [
    {
     "data": {
      "text/plain": [
       "array([[246.04672283,   0.        ,   0.        ,   0.        ,\n",
       "          0.        ,   0.        ,   0.        ],\n",
       "       [  0.        ,  18.51863005,   0.        ,   0.        ,\n",
       "          0.        ,   0.        ,   0.        ],\n",
       "       [  0.        ,   0.        ,   2.59906183,   0.        ,\n",
       "          0.        ,   0.        ,   0.        ],\n",
       "       [  0.        ,   0.        ,   0.        ,   1.52379752,\n",
       "          0.        ,   0.        ,   0.        ],\n",
       "       [  0.        ,   0.        ,   0.        ,   0.        ,\n",
       "          0.99891434,   0.        ,   0.        ],\n",
       "       [  0.        ,   0.        ,   0.        ,   0.        ,\n",
       "          0.        ,   0.72011191,   0.        ],\n",
       "       [  0.        ,   0.        ,   0.        ,   0.        ,\n",
       "          0.        ,   0.        ,   0.8156775 ]])"
      ]
     },
     "execution_count": 12,
     "metadata": {},
     "output_type": "execute_result"
    }
   ],
   "source": [
    "d"
   ]
  },
  {
   "cell_type": "code",
   "execution_count": 13,
   "metadata": {},
   "outputs": [
    {
     "data": {
      "text/plain": [
       "<ErrorbarContainer object of 3 artists>"
      ]
     },
     "execution_count": 13,
     "metadata": {},
     "output_type": "execute_result"
    },
    {
     "data": {
      "image/png": "[encoded data removed]",
      "text/plain": [
       "<Figure size 432x288 with 1 Axes>"
      ]
     },
     "metadata": {
      "needs_background": "light"
     },
     "output_type": "display_data"
    }
   ],
   "source": [
    "plt.errorbar(z, np.array(pt)[0],yerr=error, fmt='-',capsize=3)\n",
    "plt.errorbar(z, np.array(wz)[0],yerr=sigma_wz, fmt='-',capsize=3)"
   ]
  },
  {
   "cell_type": "code",
   "execution_count": null,
   "metadata": {},
   "outputs": [],
   "source": []
  }
 ],
 "metadata": {
  "kernelspec": {
   "display_name": "Python 2",
   "language": "python",
   "name": "python2"
  },
  "language_info": {
   "codemirror_mode": {
    "name": "ipython",
    "version": 2
   },
   "file_extension": ".py",
   "mimetype": "text/x-python",
   "name": "python",
   "nbconvert_exporter": "python",
   "pygments_lexer": "ipython2",
   "version": "2.7.16"
  }
 },
 "nbformat": 4,
 "nbformat_minor": 2
}
