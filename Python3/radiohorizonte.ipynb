{
 "cells": [
  {
   "cell_type": "code",
   "execution_count": 1,
   "metadata": {},
   "outputs": [],
   "source": [
    "import matplotlib.pyplot as plt\n",
    "import numpy as np\n",
    "from scipy.integrate import quad\n",
    "   \n",
    "###Densidades de energía al día de hoy reportado en la literatura###\n",
    "Om_0_m=0.0455\n",
    "Om_0_DM=0.226\n",
    "Om_0_n=0.000027\n",
    "Om_0_z=0.00004\n",
    "H_0=67.3\n",
    "c=300000."
   ]
  },
  {
   "cell_type": "code",
   "execution_count": 2,
   "metadata": {},
   "outputs": [],
   "source": [
    "def rk4(d,N_0,l_0,h):\n",
    "    \n",
    "    N=[]\n",
    "    l=[]\n",
    "    \n",
    "    k1 = []\n",
    "    k2 = []\n",
    "    k3 = []\n",
    "    k4 = []\n",
    "    l.append(l_0)\n",
    "    N.append(N_0)\n",
    "   \n",
    "    Om_0_m=0.0455\n",
    "    Om_0_DM=0.226\n",
    "    Om_0_n=0.000027\n",
    "    Om_0_z=0.00004\n",
    "    #Om_0_L=0.728\n",
    "    #s_0=0.1\n",
    "    #w_0=0.1\n",
    "    #lam=0\n",
    "    #k_0=8*np.pi\n",
    "    #m=0.1\n",
    "\n",
    "    def f(N_0, l_0, Om_0_m, Om_0_DM, Om_0_n, Om_0_z):\n",
    "    \n",
    "            return (c/H_0)*((Om_0_m*np.exp(-N_0)+ Om_0_DM*np.exp(-N_0)+Om_0_n*np.exp(-2*N_0)+Om_0_z*np.exp(-2*N_0)+((2/3)*(np.exp(2*N_0))*(np.pi/H_0*l_0)**2))**-0.5)\n",
    "                 \n",
    "    for i in range(d):\n",
    "        k1.append( f(N[i], l[i],    Om_0_m, Om_0_DM, Om_0_n, Om_0_z) )\n",
    "    \n",
    "        k2.append( f(N[i]+h/2., l[i]+k1[i]*h/2.,    Om_0_m, Om_0_DM, Om_0_n, Om_0_z) )\n",
    "    \n",
    "        k3.append( f(N[i]+h/2.,l[i]+k2[i]*h/2.,    Om_0_m, Om_0_DM, Om_0_n, Om_0_z) )\n",
    "   \n",
    "        k4.append( f(N[i]+h,l[i]+k3[i]*h,    Om_0_m, Om_0_DM, Om_0_n, Om_0_z) )\n",
    "    \n",
    "        l.append(l[i] + (h/6.)*(k1[i] + 2.*k2[i] + 2.*k3[i] + k4[i]))\n",
    "        N.append(N[i]+h)\n",
    "        \n",
    "  #      print (k1,k2,k3,k4)\n",
    "    graph=np.vstack([N,l])\n",
    "    return graph"
   ]
  },
  {
   "cell_type": "code",
   "execution_count": 9,
   "metadata": {},
   "outputs": [
    {
     "name": "stderr",
     "output_type": "stream",
     "text": [
      "No handles with labels found to put in legend.\n"
     ]
    },
    {
     "data": {
      "image/png": "[encoded data removed]",
      "text/plain": [
       "<Figure size 432x288 with 1 Axes>"
      ]
     },
     "metadata": {
      "needs_background": "light"
     },
     "output_type": "display_data"
    }
   ],
   "source": [
    "d=20000 ###Número de loops\n",
    "h=0.01  ###El tamaño del paso\n",
    "N_0=-20   \n",
    "l_0=0.00001  ###lambda\n",
    "\n",
    "r=rk4(d,N_0,l_0,h)\n",
    "                 \n",
    "plt.plot(r[0],r[1],'r')\n",
    "plt.title(\"R_H\")\n",
    "plt.xlabel(\"$N$\")\n",
    "plt.ylabel(\"$Radio_H(N)$\")\n",
    "plt.xlim(-20,0)\n",
    "#plt.ylim(-20,)\n",
    "plt.legend(loc=\"upper right\")\n",
    "plt.grid()\n",
    "plt.show()"
   ]
  },
  {
   "cell_type": "code",
   "execution_count": 10,
   "metadata": {},
   "outputs": [
    {
     "name": "stdout",
     "output_type": "stream",
     "text": [
      "[1.00000000e-05 1.01122533e-05 1.02245178e-05 ... 3.72383194e+03\n",
      " 3.72383194e+03 3.72383194e+03]\n"
     ]
    }
   ],
   "source": [
    "print (r[1])  ###Son los datos del R_H, como ves me sale del orden poniendo H_0=67.3, en la literatura es R_H aprox 4440Mpc###\n"
   ]
  },
  {
   "cell_type": "code",
   "execution_count": 23,
   "metadata": {},
   "outputs": [
    {
     "data": {
      "text/plain": [
       "(20001,)"
      ]
     },
     "execution_count": 23,
     "metadata": {},
     "output_type": "execute_result"
    }
   ],
   "source": [
    "np.shape(L_1[0])"
   ]
  },
  {
   "cell_type": "code",
   "execution_count": 11,
   "metadata": {},
   "outputs": [],
   "source": [
    "\n",
    "\n",
    "def L(N_0,l_0):\n",
    "    return ((2/3)*(np.pi/H_0*l_0)**2)/(Om_0_m*np.exp(-3*N_0)+Om_0_DM*np.exp(-3*N_0)+Om_0_n*np.exp(-4*N_0)+Om_0_z*np.exp(-4*N_0)+(2/3)*(np.pi/H_0*l_0)**2)**0.5\n",
    "\n"
   ]
  },
  {
   "cell_type": "code",
   "execution_count": 24,
   "metadata": {},
   "outputs": [],
   "source": [
    "#L_1 = []\n",
    "\n",
    "#for i in range(len(r[0])):\n",
    "L_1=(L(r[0],r[1]))"
   ]
  },
  {
   "cell_type": "code",
   "execution_count": 25,
   "metadata": {},
   "outputs": [
    {
     "name": "stderr",
     "output_type": "stream",
     "text": [
      "No handles with labels found to put in legend.\n"
     ]
    },
    {
     "data": {
      "image/png": "[encoded data removed]",
      "text/plain": [
       "<Figure size 432x288 with 1 Axes>"
      ]
     },
     "metadata": {
      "needs_background": "light"
     },
     "output_type": "display_data"
    }
   ],
   "source": [
    "plt.plot(r[0],L_1)\n",
    "plt.title(\"Energia oscura\")\n",
    "plt.xlabel(\"$N$\")\n",
    "plt.ylabel(\"$\\Phi(N)$\")\n",
    "plt.xlim(-20,0)\n",
    "#plt.ylim(0,2)\n",
    "plt.legend(loc=\"upper right\")\n",
    "plt.grid()\n",
    "plt.show()"
   ]
  },
  {
   "cell_type": "code",
   "execution_count": null,
   "metadata": {},
   "outputs": [],
   "source": [
    "def b(N_0,l_0):\n",
    "    return ((2/3)*(np.pi/H_0*l_0)**2)/(Om_0_m*np.exp(-3*N_0)+Om_0_DM*np.exp(-3*N_0)+Om_0_n*np.exp(-4*N_0)+Om_0_z*np.exp(-4*N_0)+(2/3)*(np.pi/H_0*l_0)**2)**0.5\n",
    "\n"
   ]
  }
 ],
 "metadata": {
  "kernelspec": {
   "display_name": "Python 3",
   "language": "python",
   "name": "python3"
  },
  "language_info": {
   "codemirror_mode": {
    "name": "ipython",
    "version": 3
   },
   "file_extension": ".py",
   "mimetype": "text/x-python",
   "name": "python",
   "nbconvert_exporter": "python",
   "pygments_lexer": "ipython3",
   "version": "3.6.10"
  }
 },
 "nbformat": 4,
 "nbformat_minor": 2
}
