{
 "cells": [
  {
   "cell_type": "markdown",
   "metadata": {},
   "source": [
    "# Runge Kutta 4"
   ]
  },
  {
   "cell_type": "code",
   "execution_count": 1,
   "metadata": {},
   "outputs": [],
   "source": [
    "import numpy as np\n",
    "import matplotlib.pyplot as plt"
   ]
  },
  {
   "cell_type": "code",
   "execution_count": 2,
   "metadata": {},
   "outputs": [],
   "source": [
    "def Integrate(func,x0,y0,x,h):\n",
    "    # Finds value of y for a given x using step size h \n",
    "    # and initial value y0 at x0.\n",
    "    def RK4(func,x0,y0,h):\n",
    "        K0 = h*func(x0,y0)\n",
    "        K1 = h*func(x0 + 0.5*h, y0 + 0.5*K0)\n",
    "        K2 = h*func(x0 + 0.5*h, y0 + 0.5*K1)\n",
    "        K3 = h*func(x0 + h, y0 + K2)\n",
    "        return (K0 + 2.*K1 + 2.*K2 + K3)/6.\n",
    "    X = []\n",
    "    Y = []\n",
    "    X.append(x0)\n",
    "    Y.append(y0)\n",
    "    while x0 < x:\n",
    "         # Count number of iterations using step size or\n",
    "        h = min(h,x - x0)# step height h\n",
    "        y0 = y0 + RK4(func,x0,y0,h)#update next value of y\n",
    "        x0 = x0 + h#update next value of x\n",
    "        X.append(x0)\n",
    "        Y.append(y0)\n",
    "    return np.array(X),np.array(Y)"
   ]
  },
  {
   "cell_type": "markdown",
   "metadata": {},
   "source": [
    "Sea el problema de valores iniciales\n",
    "\n",
    "$$y'' = -0.1y' -x$$\n",
    "\n",
    "$$y(0) = 0$$\n",
    "$$y'(0) = 1$$\n",
    "cuya solución analítica es \n",
    "$$y = 100x - 5x^{2} + 990(e^{-0.1x}-1)$$"
   ]
  },
  {
   "cell_type": "markdown",
   "metadata": {},
   "source": [
    "Haciendo $y_{0} = y$ y $y_{1} = y1$ las ecuaciones de primer orden son\n",
    "\n",
    "$$F(x,y) = \\begin{pmatrix}y_{0}' \\\\ y_{1}'\\end{pmatrix} = \\begin{pmatrix} y_{1}\\\\ -0.1y_{1}-x\\end{pmatrix}$$"
   ]
  },
  {
   "cell_type": "code",
   "execution_count": null,
   "metadata": {},
   "outputs": [],
   "source": []
  },
  {
   "cell_type": "code",
   "execution_count": 3,
   "metadata": {},
   "outputs": [],
   "source": [
    "def F(x,y):\n",
    "    F = np.zeros(2)\n",
    "    F[0] = y[1]\n",
    "    F[1] = -0.1*y[1] - x\n",
    "    return F"
   ]
  },
  {
   "cell_type": "code",
   "execution_count": 4,
   "metadata": {},
   "outputs": [],
   "source": [
    "x = 0.0#start of integration\n",
    "xStop = 2.#End of integration\n",
    "y = np.array([0.,1.])#initial valie of y\n",
    "h = 0.2#step size"
   ]
  },
  {
   "cell_type": "code",
   "execution_count": 5,
   "metadata": {},
   "outputs": [],
   "source": [
    "X,Y = Integrate(F,x,y,xStop,h)"
   ]
  },
  {
   "cell_type": "code",
   "execution_count": 6,
   "metadata": {},
   "outputs": [],
   "source": [
    "yExact = 100.0*X - 5.0*X**2 + 990.0*(np.exp(-0.1*X)-1.)"
   ]
  },
  {
   "cell_type": "code",
   "execution_count": 7,
   "metadata": {},
   "outputs": [
    {
     "data": {
      "text/plain": [
       "Text(0, 0.5, 'y')"
      ]
     },
     "execution_count": 7,
     "metadata": {},
     "output_type": "execute_result"
    },
    {
     "data": {
      "image/png": "[encoded data removed]",
      "text/plain": [
       "<Figure size 432x288 with 1 Axes>"
      ]
     },
     "metadata": {
      "needs_background": "light"
     },
     "output_type": "display_data"
    }
   ],
   "source": [
    "plt.plot(X,Y[:,0],'o',label='numerical')\n",
    "plt.plot(X,yExact,'-',label='exact')\n",
    "plt.legend(loc=0)\n",
    "plt.grid(True)\n",
    "plt.xlabel('x');plt.ylabel('y')"
   ]
  },
  {
   "cell_type": "markdown",
   "metadata": {},
   "source": [
    "# Raíces de una función\n",
    "Método Newton-Raphson"
   ]
  },
  {
   "cell_type": "code",
   "execution_count": 8,
   "metadata": {},
   "outputs": [],
   "source": [
    "##Module swap\n",
    "# SwapRoes(v,i,j), swaps rows i and j of a vector or matrix [v]\n",
    "def swapRows(v,i,j):\n",
    "    if len(v.shape)==1:\n",
    "        v[i],v[j] = v[j],v[i]\n",
    "    else:\n",
    "        v[[i,j],:] = v[[j,i],:]\n",
    "#swapCols(v,i,j), swaps colums of a matrix [v]\n",
    "def swapCols(v,i,j):\n",
    "    v[:,[i,j]] = v[:,[j,i]]"
   ]
  },
  {
   "cell_type": "code",
   "execution_count": 9,
   "metadata": {},
   "outputs": [],
   "source": [
    "def gaussPivot(a,b,tol=1.0e-12):\n",
    "    n = len(b)\n",
    "    #Set up scale factors\n",
    "    s = np.zeros(n)\n",
    "    for i in range(n):\n",
    "        s[i] = max(np.abs(a[i,:]))\n",
    "    for k in range(0,n-1):\n",
    "        #Row interchange, if needed\n",
    "        p = np.argmax(np.abs(a[k:n,k]/s[k:n])) + k\n",
    "        if abs(a[p,k])<tol: quit('Matrix is singular')\n",
    "        if p!=k:\n",
    "            swapRows(b,k,p)\n",
    "            swapRows(s,k,p)\n",
    "            swapRows(a,k,p)\n",
    "        #Elimination\n",
    "        for i in range(k+1,n):\n",
    "            if a[i,k]!=0.0:\n",
    "                lam = a[i,k]/a[k,k]\n",
    "                a[i,k+1:n] = a[i,k+1:n] - lam*a[k,k+1:n]\n",
    "                b[i] = b[i] - lam*b[k]\n",
    "    if abs(a[n-1,n-1])<tol:quit('Matrix is singular')\n",
    "    #Back substitution\n",
    "    b[n-1] = b[n-1]/a[n-1,n-1]\n",
    "    for k in range(n-2,-1,-1):\n",
    "        b[k] = (b[k] - np.dot(a[k,k+1:n],b[k+1:n]))/a[k,k]\n",
    "    return b"
   ]
  },
  {
   "cell_type": "code",
   "execution_count": 10,
   "metadata": {},
   "outputs": [],
   "source": [
    "def newtonRaphson2(f,x,tol=1.0e-9): \n",
    "    def jacobian(f,x):\n",
    "        global jac\n",
    "        h = 1.0e-4\n",
    "        n = len(x)\n",
    "        jac = np.zeros((n,n))\n",
    "        f0 = f(x)\n",
    "        for i in range(n):\n",
    "            temp = x[i]\n",
    "            x[i] = temp + h\n",
    "            f1 = f(x)\n",
    "            x[i] = temp\n",
    "            jac[:,i] = (f1 - f0)/h\n",
    "        return jac, f0\n",
    "    \n",
    "    for i in range (30):\n",
    "        jac,f0 = jacobian(f,x)\n",
    "        if np.sqrt(np.dot(f0,f0)/len(x)) < tol: return x\n",
    "        dx = gaussPivot(jac,-f0)\n",
    "        x = x + dx\n",
    "        if np.sqrt(np.dot(dx,dx)) < tol*max(max(abs(x)),1.0):\n",
    "            return x"
   ]
  },
  {
   "cell_type": "markdown",
   "metadata": {},
   "source": [
    "Sea el siguiente sistema de ecuaciones:\n",
    "$$f_{1}(x,y,z) = \\sin{x} + y^{2} + \\ln{z} - 7 = 0$$\n",
    "$$f_{2}(x,y,z) = 3x + 2^{y} - z^{3} + 1 = 0$$\n",
    "$$f_{3}(x,y,z) = x + y + z-5 = 0$$\n",
    "Cuya matriz jacobiana está dada por\n",
    "$$J(x,y,z) =  \\begin{pmatrix} \\frac{\\partial f_{1}}{\\partial x} & \\frac{\\partial f_{1}}{\\partial y} & \\frac{\\partial f_{1}}{\\partial z} \\\\ \\frac{\\partial f_{2}}{\\partial x} & \\frac{\\partial f_{2}}{\\partial y} & \\frac{\\partial f_{2}}{\\partial z} \\\\ \\frac{\\partial f_{3}}{\\partial x} & \\frac{\\partial f_{3}}{\\partial y} & \\frac{\\partial f_{3}}{\\partial z} \\end{pmatrix} = \\begin{pmatrix} \\cos{x} & 2y & \\frac{1}{z} \\\\ 3 & 2^{y}\\ln{2} & -3z \\\\ 1 & 1 &1 \\end{pmatrix}$$"
   ]
  },
  {
   "cell_type": "code",
   "execution_count": 11,
   "metadata": {},
   "outputs": [],
   "source": [
    "def f(x):\n",
    "    f = np.zeros(len(x))\n",
    "    f[0] = np.sin(x[0]) + x[1]**2. + np.log(x[2]) - 7.\n",
    "    f[1] = 3.*x[0] + 2.**x[1] - x[2]**3. + 1.\n",
    "    f[2] = x[0] + x[1] + x[2] - 5.\n",
    "    return f"
   ]
  },
  {
   "cell_type": "code",
   "execution_count": 12,
   "metadata": {},
   "outputs": [],
   "source": [
    "x = np.array([1.,1.,1.])"
   ]
  },
  {
   "cell_type": "code",
   "execution_count": 13,
   "metadata": {},
   "outputs": [
    {
     "name": "stdout",
     "output_type": "stream",
     "text": [
      "[0.59905376 2.3959314  2.00501484]\n"
     ]
    }
   ],
   "source": [
    "print(newtonRaphson2(f,x))"
   ]
  },
  {
   "cell_type": "markdown",
   "metadata": {},
   "source": [
    "# Método de Shooting"
   ]
  },
  {
   "cell_type": "markdown",
   "metadata": {},
   "source": [
    "## Pozo cuadrado infinito en coordenadas esféricas\n",
    "\n",
    "Sea la siguiente ecuación diferencial\n",
    "\n",
    "$$\\frac{d^{2}u}{dr^{2}} = -k^{2} u$$,\n",
    "donde $k=\\frac{\\sqrt{2mE}}{\\hbar}$\n",
    "\n",
    "con las siguientes condiciones de frontera\n",
    "$$ u(0) = 0$$\n",
    "$$u(1) = 0$$"
   ]
  },
  {
   "cell_type": "markdown",
   "metadata": {},
   "source": [
    "Haciendo el siguiente cambio de variable\n",
    "$$y_{0} = u$$,\n",
    "$$y_{1} = u'$$,\n",
    "$$y_{2} = 0$$,\n",
    "$$y_{3} = \\int_{0}^{r}|u|^{2}dr$$,\n",
    "\n",
    "Podemos escribir a la ecuación diferencial de la siguiente forma\n",
    "\n",
    "$$y' = \\begin{pmatrix}y_{0}'\\\\ y_{1}' \\\\ y_{2}' \\\\ y_{3}'\\end{pmatrix} = \\begin{pmatrix} y_{1}\\\\ -y_{2}^{2}y_{0} \\\\ 0 \\\\ y_{0}^{2}\\end{pmatrix}$$"
   ]
  },
  {
   "cell_type": "code",
   "execution_count": 14,
   "metadata": {},
   "outputs": [],
   "source": [
    " def dudr(x,y):#first order differential eqs\n",
    "        F = np.zeros(4)\n",
    "        F[0] = y[1]\n",
    "        F[1] = -y[0]*y[2]**2.\n",
    "        F[2] = 0.\n",
    "        F[3] = y[0]**2.\n",
    "        return F"
   ]
  },
  {
   "cell_type": "code",
   "execution_count": 15,
   "metadata": {},
   "outputs": [],
   "source": [
    "def initCond(u):#Valores iniciales de [y,y',y'',y''']\n",
    "    return np.array([0.0,u[0],u[1],0.0])"
   ]
  },
  {
   "cell_type": "code",
   "execution_count": 16,
   "metadata": {},
   "outputs": [],
   "source": [
    "def res(u):#Residuo de las condiciones de frontera\n",
    "    X,Y = Integrate(dudr,x0,initCond(u),x,h)\n",
    "    y = Y[len(Y) - 1]#last value of Y\n",
    "    r = np.zeros(len(u))\n",
    "    r[0] = y[0]#y0(1)=0\n",
    "    r[1] = y[3]-1#y_3(1)=1\n",
    "    return r"
   ]
  },
  {
   "cell_type": "code",
   "execution_count": 17,
   "metadata": {},
   "outputs": [],
   "source": [
    "x0 = 0.0#Inicio de la integracion\n",
    "x = 1.0#Fin de integracion\n",
    "u1 = 8.0#Primer valor de prueba de la condicion inicial\n",
    "u2 = 2.*np.pi#Segundo valor de prueba de la condicion inicial\n",
    "h = 0.1#Tamaño del paso de integracion\n",
    "freq = 2# Printout frequency\n",
    "u = np.array([u1, u2])"
   ]
  },
  {
   "cell_type": "code",
   "execution_count": 18,
   "metadata": {},
   "outputs": [],
   "source": [
    "def printSoln(X,Y,freq):\n",
    "    \n",
    "    def printHead(n):\n",
    "        print(\"\\n  x \", end = \"\")\n",
    "        for i in range (n):\n",
    "            print ( \"  y[ \", i , \"] \", end = \" \")\n",
    "        print()\n",
    "    \n",
    "    def printLine(x,y,n):\n",
    "        print( \"{:13.4e}\".format(x), end = \" \")\n",
    "        for i in range (n):\n",
    "            print(\"{:13.4e}\".format(y[i]), end = \" \")\n",
    "        print()\n",
    "    m = len(Y)\n",
    "    try: n=len(Y[0])\n",
    "    except TypeError: n = 1\n",
    "    if freq == 0: freq = m\n",
    "    printHead(n)\n",
    "    for i in range(0,m,freq):\n",
    "        printLine(X[i],Y[i],n)\n",
    "    if i != m - 1: printLine(X[m - 1],Y[m - 1],n)"
   ]
  },
  {
   "cell_type": "code",
   "execution_count": 19,
   "metadata": {},
   "outputs": [
    {
     "name": "stdout",
     "output_type": "stream",
     "text": [
      "\n",
      "  x   y[  0 ]    y[  1 ]    y[  2 ]    y[  3 ]  \n",
      "   0.0000e+00    0.0000e+00    8.9238e+00    6.2903e+00    0.0000e+00 \n",
      "   2.0000e-01    1.3481e+00    2.7554e+00    6.2903e+00    1.5338e-01 \n",
      "   4.0000e-01    8.3251e-01   -7.2077e+00    6.2903e+00    4.7697e-01 \n",
      "   6.0000e-01   -8.3183e-01   -7.2018e+00    6.2903e+00    5.2497e-01 \n",
      "   8.0000e-01   -1.3448e+00    2.7486e+00    6.2903e+00    8.4732e-01 \n",
      "   1.0000e+00   -1.1168e-11    8.8874e+00    6.2903e+00    1.0000e+00 \n",
      "   1.0000e+00   -1.1167e-11    8.8874e+00    6.2903e+00    1.0000e+00 \n"
     ]
    }
   ],
   "source": [
    "u=newtonRaphson2(res,u,1.0e-5)#Compute the correct initial condition\n",
    "X,Y = Integrate(dudr,x0,initCond(u),x,h)\n",
    "printSoln(X,Y,freq)"
   ]
  },
  {
   "cell_type": "code",
   "execution_count": 20,
   "metadata": {},
   "outputs": [],
   "source": [
    "yE= 1.42*np.sin(u2*X)"
   ]
  },
  {
   "cell_type": "code",
   "execution_count": 21,
   "metadata": {},
   "outputs": [
    {
     "data": {
      "text/plain": [
       "<matplotlib.legend.Legend at 0x7fea052fa2d0>"
      ]
     },
     "execution_count": 21,
     "metadata": {},
     "output_type": "execute_result"
    },
    {
     "data": {
      "image/png": "[encoded data removed]",
      "text/plain": [
       "<Figure size 432x288 with 1 Axes>"
      ]
     },
     "metadata": {
      "needs_background": "light"
     },
     "output_type": "display_data"
    }
   ],
   "source": [
    "plt.plot(X,Y[:,0],label='Numerical y1')\n",
    "plt.plot(X,yE,'.',label='exact')\n",
    "plt.grid(True)\n",
    "plt.xlabel(\"x\")\n",
    "plt.ylabel(\"y\")\n",
    "plt.legend(loc='upper right', prop={'size':9})"
   ]
  },
  {
   "cell_type": "markdown",
   "metadata": {},
   "source": [
    "# Para una estrella de Bosones"
   ]
  },
  {
   "cell_type": "code",
   "execution_count": 22,
   "metadata": {},
   "outputs": [],
   "source": [
    "from scipy import optimize\n",
    "from scipy import integrate"
   ]
  },
  {
   "cell_type": "code",
   "execution_count": 23,
   "metadata": {},
   "outputs": [],
   "source": [
    "def shooting(func,u,x0,x,xf,step,k,h=0.01):\n",
    "    def res(u):# Boundary condition residual\n",
    "        X,Y = Integrate(func,x0,IC(u,k),x,h)\n",
    "        y = Y[len(Y) - 1]#last value of Y\n",
    "        r = np.zeros(len(u))\n",
    "        r[0] = y[0]#y0(inf)=0\n",
    "        r[1] = y[2]/x + y[3]#y_3(inf)/r + y_4(inf)=0\n",
    "        return r\n",
    "    x_list = []\n",
    "    root_list = []\n",
    "    while x<=xf:\n",
    "        #print(\"x=\",x)\n",
    "        x_list.append(x)\n",
    "        #print(\"u=\",u)\n",
    "        root = optimize.root(res,u)\n",
    "        #print(\"root=\",root)\n",
    "        u = root.x\n",
    "        #print(\"u=\",u)\n",
    "        root_temp = optimize.root(res,root.x)\n",
    "        #print(\"root_temp=\",root_temp)\n",
    "        root_list.append(root_temp.x)\n",
    "        X,Y = Integrate(func,x0,IC(root_temp.x,k),x,h)\n",
    "        x = x+step\n",
    "    return X,Y,root_temp,np.array(x_list),np.array(root_list)"
   ]
  },
  {
   "cell_type": "code",
   "execution_count": 24,
   "metadata": {},
   "outputs": [],
   "source": [
    "########\n",
    "def IC(u,k):#Initial conditions array, the first correspond to the initial condition in phi\n",
    "    return np.array([k,0.0,u[0],0.0,u[1]])"
   ]
  },
  {
   "cell_type": "code",
   "execution_count": 30,
   "metadata": {},
   "outputs": [],
   "source": [
    "########\n",
    "def f0(x,y):\n",
    "    l = 0.\n",
    "    F = np.zeros(5)\n",
    "    if x==0:\n",
    "        F[0] = y[1]\n",
    "        F[1] = 2.*y[0]*(y[2]-y[4])\n",
    "        F[2] = y[3]\n",
    "        F[3] = 0.\n",
    "        F[4] = 0.\n",
    "    else:\n",
    "        F[0] = y[1]\n",
    "        F[1] = -2.*(l+1.)*y[1]/x +2.*y[0]*(y[2]-y[4])\n",
    "        F[2] = y[3]\n",
    "        F[3] = (2.*l+1.)*x**(2.*l)*y[0]**2. - 2.*y[3]/x\n",
    "        F[4] = 0.\n",
    "    return F"
   ]
  },
  {
   "cell_type": "code",
   "execution_count": 34,
   "metadata": {},
   "outputs": [],
   "source": [
    "def func(x,y):\n",
    "    F = np.zeros(5)\n",
    "    F[0] = y[1]\n",
    "    F[1] = 2.*y[0]*(y[2]-y[4]) -2.*y[1]/x\n",
    "    F[2] = y[3]\n",
    "    F[3] = y[0]**2. -2.*y[3]/x\n",
    "    F[4] = 0\n",
    "    return F"
   ]
  },
  {
   "cell_type": "code",
   "execution_count": 35,
   "metadata": {},
   "outputs": [],
   "source": [
    "x0_0 = 3.#first integration\n",
    "x0_0v1 = 0.01 # Start of integration\n",
    "xf_0v1 = 10. # End of integration\n",
    "step_0 = 0.5\n",
    "u1_0 = 0.63173215# 1st trial value of unknown init. cond.\n",
    "u2_0 = 1.28125868# 2nd trial value of unknown init. cond.\n",
    "u_0 = np.array([u1_0, u2_0])\n",
    "phi0_0 = 1."
   ]
  },
  {
   "cell_type": "code",
   "execution_count": 36,
   "metadata": {},
   "outputs": [],
   "source": [
    "X0_f,Y0_f,root0_f,arr_x0,arr_list0=shooting(func,u_0,x0_0v1,x0_0,xf_0v1,step_0,k=phi0_0)"
   ]
  },
  {
   "cell_type": "code",
   "execution_count": 37,
   "metadata": {},
   "outputs": [
    {
     "data": {
      "text/plain": [
       "<matplotlib.legend.Legend at 0x7fea05dcbed0>"
      ]
     },
     "execution_count": 37,
     "metadata": {},
     "output_type": "execute_result"
    },
    {
     "data": {
      "image/png": "[encoded data removed]",
      "text/plain": [
       "<Figure size 432x288 with 1 Axes>"
      ]
     },
     "metadata": {
      "needs_background": "light"
     },
     "output_type": "display_data"
    }
   ],
   "source": [
    "plt.plot(X0_f,Y0_f[:,0],label='l=0')\n",
    "plt.grid(True)\n",
    "plt.xlabel(\"x\")\n",
    "plt.ylabel(\"y\")\n",
    "plt.legend(loc='upper right', prop={'size':10})"
   ]
  },
  {
   "cell_type": "code",
   "execution_count": null,
   "metadata": {},
   "outputs": [],
   "source": []
  }
 ],
 "metadata": {
  "kernelspec": {
   "display_name": "Python 3",
   "language": "python",
   "name": "python3"
  },
  "language_info": {
   "codemirror_mode": {
    "name": "ipython",
    "version": 3
   },
   "file_extension": ".py",
   "mimetype": "text/x-python",
   "name": "python",
   "nbconvert_exporter": "python",
   "pygments_lexer": "ipython3",
   "version": "3.6.10"
  }
 },
 "nbformat": 4,
 "nbformat_minor": 4
}
