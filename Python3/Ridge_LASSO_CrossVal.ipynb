{
 "cells": [
  {
   "cell_type": "code",
   "execution_count": 5,
   "metadata": {},
   "outputs": [
    {
     "data": {
      "text/plain": [
       "Ridge(alpha=1.0, copy_X=True, fit_intercept=True, max_iter=None,\n",
       "      normalize=False, random_state=None, solver='auto', tol=0.001)"
      ]
     },
     "execution_count": 5,
     "metadata": {},
     "output_type": "execute_result"
    }
   ],
   "source": [
    "from sklearn.linear_model import Ridge\n",
    "import numpy as np\n",
    "import matplotlib.pyplot as plt\n",
    "n_samples, n_features = 10, 5\n",
    "rng = np.random.RandomState(0)\n",
    "y = rng.randn(n_samples)\n",
    "X = rng.randn(n_samples, n_features)\n",
    "clf = Ridge(alpha=1.0)\n",
    "clf.fit(X, y)\n",
    "Ridge()"
   ]
  },
  {
   "cell_type": "code",
   "execution_count": 31,
   "metadata": {},
   "outputs": [
    {
     "data": {
      "text/plain": [
       "array([[-0.81314628, -1.7262826 ,  0.17742614, -0.40178094, -1.63019835],\n",
       "       [ 0.46278226, -0.90729836,  0.0519454 ,  0.72909056,  0.12898291],\n",
       "       [ 1.13940068, -1.23482582,  0.40234164, -0.68481009, -0.87079715],\n",
       "       [-0.57884966, -0.31155253,  0.05616534, -1.16514984,  0.90082649],\n",
       "       [ 0.46566244, -1.53624369,  1.48825219,  1.89588918,  1.17877957],\n",
       "       [-0.17992484, -1.07075262,  1.05445173, -0.40317695,  1.22244507],\n",
       "       [ 0.20827498,  0.97663904,  0.3563664 ,  0.70657317,  0.01050002],\n",
       "       [ 1.78587049,  0.12691209,  0.40198936,  1.8831507 , -1.34775906],\n",
       "       [-1.270485  ,  0.96939671, -1.17312341,  1.94362119, -0.41361898],\n",
       "       [-0.74745481,  1.92294203,  1.48051479,  1.86755896,  0.90604466]])"
      ]
     },
     "execution_count": 31,
     "metadata": {},
     "output_type": "execute_result"
    }
   ],
   "source": [
    "rng.randn(10,5)"
   ]
  },
  {
   "cell_type": "code",
   "execution_count": 12,
   "metadata": {},
   "outputs": [
    {
     "data": {
      "text/plain": [
       "0.5166287840315842"
      ]
     },
     "execution_count": 12,
     "metadata": {},
     "output_type": "execute_result"
    }
   ],
   "source": [
    "from sklearn.datasets import load_diabetes\n",
    "from sklearn.linear_model import RidgeCV\n",
    "X, y = load_diabetes(return_X_y=True)\n",
    "clf = RidgeCV(alphas=[1e-3, 1e-2, 1e-1, 1]).fit(X, y)\n",
    "clf.score(X, y)"
   ]
  },
  {
   "cell_type": "code",
   "execution_count": 24,
   "metadata": {},
   "outputs": [
    {
     "data": {
      "text/plain": [
       "<matplotlib.collections.PathCollection at 0x1e544e4e710>"
      ]
     },
     "execution_count": 24,
     "metadata": {},
     "output_type": "execute_result"
    },
    {
     "data": {
      "image/png": "[encoded data removed]",
      "text/plain": [
       "<Figure size 432x288 with 1 Axes>"
      ]
     },
     "metadata": {
      "needs_background": "light"
     },
     "output_type": "display_data"
    }
   ],
   "source": [
    "plt.scatter(X[:,1],y)"
   ]
  },
  {
   "cell_type": "code",
   "execution_count": 25,
   "metadata": {},
   "outputs": [
    {
     "data": {
      "text/plain": [
       "(442,)"
      ]
     },
     "execution_count": 25,
     "metadata": {},
     "output_type": "execute_result"
    }
   ],
   "source": [
    "np.shape(X[:,1])"
   ]
  },
  {
   "cell_type": "code",
   "execution_count": 32,
   "metadata": {},
   "outputs": [
    {
     "data": {
      "text/plain": [
       "array([ 0.05068012, -0.04464164,  0.05068012, -0.04464164, -0.04464164,\n",
       "       -0.04464164,  0.05068012,  0.05068012,  0.05068012, -0.04464164,\n",
       "       -0.04464164,  0.05068012, -0.04464164,  0.05068012, -0.04464164,\n",
       "        0.05068012, -0.04464164,  0.05068012, -0.04464164, -0.04464164,\n",
       "       -0.04464164,  0.05068012, -0.04464164,  0.05068012, -0.04464164,\n",
       "        0.05068012, -0.04464164, -0.04464164, -0.04464164,  0.05068012,\n",
       "       -0.04464164, -0.04464164,  0.05068012, -0.04464164, -0.04464164,\n",
       "        0.05068012, -0.04464164, -0.04464164,  0.05068012,  0.05068012,\n",
       "        0.05068012, -0.04464164,  0.05068012, -0.04464164,  0.05068012,\n",
       "        0.05068012, -0.04464164, -0.04464164,  0.05068012,  0.05068012,\n",
       "       -0.04464164,  0.05068012, -0.04464164, -0.04464164, -0.04464164,\n",
       "       -0.04464164, -0.04464164, -0.04464164, -0.04464164,  0.05068012,\n",
       "       -0.04464164,  0.05068012,  0.05068012, -0.04464164,  0.05068012,\n",
       "        0.05068012,  0.05068012,  0.05068012,  0.05068012, -0.04464164,\n",
       "       -0.04464164, -0.04464164,  0.05068012,  0.05068012,  0.05068012,\n",
       "        0.05068012,  0.05068012, -0.04464164, -0.04464164, -0.04464164,\n",
       "       -0.04464164,  0.05068012, -0.04464164, -0.04464164, -0.04464164,\n",
       "       -0.04464164,  0.05068012, -0.04464164,  0.05068012, -0.04464164,\n",
       "       -0.04464164, -0.04464164, -0.04464164, -0.04464164, -0.04464164,\n",
       "       -0.04464164,  0.05068012, -0.04464164,  0.05068012, -0.04464164,\n",
       "       -0.04464164,  0.05068012, -0.04464164,  0.05068012, -0.04464164,\n",
       "        0.05068012, -0.04464164, -0.04464164,  0.05068012,  0.05068012,\n",
       "        0.05068012, -0.04464164, -0.04464164,  0.05068012, -0.04464164,\n",
       "        0.05068012,  0.05068012, -0.04464164,  0.05068012, -0.04464164,\n",
       "       -0.04464164, -0.04464164,  0.05068012,  0.05068012, -0.04464164,\n",
       "        0.05068012, -0.04464164,  0.05068012, -0.04464164, -0.04464164,\n",
       "        0.05068012, -0.04464164,  0.05068012,  0.05068012, -0.04464164,\n",
       "       -0.04464164, -0.04464164, -0.04464164,  0.05068012, -0.04464164,\n",
       "        0.05068012, -0.04464164,  0.05068012, -0.04464164,  0.05068012,\n",
       "       -0.04464164,  0.05068012, -0.04464164,  0.05068012,  0.05068012,\n",
       "       -0.04464164, -0.04464164,  0.05068012,  0.05068012,  0.05068012,\n",
       "        0.05068012, -0.04464164,  0.05068012, -0.04464164, -0.04464164,\n",
       "       -0.04464164,  0.05068012, -0.04464164,  0.05068012, -0.04464164,\n",
       "       -0.04464164,  0.05068012, -0.04464164,  0.05068012, -0.04464164,\n",
       "        0.05068012, -0.04464164,  0.05068012,  0.05068012,  0.05068012,\n",
       "       -0.04464164,  0.05068012, -0.04464164, -0.04464164, -0.04464164,\n",
       "        0.05068012, -0.04464164,  0.05068012,  0.05068012, -0.04464164,\n",
       "        0.05068012,  0.05068012, -0.04464164, -0.04464164, -0.04464164,\n",
       "       -0.04464164,  0.05068012,  0.05068012,  0.05068012, -0.04464164,\n",
       "        0.05068012, -0.04464164,  0.05068012, -0.04464164, -0.04464164,\n",
       "       -0.04464164,  0.05068012,  0.05068012,  0.05068012,  0.05068012,\n",
       "       -0.04464164,  0.05068012, -0.04464164, -0.04464164,  0.05068012,\n",
       "       -0.04464164, -0.04464164, -0.04464164, -0.04464164, -0.04464164,\n",
       "        0.05068012,  0.05068012, -0.04464164, -0.04464164, -0.04464164,\n",
       "        0.05068012, -0.04464164,  0.05068012, -0.04464164, -0.04464164,\n",
       "        0.05068012,  0.05068012,  0.05068012, -0.04464164,  0.05068012,\n",
       "        0.05068012, -0.04464164,  0.05068012, -0.04464164, -0.04464164,\n",
       "        0.05068012, -0.04464164, -0.04464164,  0.05068012, -0.04464164,\n",
       "        0.05068012,  0.05068012,  0.05068012,  0.05068012,  0.05068012,\n",
       "       -0.04464164, -0.04464164, -0.04464164, -0.04464164, -0.04464164,\n",
       "       -0.04464164,  0.05068012, -0.04464164, -0.04464164,  0.05068012,\n",
       "       -0.04464164, -0.04464164,  0.05068012,  0.05068012, -0.04464164,\n",
       "       -0.04464164, -0.04464164,  0.05068012,  0.05068012,  0.05068012,\n",
       "        0.05068012,  0.05068012, -0.04464164,  0.05068012, -0.04464164,\n",
       "        0.05068012,  0.05068012, -0.04464164,  0.05068012, -0.04464164,\n",
       "        0.05068012, -0.04464164, -0.04464164,  0.05068012,  0.05068012,\n",
       "        0.05068012,  0.05068012, -0.04464164, -0.04464164,  0.05068012,\n",
       "       -0.04464164, -0.04464164, -0.04464164,  0.05068012,  0.05068012,\n",
       "        0.05068012, -0.04464164, -0.04464164, -0.04464164,  0.05068012,\n",
       "        0.05068012, -0.04464164, -0.04464164,  0.05068012,  0.05068012,\n",
       "       -0.04464164,  0.05068012, -0.04464164, -0.04464164,  0.05068012,\n",
       "        0.05068012,  0.05068012,  0.05068012, -0.04464164,  0.05068012,\n",
       "       -0.04464164, -0.04464164, -0.04464164,  0.05068012, -0.04464164,\n",
       "       -0.04464164,  0.05068012, -0.04464164, -0.04464164, -0.04464164,\n",
       "       -0.04464164, -0.04464164,  0.05068012,  0.05068012, -0.04464164,\n",
       "       -0.04464164,  0.05068012, -0.04464164, -0.04464164,  0.05068012,\n",
       "        0.05068012,  0.05068012, -0.04464164,  0.05068012,  0.05068012,\n",
       "       -0.04464164, -0.04464164,  0.05068012, -0.04464164, -0.04464164,\n",
       "       -0.04464164,  0.05068012,  0.05068012, -0.04464164, -0.04464164,\n",
       "        0.05068012,  0.05068012,  0.05068012, -0.04464164,  0.05068012,\n",
       "        0.05068012,  0.05068012,  0.05068012, -0.04464164,  0.05068012,\n",
       "        0.05068012,  0.05068012,  0.05068012, -0.04464164,  0.05068012,\n",
       "       -0.04464164, -0.04464164,  0.05068012,  0.05068012,  0.05068012,\n",
       "       -0.04464164,  0.05068012,  0.05068012,  0.05068012, -0.04464164,\n",
       "       -0.04464164,  0.05068012,  0.05068012, -0.04464164, -0.04464164,\n",
       "        0.05068012, -0.04464164,  0.05068012,  0.05068012, -0.04464164,\n",
       "       -0.04464164,  0.05068012, -0.04464164,  0.05068012,  0.05068012,\n",
       "        0.05068012, -0.04464164, -0.04464164,  0.05068012,  0.05068012,\n",
       "        0.05068012, -0.04464164,  0.05068012, -0.04464164, -0.04464164,\n",
       "       -0.04464164,  0.05068012, -0.04464164, -0.04464164,  0.05068012,\n",
       "       -0.04464164, -0.04464164,  0.05068012, -0.04464164, -0.04464164,\n",
       "        0.05068012, -0.04464164, -0.04464164, -0.04464164,  0.05068012,\n",
       "        0.05068012, -0.04464164, -0.04464164, -0.04464164,  0.05068012,\n",
       "       -0.04464164, -0.04464164, -0.04464164, -0.04464164, -0.04464164,\n",
       "       -0.04464164,  0.05068012,  0.05068012,  0.05068012,  0.05068012,\n",
       "       -0.04464164,  0.05068012,  0.05068012,  0.05068012, -0.04464164,\n",
       "       -0.04464164,  0.05068012, -0.04464164, -0.04464164, -0.04464164,\n",
       "       -0.04464164, -0.04464164,  0.05068012,  0.05068012,  0.05068012,\n",
       "       -0.04464164, -0.04464164])"
      ]
     },
     "execution_count": 32,
     "metadata": {},
     "output_type": "execute_result"
    }
   ],
   "source": [
    "X[:,1]"
   ]
  },
  {
   "cell_type": "code",
   "execution_count": 35,
   "metadata": {},
   "outputs": [
    {
     "ename": "ModuleNotFoundError",
     "evalue": "No module named 'sklearn.cross_validation'",
     "output_type": "error",
     "traceback": [
      "\u001b[1;31m---------------------------------------------------------------------------\u001b[0m",
      "\u001b[1;31mModuleNotFoundError\u001b[0m                       Traceback (most recent call last)",
      "\u001b[1;32m<ipython-input-35-2f84536523fc>\u001b[0m in \u001b[0;36m<module>\u001b[1;34m\u001b[0m\n\u001b[0;32m      5\u001b[0m \u001b[0mmatplotlib\u001b[0m\u001b[1;33m.\u001b[0m\u001b[0mrcParams\u001b[0m\u001b[1;33m.\u001b[0m\u001b[0mupdate\u001b[0m\u001b[1;33m(\u001b[0m\u001b[1;33m{\u001b[0m\u001b[1;34m'font.size'\u001b[0m\u001b[1;33m:\u001b[0m \u001b[1;36m12\u001b[0m\u001b[1;33m}\u001b[0m\u001b[1;33m)\u001b[0m\u001b[1;33m\u001b[0m\u001b[1;33m\u001b[0m\u001b[0m\n\u001b[0;32m      6\u001b[0m \u001b[1;32mfrom\u001b[0m \u001b[0msklearn\u001b[0m\u001b[1;33m.\u001b[0m\u001b[0mdatasets\u001b[0m \u001b[1;32mimport\u001b[0m \u001b[0mload_boston\u001b[0m\u001b[1;33m\u001b[0m\u001b[1;33m\u001b[0m\u001b[0m\n\u001b[1;32m----> 7\u001b[1;33m \u001b[1;32mfrom\u001b[0m \u001b[0msklearn\u001b[0m\u001b[1;33m.\u001b[0m\u001b[0mcross_validation\u001b[0m \u001b[1;32mimport\u001b[0m \u001b[0mtrain_test_split\u001b[0m\u001b[1;33m\u001b[0m\u001b[1;33m\u001b[0m\u001b[0m\n\u001b[0m\u001b[0;32m      8\u001b[0m \u001b[1;32mfrom\u001b[0m \u001b[0msklearn\u001b[0m\u001b[1;33m.\u001b[0m\u001b[0mlinear_model\u001b[0m \u001b[1;32mimport\u001b[0m \u001b[0mLinearRegression\u001b[0m\u001b[1;33m\u001b[0m\u001b[1;33m\u001b[0m\u001b[0m\n\u001b[0;32m      9\u001b[0m \u001b[1;32mfrom\u001b[0m \u001b[0msklearn\u001b[0m\u001b[1;33m.\u001b[0m\u001b[0mlinear_model\u001b[0m \u001b[1;32mimport\u001b[0m \u001b[0mRidge\u001b[0m\u001b[1;33m\u001b[0m\u001b[1;33m\u001b[0m\u001b[0m\n",
      "\u001b[1;31mModuleNotFoundError\u001b[0m: No module named 'sklearn.cross_validation'"
     ]
    }
   ],
   "source": [
    "import matplotlib.pyplot as plt\n",
    "import numpy as np \n",
    "import pandas as pd\n",
    "import matplotlib\n",
    "matplotlib.rcParams.update({'font.size': 12})\n",
    "from sklearn.datasets import load_boston\n",
    "from sklearn.cross_validation import train_test_split\n",
    "from sklearn.linear_model import LinearRegression\n",
    "from sklearn.linear_model import Ridge\n",
    "boston=load_boston()\n",
    "boston_df=pd.DataFrame(boston.data,columns=boston.feature_names)\n",
    "#print boston_df.info()\n",
    "# add another column that contains the house prices which in scikit learn datasets are considered as target\n",
    "boston_df['Price']=boston.target\n",
    "#print boston_df.head(3)\n",
    "newX=boston_df.drop('Price',axis=1)\n",
    "print(newX[0:3]) # check \n",
    "newY=boston_df['Price']\n",
    "#print type(newY)# pandas core frame\n",
    "X_train,X_test,y_train,y_test=train_test_split(newX,newY,test_size=0.3,random_state=3)\n",
    "print(len(X_test), len(y_test))\n",
    "lr = LinearRegression()\n",
    "lr.fit(X_train, y_train)\n",
    "rr = Ridge(alpha=0.01) \n",
    "# higher the alpha value, more restriction on the coefficients; low alpha > more generalization,\n",
    "# in this case linear and ridge regression resembles\n",
    "rr.fit(X_train, y_train)\n",
    "rr100 = Ridge(alpha=100) #  comparison with alpha value\n",
    "rr100.fit(X_train, y_train)\n",
    "train_score=lr.score(X_train, y_train)\n",
    "test_score=lr.score(X_test, y_test)\n",
    "Ridge_train_score = rr.score(X_train,y_train)\n",
    "Ridge_test_score = rr.score(X_test, y_test)\n",
    "Ridge_train_score100 = rr100.score(X_train,y_train)\n",
    "Ridge_test_score100 = rr100.score(X_test, y_test)\n",
    "plt.plot(rr.coef_,alpha=0.7,linestyle='none',marker='*',markersize=5,color='red',label=r'Ridge; $\\alpha = 0.01$',zorder=7) \n",
    "plt.plot(rr100.coef_,alpha=0.5,linestyle='none',marker='d',markersize=6,color='blue',label=r'Ridge; $\\alpha = 100$') \n",
    "plt.plot(lr.coef_,alpha=0.4,linestyle='none',marker='o',markersize=7,color='green',label='Linear Regression')\n",
    "plt.xlabel('Coefficient Index',fontsize=16)\n",
    "plt.ylabel('Coefficient Magnitude',fontsize=16)\n",
    "plt.legend(fontsize=13,loc=4)\n",
    "plt.show()"
   ]
  }
 ],
 "metadata": {
  "kernelspec": {
   "display_name": "Python 3",
   "language": "python",
   "name": "python3"
  },
  "language_info": {
   "codemirror_mode": {
    "name": "ipython",
    "version": 3
   },
   "file_extension": ".py",
   "mimetype": "text/x-python",
   "name": "python",
   "nbconvert_exporter": "python",
   "pygments_lexer": "ipython3",
   "version": "3.6.10"
  }
 },
 "nbformat": 4,
 "nbformat_minor": 2
}
