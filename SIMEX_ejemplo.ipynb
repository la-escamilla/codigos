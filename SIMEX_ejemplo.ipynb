{
 "cells": [
  {
   "cell_type": "code",
   "execution_count": 45,
   "metadata": {},
   "outputs": [
    {
     "name": "stdout",
     "output_type": "stream",
     "text": [
      "[[1.         1.1        3.         3.5       ]\n",
      " [1.14142136 1.31213203 3.14142136 3.57071068]\n",
      " [1.2        1.4        3.2        3.6       ]\n",
      " [1.24494897 1.46742346 3.24494897 3.62247449]\n",
      " [1.28284271 1.52426407 3.28284271 3.64142136]]\n"
     ]
    },
    {
     "data": {
      "text/plain": [
       "<matplotlib.collections.PathCollection at 0xbbb9cf8>"
      ]
     },
     "execution_count": 45,
     "metadata": {},
     "output_type": "execute_result"
    },
    {
     "data": {
      "image/png": "[encoded data removed]",
      "text/plain": [
       "<Figure size 432x288 with 1 Axes>"
      ]
     },
     "metadata": {
      "needs_background": "light"
     },
     "output_type": "display_data"
    }
   ],
   "source": [
    "import numpy as np\n",
    "import matplotlib.pyplot as plt\n",
    "\n",
    "y =     [1   ,1.1  ,3   ,3.5]\n",
    "sigma = [0.2 ,0.3 ,0.2 ,0.1]\n",
    "lam = [0.0,0.5,1.0,1.5,2.0]\n",
    "#lam = np.linspace(0.0,2.0,21)\n",
    "\n",
    "eta=np.zeros((len(lam),len(y)))\n",
    "for ii in range(len(y)):\n",
    "    for jj in range(len(lam)):\n",
    "        eta[jj,ii]+=y[ii]+np.sqrt(lam[jj])*sigma[ii]\n",
    "        \n",
    "        \n",
    "eta_simex = eta[:,0]\n",
    "print(eta)        \n",
    "plt.scatter(lam,eta_simex)"
   ]
  },
  {
   "cell_type": "code",
   "execution_count": 48,
   "metadata": {},
   "outputs": [
    {
     "name": "stdout",
     "output_type": "stream",
     "text": [
      " \n",
      "0.1338 x + 1.04\n"
     ]
    },
    {
     "data": {
      "image/png": "[encoded data removed]",
      "text/plain": [
       "<Figure size 432x288 with 1 Axes>"
      ]
     },
     "metadata": {
      "needs_background": "light"
     },
     "output_type": "display_data"
    }
   ],
   "source": [
    "model = np.poly1d(np.polyfit(lam, eta_simex, 1))\n",
    "\n",
    "#add fitted polynomial line to scatterplot\n",
    "polyline = np.linspace(0, 2, 50)\n",
    "plt.scatter(lam, eta_simex)\n",
    "plt.plot(polyline, model(polyline))\n",
    "print(model)\n",
    "plt.show()"
   ]
  },
  {
   "cell_type": "code",
   "execution_count": 50,
   "metadata": {},
   "outputs": [
    {
     "data": {
      "text/plain": [
       "<matplotlib.collections.PathCollection at 0xb5d5080>"
      ]
     },
     "execution_count": 50,
     "metadata": {},
     "output_type": "execute_result"
    },
    {
     "data": {
      "image/png": "[encoded data removed]",
      "text/plain": [
       "<Figure size 432x288 with 1 Axes>"
      ]
     },
     "metadata": {
      "needs_background": "light"
     },
     "output_type": "display_data"
    }
   ],
   "source": [
    "x=[0,1,2,3]\n",
    "\n",
    "a=np.zeros((len(x),1))\n",
    "for ii in range(len(y)):\n",
    "    a[ii] += np.poly1d(np.polyfit(lam, eta[:,ii], 1))[0]-np.poly1d(np.polyfit(lam, eta[:,ii], 1))[1]+ np.poly1d(np.polyfit(lam, eta[:,ii], 1))[2]\n",
    "    \n",
    "plt.scatter(x,y)\n",
    "plt.scatter(x,a)"
   ]
  },
  {
   "cell_type": "code",
   "execution_count": null,
   "metadata": {},
   "outputs": [],
   "source": []
  },
  {
   "cell_type": "code",
   "execution_count": null,
   "metadata": {},
   "outputs": [],
   "source": []
  }
 ],
 "metadata": {
  "kernelspec": {
   "display_name": "Python 2",
   "language": "python",
   "name": "python2"
  },
  "language_info": {
   "codemirror_mode": {
    "name": "ipython",
    "version": 2
   },
   "file_extension": ".py",
   "mimetype": "text/x-python",
   "name": "python",
   "nbconvert_exporter": "python",
   "pygments_lexer": "ipython2",
   "version": "2.7.16"
  }
 },
 "nbformat": 4,
 "nbformat_minor": 2
}
