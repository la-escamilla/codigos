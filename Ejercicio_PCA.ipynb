{
 "cells": [
  {
   "cell_type": "markdown",
   "metadata": {},
   "source": [
    "# Ejemplo desde cero"
   ]
  },
  {
   "cell_type": "code",
   "execution_count": 1,
   "metadata": {},
   "outputs": [],
   "source": [
    "# En esta parte importamos las librerias relevantes\n",
    "# Tambien definimos el conjunto de datos \"x\" y \"y\" y sus respectivas matrices de covarianza (cov)\n",
    "# y sus eigenvalores y eigenvectores\n",
    "\n",
    "import numpy as np\n",
    "import matplotlib.pyplot as plt\n",
    "x = [2.5,0.5,2.2,1.9,3.1,2.3,2,1,1.5,1.1]\n",
    "y = [2.4,0.7,2.9,2.2,3.0,2.7,1.6,1.1,1.6,0.9]\n",
    "data = np.vstack([x,y])\n",
    "\n",
    "cov = np.cov(x,y)\n",
    "eigen = np.linalg.eig(cov)\n",
    "mat = np.matrix(eigen[1])"
   ]
  },
  {
   "cell_type": "code",
   "execution_count": 2,
   "metadata": {},
   "outputs": [
    {
     "name": "stdout",
     "output_type": "stream",
     "text": [
      "[[0.61655556 0.61544444]\n",
      " [0.61544444 0.71655556]]\n",
      "('eigenvalores', array([0.0490834 , 1.28402771]))\n",
      "('eigenvectores', array([[-0.73517866, -0.6778734 ],\n",
      "       [ 0.6778734 , -0.73517866]]))\n"
     ]
    },
    {
     "data": {
      "image/png": "[encoded data removed]",
      "text/plain": [
       "<Figure size 360x360 with 1 Axes>"
      ]
     },
     "metadata": {
      "needs_background": "light"
     },
     "output_type": "display_data"
    }
   ],
   "source": [
    "# Aqui graficamos los datos solo para visualizarlos\n",
    "\n",
    "plt.figure(figsize=(5,5))\n",
    "plt.scatter(y,x)\n",
    "print(cov)\n",
    "print('eigenvalores', eigen[0])\n",
    "print('eigenvectores', eigen[1])"
   ]
  },
  {
   "cell_type": "code",
   "execution_count": 9,
   "metadata": {},
   "outputs": [
    {
     "data": {
      "text/plain": [
       "<matplotlib.collections.PathCollection at 0xbb10cc0>"
      ]
     },
     "execution_count": 9,
     "metadata": {},
     "output_type": "execute_result"
    },
    {
     "data": {
      "image/png": "[encoded data removed]",
      "text/plain": [
       "<Figure size 504x180 with 1 Axes>"
      ]
     },
     "metadata": {
      "needs_background": "light"
     },
     "output_type": "display_data"
    }
   ],
   "source": [
    "# Aqui se hace el cambio de base a los componentes principales y se grafica\n",
    "# Se observa que los puntos son iguales pero rotados unos 166.78332 grados en contra de las manecillas del reloj\n",
    "\n",
    "new_data = np.asarray(np.matmul(np.transpose(mat), data))\n",
    "plt.figure(figsize=(7,2.5))\n",
    "plt.scatter(new_data[1],new_data[0])"
   ]
  },
  {
   "cell_type": "code",
   "execution_count": 4,
   "metadata": {},
   "outputs": [
    {
     "data": {
      "text/plain": [
       "<matplotlib.collections.PathCollection at 0x812ef98>"
      ]
     },
     "execution_count": 4,
     "metadata": {},
     "output_type": "execute_result"
    },
    {
     "data": {
      "image/png": "[encoded data removed]",
      "text/plain": [
       "<Figure size 360x360 with 1 Axes>"
      ]
     },
     "metadata": {
      "needs_background": "light"
     },
     "output_type": "display_data"
    }
   ],
   "source": [
    "# En esta parte procedemos a realizar la reducción dimensional \n",
    "# y \"recuperamos\" los datos originales pero con menos ruido o \"varianza\"\n",
    "\n",
    "\n",
    "data_reduced = np.asarray(np.matmul(np.transpose(np.matrix([mat[0,1],mat[1,1]])),(np.matrix(new_data[1]))))\n",
    "plt.figure(figsize=(5,5))\n",
    "plt.scatter(data_reduced[0],data_reduced[1])"
   ]
  },
  {
   "cell_type": "code",
   "execution_count": 5,
   "metadata": {},
   "outputs": [
    {
     "data": {
      "text/plain": [
       "<matplotlib.collections.PathCollection at 0x81e5550>"
      ]
     },
     "execution_count": 5,
     "metadata": {},
     "output_type": "execute_result"
    },
    {
     "data": {
      "image/png": "[encoded data removed]",
      "text/plain": [
       "<Figure size 360x360 with 1 Axes>"
      ]
     },
     "metadata": {
      "needs_background": "light"
     },
     "output_type": "display_data"
    }
   ],
   "source": [
    "# Grafica donde se comparan ambos conjuntos de datos, antes y despues de hacer PCA\n",
    "\n",
    "plt.figure(figsize=(5,5))\n",
    "plt.scatter(x,y)\n",
    "plt.scatter(data_reduced[0],data_reduced[1])"
   ]
  },
  {
   "cell_type": "markdown",
   "metadata": {},
   "source": [
    "# Ejemplo con scikit"
   ]
  },
  {
   "cell_type": "code",
   "execution_count": 6,
   "metadata": {},
   "outputs": [],
   "source": [
    "# Esta parte solo es para importar la libreria necesaria y definir los datos (son los mismos que en el ejemplo anterior)\n",
    "\n",
    "from sklearn.decomposition import PCA\n",
    "data_sk = np.transpose(data)\n"
   ]
  },
  {
   "cell_type": "code",
   "execution_count": 10,
   "metadata": {},
   "outputs": [
    {
     "data": {
      "text/plain": [
       "array([0.96318131, 0.03681869])"
      ]
     },
     "execution_count": 10,
     "metadata": {},
     "output_type": "execute_result"
    },
    {
     "data": {
      "image/png": "[encoded data removed]",
      "text/plain": [
       "<Figure size 504x144 with 1 Axes>"
      ]
     },
     "metadata": {
      "needs_background": "light"
     },
     "output_type": "display_data"
    }
   ],
   "source": [
    "# En esta parte se hace el cambio de base\n",
    "\n",
    "pca = PCA(n_components=2)\n",
    "principalComponents = pca.fit_transform(data_sk)\n",
    "plt.figure(figsize=(7,2))\n",
    "\n",
    "# Esta parte es la que grafica\n",
    "\n",
    "for ii in range(len(principalComponents)):\n",
    "    plt.scatter(principalComponents[ii][0], \n",
    "                principalComponents[ii][1])\n",
    "    \n",
    "# Esta parte nos dice cuanta informacion tiene cada componente principal\n",
    "\n",
    "pca.explained_variance_ratio_"
   ]
  },
  {
   "cell_type": "code",
   "execution_count": 8,
   "metadata": {},
   "outputs": [
    {
     "data": {
      "image/png": "[encoded data removed]",
      "text/plain": [
       "<Figure size 432x288 with 1 Axes>"
      ]
     },
     "metadata": {
      "needs_background": "light"
     },
     "output_type": "display_data"
    }
   ],
   "source": [
    "# Esta parte es la que hace la reduccion dimensional\n",
    "pca = PCA(n_components=1)\n",
    "pca.inverse_transform(pca.fit_transform(data_sk))\n",
    "\n",
    "# Esto es para graficar\n",
    "for ii in range(len(pca.inverse_transform(pca.fit_transform(data_sk)))):\n",
    "    plt.scatter(pca.inverse_transform(pca.fit_transform(data_sk))[ii][0], \n",
    "                pca.inverse_transform(pca.fit_transform(data_sk))[ii][1] )"
   ]
  },
  {
   "cell_type": "markdown",
   "metadata": {},
   "source": [
    "# Ejemplo con la planta iris-setosa"
   ]
  },
  {
   "cell_type": "code",
   "execution_count": 21,
   "metadata": {},
   "outputs": [
    {
     "data": {
      "text/html": [
       "<div>\n",
       "<style scoped>\n",
       "    .dataframe tbody tr th:only-of-type {\n",
       "        vertical-align: middle;\n",
       "    }\n",
       "\n",
       "    .dataframe tbody tr th {\n",
       "        vertical-align: top;\n",
       "    }\n",
       "\n",
       "    .dataframe thead th {\n",
       "        text-align: right;\n",
       "    }\n",
       "</style>\n",
       "<table border=\"1\" class=\"dataframe\">\n",
       "  <thead>\n",
       "    <tr style=\"text-align: right;\">\n",
       "      <th></th>\n",
       "      <th>sepal length</th>\n",
       "      <th>sepal width</th>\n",
       "      <th>petal length</th>\n",
       "      <th>petal width</th>\n",
       "      <th>target</th>\n",
       "    </tr>\n",
       "  </thead>\n",
       "  <tbody>\n",
       "    <tr>\n",
       "      <th>0</th>\n",
       "      <td>5.1</td>\n",
       "      <td>3.5</td>\n",
       "      <td>1.4</td>\n",
       "      <td>0.2</td>\n",
       "      <td>Iris-setosa</td>\n",
       "    </tr>\n",
       "    <tr>\n",
       "      <th>1</th>\n",
       "      <td>4.9</td>\n",
       "      <td>3.0</td>\n",
       "      <td>1.4</td>\n",
       "      <td>0.2</td>\n",
       "      <td>Iris-setosa</td>\n",
       "    </tr>\n",
       "    <tr>\n",
       "      <th>2</th>\n",
       "      <td>4.7</td>\n",
       "      <td>3.2</td>\n",
       "      <td>1.3</td>\n",
       "      <td>0.2</td>\n",
       "      <td>Iris-setosa</td>\n",
       "    </tr>\n",
       "    <tr>\n",
       "      <th>3</th>\n",
       "      <td>4.6</td>\n",
       "      <td>3.1</td>\n",
       "      <td>1.5</td>\n",
       "      <td>0.2</td>\n",
       "      <td>Iris-setosa</td>\n",
       "    </tr>\n",
       "    <tr>\n",
       "      <th>4</th>\n",
       "      <td>5.0</td>\n",
       "      <td>3.6</td>\n",
       "      <td>1.4</td>\n",
       "      <td>0.2</td>\n",
       "      <td>Iris-setosa</td>\n",
       "    </tr>\n",
       "  </tbody>\n",
       "</table>\n",
       "</div>"
      ],
      "text/plain": [
       "   sepal length  sepal width  petal length  petal width       target\n",
       "0           5.1          3.5           1.4          0.2  Iris-setosa\n",
       "1           4.9          3.0           1.4          0.2  Iris-setosa\n",
       "2           4.7          3.2           1.3          0.2  Iris-setosa\n",
       "3           4.6          3.1           1.5          0.2  Iris-setosa\n",
       "4           5.0          3.6           1.4          0.2  Iris-setosa"
      ]
     },
     "execution_count": 21,
     "metadata": {},
     "output_type": "execute_result"
    }
   ],
   "source": [
    "import pandas as pd\n",
    "\n",
    "# load dataset into Pandas DataFrame\n",
    "df = pd.read_csv('iris.data', names=['sepal length','sepal width','petal length','petal width','target'])\n",
    "df.head()"
   ]
  },
  {
   "cell_type": "code",
   "execution_count": 29,
   "metadata": {},
   "outputs": [
    {
     "data": {
      "text/html": [
       "<div>\n",
       "<style scoped>\n",
       "    .dataframe tbody tr th:only-of-type {\n",
       "        vertical-align: middle;\n",
       "    }\n",
       "\n",
       "    .dataframe tbody tr th {\n",
       "        vertical-align: top;\n",
       "    }\n",
       "\n",
       "    .dataframe thead th {\n",
       "        text-align: right;\n",
       "    }\n",
       "</style>\n",
       "<table border=\"1\" class=\"dataframe\">\n",
       "  <thead>\n",
       "    <tr style=\"text-align: right;\">\n",
       "      <th></th>\n",
       "      <th>principal component 1</th>\n",
       "      <th>principal component 2</th>\n",
       "      <th>target</th>\n",
       "    </tr>\n",
       "  </thead>\n",
       "  <tbody>\n",
       "    <tr>\n",
       "      <th>0</th>\n",
       "      <td>-2.264542</td>\n",
       "      <td>0.505704</td>\n",
       "      <td>Iris-setosa</td>\n",
       "    </tr>\n",
       "    <tr>\n",
       "      <th>1</th>\n",
       "      <td>-2.086426</td>\n",
       "      <td>-0.655405</td>\n",
       "      <td>Iris-setosa</td>\n",
       "    </tr>\n",
       "    <tr>\n",
       "      <th>2</th>\n",
       "      <td>-2.367950</td>\n",
       "      <td>-0.318477</td>\n",
       "      <td>Iris-setosa</td>\n",
       "    </tr>\n",
       "    <tr>\n",
       "      <th>3</th>\n",
       "      <td>-2.304197</td>\n",
       "      <td>-0.575368</td>\n",
       "      <td>Iris-setosa</td>\n",
       "    </tr>\n",
       "    <tr>\n",
       "      <th>4</th>\n",
       "      <td>-2.388777</td>\n",
       "      <td>0.674767</td>\n",
       "      <td>Iris-setosa</td>\n",
       "    </tr>\n",
       "  </tbody>\n",
       "</table>\n",
       "</div>"
      ],
      "text/plain": [
       "   principal component 1  principal component 2       target\n",
       "0              -2.264542               0.505704  Iris-setosa\n",
       "1              -2.086426              -0.655405  Iris-setosa\n",
       "2              -2.367950              -0.318477  Iris-setosa\n",
       "3              -2.304197              -0.575368  Iris-setosa\n",
       "4              -2.388777               0.674767  Iris-setosa"
      ]
     },
     "execution_count": 29,
     "metadata": {},
     "output_type": "execute_result"
    }
   ],
   "source": [
    "from sklearn.preprocessing import StandardScaler\n",
    "features = ['sepal length', 'sepal width', 'petal length', 'petal width']\n",
    "# Separating out the features\n",
    "x = df.loc[:, features].values\n",
    "# Separating out the target\n",
    "y = df.loc[:,['target']].values\n",
    "# Standardizing the features\n",
    "x = StandardScaler().fit_transform(x)\n",
    "\n",
    "from sklearn.decomposition import PCA\n",
    "pca = PCA(n_components=0.95)\n",
    "principalComponents = pca.fit_transform(x)\n",
    "principalDf = pd.DataFrame(data = principalComponents\n",
    "             , columns = ['principal component 1', 'principal component 2'])\n",
    "\n",
    "finalDf = pd.concat([principalDf, df[['target']]], axis = 1)\n",
    "finalDf.head()\n",
    "#pca.explained_variance_ratio_"
   ]
  },
  {
   "cell_type": "code",
   "execution_count": 24,
   "metadata": {},
   "outputs": [
    {
     "data": {
      "image/png": "[encoded data removed]",
      "text/plain": [
       "<Figure size 576x576 with 1 Axes>"
      ]
     },
     "metadata": {
      "needs_background": "light"
     },
     "output_type": "display_data"
    }
   ],
   "source": [
    "import matplotlib.pyplot as plt\n",
    "fig = plt.figure(figsize = (8,8))\n",
    "ax = fig.add_subplot(1,1,1) \n",
    "ax.set_xlabel('Principal Component 1', fontsize = 15)\n",
    "ax.set_ylabel('Principal Component 2', fontsize = 15)\n",
    "ax.set_title('2 component PCA', fontsize = 20)\n",
    "targets = ['Iris-setosa', 'Iris-versicolor', 'Iris-virginica']\n",
    "colors = ['r', 'g', 'b']\n",
    "for target, color in zip(targets,colors):\n",
    "    indicesToKeep = finalDf['target'] == target\n",
    "    ax.scatter(finalDf.loc[indicesToKeep, 'principal component 1']\n",
    "               , finalDf.loc[indicesToKeep, 'principal component 2']\n",
    "               , c = color\n",
    "               , s = 50)\n",
    "ax.legend(targets)\n",
    "ax.grid()"
   ]
  },
  {
   "cell_type": "markdown",
   "metadata": {},
   "source": [
    "# Bonus: ejemplo aplicado a cosmologia bien chida de mi articulo"
   ]
  },
  {
   "cell_type": "code",
   "execution_count": 20,
   "metadata": {},
   "outputs": [
    {
     "data": {
      "text/plain": [
       "<matplotlib.legend.Legend at 0xda7a748>"
      ]
     },
     "execution_count": 20,
     "metadata": {},
     "output_type": "execute_result"
    },
    {
     "data": {
      "image/png": "[encoded data removed]",
      "text/plain": [
       "<Figure size 432x288 with 1 Axes>"
      ]
     },
     "metadata": {
      "needs_background": "light"
     },
     "output_type": "display_data"
    }
   ],
   "source": [
    "import numpy as np\n",
    "import matplotlib.pyplot as plt\n",
    "\n",
    "n_pca = 3\n",
    "\n",
    "matriz_cov = np.loadtxt('owaCDM2_cov.txt')\n",
    "matriz_cov = np.matrix(matriz_cov)\n",
    "error = np.sqrt(np.diag(matriz_cov))\n",
    "fisher = np.linalg.inv(matriz_cov)\n",
    "fish_eig = np.linalg.eig(fisher)\n",
    "\n",
    "d = np.diag(fish_eig[0])\n",
    "w = np.transpose(fish_eig[1])\n",
    "wt = fish_eig[1]\n",
    "pt = [-1.0048, -0.697779, -0.422577, -1.16662, -2.97, -2.38769, -0.849161]\n",
    "z = [ 0.0, 0.5, 1.0, 1.5, 2.0, 2.5, 3.0]\n",
    "pt = np.matrix(pt)\n",
    "p = np.transpose(pt)\n",
    "q = np.matmul(w,p)\n",
    "\n",
    "wz = w[0]*np.asscalar(q[0])\n",
    "for ii in range(n_pca-1):\n",
    "    wz += w[ii+1]*np.asscalar(q[ii+1])\n",
    "\n",
    "sigma_squared_q = 1/(np.diag(d))\n",
    "sigma_wz = (sigma_squared_q[0])*(np.array(w[0])[0]**2)\n",
    "for ii in range(n_pca-1):\n",
    "    sigma_wz += (sigma_squared_q[ii+1])*(np.array(w[ii+1])[0]**2)\n",
    "sigma_wz = sigma_wz**0.5\n",
    "    \n",
    "plt.errorbar(z, np.array(pt)[0],yerr=error, fmt='-',capsize=3)\n",
    "plt.errorbar(z, np.array(wz)[0],yerr=sigma_wz, fmt='-',capsize=3)\n",
    "\n",
    "plt.ylabel('w(z)')\n",
    "plt.xlabel('z')\n",
    "\n",
    "plt.legend(('Before PCA','After PCA (3 pc)'))"
   ]
  },
  {
   "cell_type": "code",
   "execution_count": 17,
   "metadata": {},
   "outputs": [
    {
     "name": "stdout",
     "output_type": "stream",
     "text": [
      "271.22291597376966\n",
      "0.9850362892567269\n"
     ]
    }
   ],
   "source": [
    "suma = 0\n",
    "for ii in range(len(fish_eig[0])):\n",
    "    suma+=fish_eig[0][ii]\n",
    "print(suma)\n",
    "print (fish_eig[0][0]+fish_eig[0][1]+fish_eig[0][2])/suma"
   ]
  },
  {
   "cell_type": "code",
   "execution_count": 2,
   "metadata": {},
   "outputs": [
    {
     "data": {
      "text/plain": [
       "<matplotlib.legend.Legend at 0x92a2048>"
      ]
     },
     "execution_count": 2,
     "metadata": {},
     "output_type": "execute_result"
    },
    {
     "data": {
      "image/png": "[encoded data removed]",
      "text/plain": [
       "<Figure size 432x288 with 1 Axes>"
      ]
     },
     "metadata": {
      "needs_background": "light"
     },
     "output_type": "display_data"
    }
   ],
   "source": [
    "from scipy.integrate import quad\n",
    "import numpy as np\n",
    "import matplotlib.pyplot as plt\n",
    "\n",
    "#ecuacion de estado de la energia oscura en forma de bines\n",
    "\n",
    "def eos(z, xi):\n",
    "    w_i = [-1 ,-1.2 ,-1.1 ,-0.9 ,-1.1 ,-0.9,-0.7,-1.5]\n",
    "    #w_i = [1,1,1,1,1,1,2,2]\n",
    "    z_i = np.linspace(0.0,3.0,len(w_i)+1)\n",
    "    #z_i = [0  ,0.1  ,0.2  , 0.4 , 0.6 , 0.8, 1.0 ,1.3]\n",
    "    def bines(w_2,w_1,z_2,z_1,eta):\n",
    "        return (w_2-w_1)*(1+np.tanh((z_2-z_1)/eta))/2\n",
    "    w=w_i[0]\n",
    "    for jj in range(len(w_i)-1):\n",
    "        w+=bines(w_i[jj+1],w_i[jj],z,z_i[jj+1],xi)\n",
    "    return w\n",
    "\n",
    "z=np.linspace(0.0,4.0,100)\n",
    "plt.plot(z,eos(z,0.01))\n",
    "plt.plot(z,eos(z,0.1))\n",
    "plt.ylabel(r'w(z)')\n",
    "plt.xlabel(r'z')\n",
    "plt.legend((r'$\\xi = 0.01$',r'$\\xi = 0.1$'))"
   ]
  },
  {
   "cell_type": "code",
   "execution_count": null,
   "metadata": {},
   "outputs": [],
   "source": []
  }
 ],
 "metadata": {
  "kernelspec": {
   "display_name": "Python 2",
   "language": "python",
   "name": "python2"
  },
  "language_info": {
   "codemirror_mode": {
    "name": "ipython",
    "version": 2
   },
   "file_extension": ".py",
   "mimetype": "text/x-python",
   "name": "python",
   "nbconvert_exporter": "python",
   "pygments_lexer": "ipython2",
   "version": "2.7.16"
  }
 },
 "nbformat": 4,
 "nbformat_minor": 2
}
